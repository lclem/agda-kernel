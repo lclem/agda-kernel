{
 "cells": [
  {
   "cell_type": "markdown",
   "metadata": {
    "code_hole_highlighter": [],
    "codehighlighter": [],
    "id": 0,
    "summary": true
   },
   "source": [
    "<h6>Summary<span class=\"summary\"></span></h6><a href=\"#test4\"><span class=\"module-name-text-summary\" style=\"white-space: nowrap;\">test4</span></a><span class=\"module-name-text-summary\">, </span><a href=\"#test5\"><span class=\"module-name-text-summary\" style=\"white-space: nowrap;\">test5</span></a>\n"
   ]
  },
  {
   "cell_type": "markdown",
   "metadata": {
    "code_hole_highlighter": [],
    "codehighlighter": []
   },
   "source": [
    "This is a short tutorial on the main feature of the [Agda kernel](https://github.com/lclem/agda-kernel/) + [Agda extension](https://github.com/lclem/jupyter_contrib_nbextensions) for Jupyter.\n",
    "\n",
    "Each notebook starts with a **Summary** section (see above) which is generated automatically and displays a summary of the Agda modules which have been run.\n",
    "\n",
    "As usual, a notebook is comprised of markdown cells (like this one) and code cells, like the one that follows."
   ]
  },
  {
   "cell_type": "code",
   "execution_count": null,
   "metadata": {
    "code_hole_highlighter": [],
    "codehighlighter": [],
    "fileName": "/Users/lorenzo/Development/agda-kernel/example/test1.agda",
    "holes": [],
    "id": 2,
    "moduleName": "test1",
    "preambleLength": 0
   },
   "outputs": [],
   "source": [
    "module test1 where\n",
    "\n",
    "id : ∀ {A : Set} → A → A\n",
    "id x = x"
   ]
  },
  {
   "cell_type": "markdown",
   "metadata": {
    "code_hole_highlighter": [],
    "codehighlighter": [],
    "id": 3
   },
   "source": [
    "When a code cell is run, a file name called `test.agda` is create in the local directory and fed to Agda.\n",
    "If the execution is successful, then the cell is colored with green, as above.\n",
    "\n",
    "If the cell has open holes, the corresponding lines will be marked in yellow."
   ]
  },
  {
   "cell_type": "code",
   "execution_count": null,
   "metadata": {
    "code_hole_highlighter": [
     3,
     3,
     3,
     3,
     3,
     3,
     3,
     3
    ],
    "codehighlighter": [],
    "fileName": "/Users/lorenzo/Development/agda-kernel/example/test2.agda",
    "holes": [
     3,
     3
    ],
    "id": 5,
    "moduleName": "test2",
    "preambleLength": 0
   },
   "outputs": [],
   "source": [
    "module test2 where\n",
    "\n",
    "proj1 : ∀ {A B : Set} → A → B → A\n",
    "proj1 x y = ?"
   ]
  },
  {
   "cell_type": "markdown",
   "metadata": {
    "code_hole_highlighter": [],
    "codehighlighter": [],
    "fileName": "/Users/lorenzo/Development/agda-kernel/example/Tutorial/cell7.agda",
    "holes": [],
    "id": 7,
    "isError": true,
    "moduleName": "Tutorial.cell7",
    "preambleLength": 3
   },
   "source": [
    "Finally, if the code contains mistakes, then the erroneous lines are marked in red and an explanation message follows."
   ]
  },
  {
   "cell_type": "code",
   "execution_count": null,
   "metadata": {
    "code_hole_highlighter": [],
    "codehighlighter": [
     [
      "4",
      "4"
     ],
     [
      "4",
      "4"
     ],
     [
      "4",
      "4"
     ],
     [
      "4",
      "4"
     ]
    ],
    "fileName": "/Users/lorenzo/Development/agda-kernel/example/test3.agda",
    "holes": [],
    "id": 6,
    "isError": true,
    "moduleName": "test3",
    "preambleLength": 0
   },
   "outputs": [],
   "source": [
    "module test3 where\n",
    "\n",
    "proj1 : ∀ {A B : Set} → A → B → A\n",
    "proj1 x y = y"
   ]
  },
  {
   "cell_type": "markdown",
   "metadata": {
    "code_hole_highlighter": [],
    "codehighlighter": [],
    "fileName": "/Users/lorenzo/Development/agda-kernel/example/test4.agda",
    "holes": [],
    "id": 9,
    "isError": true,
    "moduleName": "test4",
    "preambleLength": 0
   },
   "source": [
    "# Mixing markdown and code\n",
    "\n",
    "A distinctive feature provided by the Agda exension is that markdown cells can contain *executable* Agda code.\n",
    "\n",
    "````\n",
    "module test4 where\n",
    "````\n",
    "\n",
    "The code can be even interspersed with markdown.\n",
    "\n",
    "````\n",
    "proj1 : ∀ {A B : Set} → A → B → A\n",
    "proj1 x y = x\n",
    "````\n",
    "\n",
    "All the code lines are assembled together in `test4.agda` and fed to the interpreter."
   ]
  },
  {
   "cell_type": "markdown",
   "metadata": {
    "code_hole_highlighter": [],
    "codehighlighter": [],
    "fileName": "/Users/lorenzo/Development/agda-kernel/example/Tutorial/cell11.agda",
    "holes": [],
    "id": 11,
    "isError": true,
    "moduleName": "Tutorial.cell11",
    "preambleLength": 3
   },
   "source": [
    "# Interactive development\n",
    "\n",
    "By hitting `SHIFT+TAB` when the cursor is inside a hole brings up the inspector on the left with some information about the goal and its context.\n",
    "It's necessary that the cell has already been successfully loaded, and thus it does not contain errors."
   ]
  },
  {
   "cell_type": "code",
   "execution_count": null,
   "metadata": {
    "code_hole_highlighter": [
     2,
     2
    ],
    "codehighlighter": [],
    "fileName": "/Users/lorenzo/Development/agda-kernel/example/test5.agda",
    "holes": [
     2,
     2
    ],
    "id": 13,
    "isError": true,
    "moduleName": "test5",
    "preambleLength": 0
   },
   "outputs": [
    {
     "name": "stdout",
     "output_type": "stream",
     "text": [
      "?0 : A\n"
     ]
    }
   ],
   "source": [
    "module test5 where\n",
    "proj1 : ∀ {A B : Set} → A → B → A\n",
    "proj1 x y = {! y !}\n",
    "\n",
    "proj' : ∀ {A B : Set} → A → B → A\n",
    "proj' = proj1"
   ]
  },
  {
   "cell_type": "markdown",
   "metadata": {
    "code_hole_highlighter": [],
    "codehighlighter": [],
    "id": 14
   },
   "source": [
    "By the same `SHIFT+TAB` mechanism we can also inspect the type of expressions, by selecting them or by placing the cursor inside/around them in case they do not contain spaces."
   ]
  }
 ],
 "metadata": {
  "kernelspec": {
   "display_name": "agda",
   "language": "agda",
   "name": "agda"
  },
  "language_info": {
   "file_extension": ".agda",
   "mimetype": "text/agda",
   "name": "agda"
  },
  "toc": {
   "base_numbering": 1,
   "nav_menu": {},
   "number_sections": true,
   "sideBar": true,
   "skip_h1_title": false,
   "title_cell": "Table of Contents",
   "title_sidebar": "Contents",
   "toc_cell": false,
   "toc_position": {},
   "toc_section_display": true,
   "toc_window_display": false
  }
 },
 "nbformat": 4,
 "nbformat_minor": 2
}
