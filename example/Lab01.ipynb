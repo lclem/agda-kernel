{
 "cells": [
  {
   "cell_type": "markdown",
   "metadata": {},
   "source": [
    "**LICENCE:**\n",
    "This tutorial contains adaptations of material from [Programming Language Foundations in Agda](https://plfa.github.io/) by Phil Wadler and Wen Kokke. It is licensed under Creative Commons Attribution 4.0 International.\n",
    "\n",
    "# Curry-Howard isomorphism\n",
    "\n",
    "\\begin{align*}\n",
    "    &\\textrm{Logic} && &&\\textrm{Computer science}\\\\\n",
    "    \\hline\n",
    "    &\\textrm{Theorems} &\\leftrightarrow &&&\n",
    "        \\textrm{Types} && A \\\\\n",
    "    &\\textrm{Proofs} &\\leftrightarrow &&&\n",
    "        \\textrm{Programs (terms)}\n",
    "            && a \\\\\n",
    "    &\\textrm{Proof simplification} &\\leftrightarrow &&&\n",
    "        \\textrm{Program execution}\n",
    "            && \\textrm{run } a \\\\\n",
    "    \\hline\n",
    "    &\\textrm{Proof development} &\\leftrightarrow &&&\n",
    "        \\textrm{Programming}\n",
    "            && \\textrm{write } a \\\\\n",
    "    &\\textrm{Proof checking} &\\leftrightarrow &&&\n",
    "        \\textrm{Type checking}\n",
    "            && \\textrm{given } a \\textrm{ and } A, \\textrm{ does } a : A?\\\\\n",
    "    &\\textrm{Validity (mathematics)} &\\leftrightarrow &&&\n",
    "        \\textrm{Inhabitation problem}\n",
    "            && \\textrm{given } A, \\textrm{ is there some $a : A$?}\n",
    "\\end{align*}\n",
    "\n",
    "<!--- One important difference is that,\n",
    "while in logic it is enough to have any proof $a$ of a theorem $A$\n",
    "(in this sense all proofs of $A$ are the same),\n",
    "in programming not all programs are the same.\n",
    "For instance, to know that $\\mathbb N \\to \\mathbb N$ is inhabited\n",
    "it suffices to exhibit any computable total function on the natural numbers.\n",
    "However, we might be interested in specific such functions, such as factora, Fibonacci, etc.\n",
    "Moreover, in programming we even go one step further,\n",
    "since two extensionally equivalent function may be intensionally different,\n",
    "e.g., smaller/faster programs are preferred. -->\n",
    "\n",
    "# Intuitionistic propositional logic in Agda\n",
    "**SYNTAX:**\n",
    "You can enter `→` by writing `->` and pressing TAB; pressing TAB again goes back to `->`. Similar useful combinations are:\n",
    "\n",
    "| base form | alternate form |\n",
    "|:---------:|:--------------:|\n",
    "| ->  | → |\n",
    "| \\   | λ |\n",
    "| neg | ¬ |\n",
    "| top | ⊤ |\n",
    "| bot | ⊥ |\n",
    "| /\\  | ∧ |\n",
    "| \\\\/ | ∨ |\n",
    "| <   | ⟨ |\n",
    "| >   | ⟩ |\n",
    "\n",
    "<!---\n",
    "| forall | ∀ |\n",
    "| exists | ∃ |\n",
    "| phi | |\n",
    "| psi | |\n",
    "-->\n",
    "\n",
    "<!---\n",
    "\n",
    "**PRO TRICKS:**\n",
    "- You can ask Agda to provide the type of a closed expression. Just put the cursor nearby an expression and press SHIFT+TAB.\n",
    "- You can ask Agda to compute the normal form of an expression enclosed in parantheses, such as `(λ x → x)` (already in normal form).\n",
    "\n",
    "-->\n",
    "\n",
    "<!--- Starred exercises \"**Exercise***\" should be skipped on a first reading and dealt with only after all the non-starred one are resolved. -->\n",
    "\n",
    "## Implication\n",
    "Intuitionistic implication is implemented as *function space*\n",
    "$$A \\to B.$$\n",
    "This concept has no counterpart in classical logic.\n",
    "The function space operator `→` is an Agda primitive.\n",
    "The idea is that a proof of $A \\to B$\n",
    "is a (terminating) *program* $t : A \\to B$\n",
    "that, given a proof $a : A$ of $A$,\n",
    "always terminates and produces a proof $t\\; a : B$ of $B$.\n",
    "The $\\to$-eliminaton rule is implemented by *function application*.\n",
    "<!--- - The validity problem for implication intuitionistic propositional logic is PSPACE-complete. What is the complexity for the corresponding problem for classical logic? coNP-complete. -->\n",
    "\n",
    "**Polymorphism:**\n",
    "The polymorphic identity function in Agda is written as follows:\n",
    "\n",
    "```agda\n",
    "id : (A : Set) → A → A\n",
    "id A x = x\n",
    "```\n",
    "\n",
    "(Compare this with the equivalent Haskell definition:\n",
    "```haskell\n",
    "id :: A -> A\n",
    "id x = x\n",
    "```\n",
    "Incidentally, note the crucial difference that the typing operator in Agda is `:` instead of `::`.)\n",
    "\n",
    "Therefore, in Agda `id ℕ` is the identity on the natural numbers,\n",
    "`id (ℕ → ℕ)` is the identity on functions of natural numbers,\n",
    "and so on.\n",
    "It turns out that 1) specifying the argument `A` is boring\n",
    "and 2) in most cases Agda can infer it from the context.\n",
    "For these two reasons, Agda allows us to say that some argument is implicit `{A : Set}`, as we demonstrate below.\n",
    "The cell can be evaluated with SHIFT+ENTER."
   ]
  },
  {
   "cell_type": "code",
   "execution_count": 32,
   "metadata": {},
   "outputs": [
    {
     "name": "stdout",
     "output_type": "stream",
     "text": [
      "*Type-checking* \n",
      "*Type-checking* Checking code.lab01.id (/Users/lorenzo/Dropbox/Workspace/teaching/Teaching/2018-2019/summer semester/LDI (logika dla informatyków)/lab/agda/code/lab01/id.agda).\n",
      "\n",
      "*All Done* "
     ]
    }
   ],
   "source": [
    "module code.lab01.id where\n",
    "\n",
    "-- We start by proving A → A;\n",
    "-- this is done with the identity function\n",
    "-- in dependent types, the identity function is parameterised by a set A.\n",
    "\n",
    "id : {A : Set} → A → A\n",
    "id a = a\n",
    "\n",
    "-- apply corresponds to →-elimination (i.e., modus ponens)\n",
    "-- below, \"a→b\" is the name of a variable, like \"a\"\n",
    "-- (there is nothing special about that \"→\")\n",
    "apply : {A B : Set} → (A → B) → A → B\n",
    "apply a→b = λ a → a→b a\n",
    "\n",
    "-- we use here lambda-notation;\n",
    "-- equivalent spellings:\n",
    "-- apply a→b a = a→b a\n",
    "-- apply a→b = a→b\n",
    "-- apply = id (why?)\n",
    "\n",
    "-- the last example shows why we will not explicitly use \"apply\" below."
   ]
  },
  {
   "cell_type": "markdown",
   "metadata": {},
   "source": [
    "**UNDER THE HOOD:** A code cell must start with a line in the format\n",
    "```agda\n",
    "module A.B.C where\n",
    "```\n",
    "Upon evaluation, the file `A/B/C.agda` is created on disk from the cell's contents\n",
    "and fed to the Agda interpreter.\n",
    "For this reason, it is important to evaluate a cell to ensure that its changes are reflected on disk and can be used from other cells.\n",
    "\n",
    "**SPACING:**\n",
    "Agda allows us to be very flexible in the variable names,\n",
    "which can be strings such as `x`, `idλ`, `a→b`, `&&true`, or even arbitrary unicode symbols `💔`, provided there is no space in-between.\n",
    "As a consequence, spaces in Agda have a syntactic meaning as separators,\n",
    "and we need to be very generous with them."
   ]
  },
  {
   "cell_type": "markdown",
   "metadata": {},
   "source": [
    "**Exercise 1.** Prove in Agda following tautologies of intuitionistic propositional logic:\n",
    "1. Argument commutativity: $(A \\to B \\to C) \\to B \\to A \\to C$.\n",
    "2. Distributivity: $(A \\to B \\to C) \\to (A \\to B) \\to A \\to C$.\n",
    "3. Diamond $(A \\to B) \\to (A \\to C) \\to (B \\to C \\to D) \\to A \\to D$.\n",
    "4. Projection: $A \\to A \\to A$. How many proof of this fact are there?\n",
    "\n",
    "Note that the operator \"$\\to$\" is right-associative:\n",
    "For example, the last expression above is parenthesized as\n",
    "$$ A \\to (A \\to A).$$\n",
    "We will only write parentheses when they are needed.\n",
    "\n",
    "Also note that, since intuitionistic implication in general behaves differently from classical implication,\n",
    "the intuitionistic tautologies above hold for reasons which are different from why the same formulas are also classical tautologies (and thus must be reproven in the inuitionistic setting)."
   ]
  },
  {
   "cell_type": "code",
   "execution_count": 33,
   "metadata": {},
   "outputs": [
    {
     "name": "stdout",
     "output_type": "stream",
     "text": [
      "*Type-checking* \n",
      "*Type-checking* Checking code.lab01.ex01 (/Users/lorenzo/Dropbox/Workspace/teaching/Teaching/2018-2019/summer semester/LDI (logika dla informatyków)/lab/agda/code/lab01/ex01.agda).\n",
      "\n",
      "*All Goals* ?0 : C\n",
      "?1 : C\n",
      "?2 : D\n",
      "?3 : A → A → A\n"
     ]
    }
   ],
   "source": [
    "module code.lab01.ex01 where\n",
    "\n",
    "→-comm : {A B C : Set} → (A → B → C) → B → A → C\n",
    "→-comm f b a = ?\n",
    "\n",
    "→-distr : {A B C : Set} → (A → B → C) → (A → B) → A → C\n",
    "→-distr f g x = ?\n",
    "\n",
    "→-diamond : {A B C D : Set} → (A → B) → (A → C) → (B → C → D) → A → D\n",
    "→-diamond f g h x = ?\n",
    "\n",
    "→-proj : {A : Set} → A → A → A\n",
    "→-proj = ?"
   ]
  },
  {
   "cell_type": "markdown",
   "metadata": {},
   "source": [
    "## Conjunction\n",
    "\n",
    "In intuitionistic logic, a proof of $A \\wedge B$ is a pair $\\langle a, b \\rangle$,\n",
    "where $a$ is a proof of $A$ and $b$ is a proof of $B$.\n",
    "(From this point of view, intuitionistic conjunction behaves similarly to classical conjunction,\n",
    "because also in classical logic both conjuncts must be provable for their conjunction to be provable.)\n",
    "This intuition translates immediately into the following *product* datatype:\n",
    "\n",
    "```agda\n",
    "data _∧_ (A : Set) (B : Set) : Set where\n",
    "  ⟨_,_⟩ : A → B → A ∧ B\n",
    "```\n",
    "The datatype `_∧_` is parametrised by two types, `A` and `B`,\n",
    "and it is written `A ∧ B` or, using prefix notation, `_∧_ A B`.\n",
    "It has only one constructor `⟨_,_⟩`, corresponding to the ∧-introduction rule:\n",
    "Given elements `a : A` and `b : B`,  `⟨ a , b ⟩` has type `A ∧ B` (notice the mandatory spaces!).\n",
    "The term above can also be written in prefix notation as `⟨_,_⟩ A B`.\n",
    "We can then define the two projection functions, which correspond to the two ∧-elimination rules:\n",
    "\n",
    "```agda\n",
    "fst : {A B : Set} → A ∧ B → A\n",
    "fst ⟨ a , _ ⟩ = a\n",
    "\n",
    "snd : {A B : Set} → A ∧ B → B\n",
    "snd ⟨ _ , b ⟩ = b\n",
    "```\n",
    "\n",
    "Once again, `_∧_ ` is not an Agda primitive, but it can be defined with Agda's datatype creation facility."
   ]
  },
  {
   "cell_type": "code",
   "execution_count": 5,
   "metadata": {},
   "outputs": [
    {
     "name": "stdout",
     "output_type": "stream",
     "text": [
      "*Type-checking* \n",
      "*Type-checking* Checking code.and (/Users/lorenzo/Dropbox/Workspace/teaching/Teaching/2018-2019/summer semester/LDI (logika dla informatyków)/lab/agda/code/and.agda).\n",
      "\n",
      "*All Done* "
     ]
    }
   ],
   "source": [
    "module code.and where\n",
    "\n",
    "-- we define conjunction to be right associative\n",
    "infixr 2 _∧_\n",
    "\n",
    "-- The only way to build a product is from its two components\n",
    "-- the constructor corresponds to the ∧-introduction rule\n",
    "data _∧_ (A : Set) (B : Set) : Set where\n",
    "  ⟨_,_⟩ : A → B → A ∧ B\n",
    "  \n",
    "-- the two projection functions correspond to the two ∧-elimination rules;\n",
    "-- notice how we do pattern matching on the constructor \"⟨_,_⟩ : A ∧ B\"\n",
    "fst : {A B : Set} → A ∧ B → A\n",
    "fst ⟨ a , _ ⟩ = a\n",
    "\n",
    "snd : {A B : Set} → A ∧ B → B\n",
    "snd ⟨ _ , b ⟩ = b"
   ]
  },
  {
   "cell_type": "markdown",
   "metadata": {},
   "source": [
    "**Exercise 4.** Formalise and prove the following:\n",
    "1. Curry/uncurry: $A → B → C$ is the same as $A \\wedge B → C$.\n",
    "2. Conjunction is commutative: $A \\wedge B$ is the same as $B \\wedge A$.\n",
    "3. Conjunction is associative: $A \\wedge B \\wedge C$ is the same as $(A \\wedge B) \\wedge C$.\n",
    "4. Implication distributes over conjunction: $A \\to B \\wedge C$ is the same as $(A \\to B) \\wedge (A \\to C)$.\n",
    "\n",
    "Do the last three properties follow from curry/uncurry?"
   ]
  },
  {
   "cell_type": "code",
   "execution_count": 36,
   "metadata": {},
   "outputs": [
    {
     "name": "stdout",
     "output_type": "stream",
     "text": [
      "*Type-checking* \n",
      "*Type-checking* Checking code.lab01.ex04 (/Users/lorenzo/Dropbox/Workspace/teaching/Teaching/2018-2019/summer semester/LDI (logika dla informatyków)/lab/agda/code/lab01/ex04.agda).\n",
      "\n",
      "*Type-checking*  Checking code.lab01.and (/Users/lorenzo/Dropbox/Workspace/teaching/Teaching/2018-2019/summer semester/LDI (logika dla informatyków)/lab/agda/code/lab01/and.agda).\n",
      "\n",
      "*All Goals* ?0 : (A → B → C) → A ∧ B → C\n",
      "?1 : (A ∧ B → C) → A → B → C\n",
      "?2 : _12\n",
      "?3 : ?2\n",
      "?4 : _15\n",
      "?5 : ?4\n",
      "?6 : _18\n",
      "?7 : ?6\n",
      "?8 : _21\n",
      "?9 : ?8\n",
      "?10 : _24\n",
      "?11 : ?10\n",
      "Sort _12  [ at /Users/lorenzo/Dropbox/Workspace/teaching/Teaching/2018-2019/summer semester/LDI (logika dla informatyków)/lab/agda/code/lab01/ex04.agda:10,10-11 ]\n",
      "Sort _15  [ at /Users/lorenzo/Dropbox/Workspace/teaching/Teaching/2018-2019/summer semester/LDI (logika dla informatyków)/lab/agda/code/lab01/ex04.agda:13,13-14 ]\n",
      "Sort _18  [ at /Users/lorenzo/Dropbox/Workspace/teaching/Teaching/2018-2019/summer semester/LDI (logika dla informatyków)/lab/agda/code/lab01/ex04.agda:16,13-14 ]\n",
      "Sort _21  [ at /Users/lorenzo/Dropbox/Workspace/teaching/Teaching/2018-2019/summer semester/LDI (logika dla informatyków)/lab/agda/code/lab01/ex04.agda:19,14-15 ]\n",
      "Sort _24  [ at /Users/lorenzo/Dropbox/Workspace/teaching/Teaching/2018-2019/summer semester/LDI (logika dla informatyków)/lab/agda/code/lab01/ex04.agda:22,14-15 ]\n"
     ]
    }
   ],
   "source": [
    "module code.lab01.ex04 where\n",
    "open import code.lab01.and\n",
    "\n",
    "uncurry : {A B C : Set} → (A → B → C) → A ∧ B → C\n",
    "uncurry = ?\n",
    "\n",
    "curry : {A B C : Set} → (A ∧ B → C) → A → B → C\n",
    "curry = ?\n",
    "\n",
    "∧-comm : ?\n",
    "∧-comm = ?\n",
    "\n",
    "∧-assoc-1 : ?\n",
    "∧-assoc-1 = ?\n",
    "\n",
    "∧-assoc-2 : ?\n",
    "∧-assoc-2 = ?\n",
    "\n",
    "→∧-distr-1 : ?\n",
    "→∧-distr-1 = ?\n",
    "\n",
    "→∧-distr-2 : ?\n",
    "→∧-distr-2 = ?"
   ]
  },
  {
   "cell_type": "markdown",
   "metadata": {},
   "source": [
    "## Disjunction\n",
    "\n",
    "In intuitionistic logic a proof of a disjunction is a proof of either the first disjunct or of the second.\n",
    "More precisely, a proof of $A_1 \\vee A_2$ is a pair $(k, t_k)$,\n",
    "where $k \\in \\{1, 2\\}$ specifies that we are proving $A_k$\n",
    "and $t_k : A_k$ is a proof thereof.\n",
    "The two options can be implemented with two different constructors (called right and left *injection*).\n",
    "Notice that this is very different from classical logic (where it is \"easier\" to prove a disjunction),\n",
    "because a classical proof does not need to prove any disjunct alone."
   ]
  },
  {
   "cell_type": "code",
   "execution_count": 3,
   "metadata": {},
   "outputs": [
    {
     "name": "stdout",
     "output_type": "stream",
     "text": [
      "*Type-checking* \n",
      "*Type-checking* Checking code.or (/Users/lorenzo/Dropbox/Workspace/teaching/Teaching/2018-2019/summer semester/LDI (logika dla informatyków)/lab/agda/code/or.agda).\n",
      "\n",
      "*All Done* "
     ]
    }
   ],
   "source": [
    "module code.or where\n",
    "\n",
    "-- we give disjunction lower priority than conjunction\n",
    "-- so we can omit parenthesis from (A ∧ B) ∨ C and write A ∧ B ∨ C instead.\n",
    "infixr 1 _∨_ \n",
    "\n",
    "-- There are two ways to built a sum.\n",
    "-- The two constructors correspond to the two ∨-introduction rules\n",
    "data _∨_ (A : Set) (B : Set) : Set where\n",
    "    left : A → A ∨ B\n",
    "    right : B → A ∨ B\n",
    "    \n",
    "-- we can do case analysis by pattern matching on the constructor;\n",
    "-- this corresponds to the ∨-elimination rule\n",
    "case : {A B C : Set} → (A → C) → (B → C) → A ∨ B → C\n",
    "case f g (left x) = f x\n",
    "case f g (right x) = g x"
   ]
  },
  {
   "cell_type": "markdown",
   "metadata": {},
   "source": [
    "**Exercise 5.** Formalise and prove the following:\n",
    "1. Disjunction is commutative: $A \\vee B$ is the same as $B \\vee A$.\n",
    "2. Disjunction is associative: $A \\vee B \\vee C$ is the same as $(A \\vee B) \\vee C$.\n",
    "3. $A \\vee B \\to C$ is the same as $(A \\to C) \\wedge (B \\to C)$."
   ]
  },
  {
   "cell_type": "code",
   "execution_count": 39,
   "metadata": {},
   "outputs": [
    {
     "name": "stdout",
     "output_type": "stream",
     "text": [
      "*Type-checking* \n",
      "*Type-checking* Checking code.lab01.ex5 (/Users/lorenzo/Dropbox/Workspace/teaching/Teaching/2018-2019/summer semester/LDI (logika dla informatyków)/lab/agda/code/lab01/ex5.agda).\n",
      "\n",
      "*Type-checking*  Checking code.lab01.or (/Users/lorenzo/Dropbox/Workspace/teaching/Teaching/2018-2019/summer semester/LDI (logika dla informatyków)/lab/agda/code/lab01/or.agda).\n",
      "\n",
      "*All Done* "
     ]
    }
   ],
   "source": [
    "module code.lab01.ex5 where\n",
    "open import code.lab01.and\n",
    "open import code.or\n",
    "\n",
    "∨-comm : {A B : Set} → A ∨ B → B ∨ A\n",
    "∨-comm (left a) = right a\n",
    "∨-comm (right a) = left a\n",
    "\n",
    "∨-assoc : {A B C : Set} → A ∨ B ∨ C → (A ∨ B) ∨ C\n",
    "∨-assoc (left a) = left (left a)\n",
    "∨-assoc (right (left b)) = left (right b)\n",
    "∨-assoc (right (right c)) = right c\n",
    "\n",
    "∨∧→-1 : {A B C : Set} → (A ∨ B → C) → (A → C) ∧ (B → C)\n",
    "∨∧→-1 a∨b→c = ⟨ (λ a → a∨b→c (left a)) , (λ b → a∨b→c (right b)) ⟩\n",
    "\n",
    "∨∧→-2 : {A B C : Set} → (A → C) ∧ (B → C) → A ∨ B → C\n",
    "∨∧→-2 ⟨ a→c , _ ⟩ (left a) = a→c a\n",
    "∨∧→-2 ⟨ _ , b→c ⟩ (right b) = b→c b"
   ]
  },
  {
   "cell_type": "markdown",
   "metadata": {},
   "source": [
    "**Exercise 6 (Distributivity laws).** Prove the following tautologies:\n",
    "1. $A \\wedge (B \\vee C) \\leftrightarrow A \\wedge B \\vee A \\wedge C$.\n",
    "2. $A \\vee B \\wedge C \\leftrightarrow (A \\vee B) \\wedge (A \\vee C)$."
   ]
  },
  {
   "cell_type": "code",
   "execution_count": 40,
   "metadata": {},
   "outputs": [
    {
     "name": "stdout",
     "output_type": "stream",
     "text": [
      "*Type-checking* \n",
      "*Type-checking* Checking code.lab01.distr (/Users/lorenzo/Dropbox/Workspace/teaching/Teaching/2018-2019/summer semester/LDI (logika dla informatyków)/lab/agda/code/lab01/distr.agda).\n",
      "\n",
      "*All Goals* ?0 : A ∧ (B ∨ C) → A ∧ B ∨ A ∧ C\n",
      "?1 : A ∧ B ∨ A ∧ C → A ∧ (B ∨ C)\n",
      "?2 : A ∨ B ∧ C → (A ∨ B) ∧ (A ∨ C)\n",
      "?3 : (A ∨ B) ∧ (A ∨ C) → A ∨ B ∧ C\n"
     ]
    }
   ],
   "source": [
    "module code.lab01.distr where\n",
    "open import code.lab01.and\n",
    "open import code.or\n",
    "\n",
    "∧∨-distr-1 : {A B C : Set} → A ∧ (B ∨ C) → A ∧ B ∨ A ∧ C\n",
    "∧∨-distr-1 = ?\n",
    "\n",
    "∧∨-distr-2 : {A B C : Set} → A ∧ B ∨ A ∧ C → A ∧ (B ∨ C)\n",
    "∧∨-distr-2 = ?\n",
    "\n",
    "∨∧-distr-1 : {A B C : Set} → A ∨ B ∧ C → (A ∨ B) ∧ (A ∨ C)\n",
    "∨∧-distr-1 = ?\n",
    "\n",
    "∨∧-distr-2 : {A B C : Set} → (A ∨ B) ∧ (A ∨ C) → A ∨ B ∧ C\n",
    "∨∧-distr-2 = ?"
   ]
  },
  {
   "cell_type": "markdown",
   "metadata": {},
   "source": [
    "## True and false\n",
    "\n",
    "The two truth values $\\top$ and $\\bot$ are implemented via Agda's data type mechanism.\n",
    "The intuition is that the type $\\top$ has precisely one inhabitant (called `tt` below)\n",
    "and that $\\bot$ has no inhabitants at all.\n",
    "\n",
    "Notice that neither `⊤` nor `⊥` are Agda primitives.\n",
    "However, Agda's datatype creation facilities allow us to define those datatypes in such a way that they behave as we expect."
   ]
  },
  {
   "cell_type": "code",
   "execution_count": 42,
   "metadata": {},
   "outputs": [
    {
     "name": "stdout",
     "output_type": "stream",
     "text": [
      "*Type-checking* \n",
      "*All Done* "
     ]
    }
   ],
   "source": [
    "module code.lab01.true-false where\n",
    "\n",
    "-- There is only one way to construct an inhabitant of ⊤,\n",
    "-- namely with the constructor tt;\n",
    "-- there is no ⊤-elimination rule\n",
    "data ⊤ : Set where\n",
    "  tt : ⊤\n",
    "  \n",
    "-- we can prove that anything implies ⊤\n",
    "A→⊤ : {A : Set} → A → ⊤\n",
    "A→⊤ _ = tt\n",
    "  \n",
    "-- There is no way to construct an inhabitant of ⊥ (the type is empty!)\n",
    "data ⊥ : Set where\n",
    "\n",
    "-- there is one ⊥-elimination rule that says that anything can be proved from ⊥\n",
    "-- the absurd pattern \"()\" is how we tell Agda that there cannot be any argument to ⊥-elim\n",
    "-- this allows to derive an inhabitant of A,  for any A!\n",
    "⊥-elim : {A : Set} → ⊥ → A\n",
    "⊥-elim ()\n",
    "\n",
    "-- example use of ⊥-elim\n",
    "-- Agda can derive that ⊥-elim is applied to type \"{⊤}\", but we write it for clarity here\n",
    "⊥→⊤ : ⊥ → ⊤\n",
    "⊥→⊤ = ⊥-elim {⊤}\n",
    "-- the same as: ⊥→⊤ = ⊥-elim"
   ]
  },
  {
   "cell_type": "markdown",
   "metadata": {},
   "source": [
    "## Negation\n",
    "\n",
    "Negation is not a primitive in intuitionistic logic.\n",
    "In intuitionistic logic $\\neg A$ means that, if we had a proof of $A$, then we could derive a contradiction $\\bot$:\n",
    "$$ \\neg A \\;\\equiv\\; A \\to \\bot.$$\n",
    "And this is how negation is defined in Agda.\n",
    "Once again, note that `¬_` is not a primitive of Agda, but rather a defined function mapping types to types (!)."
   ]
  },
  {
   "cell_type": "code",
   "execution_count": 15,
   "metadata": {},
   "outputs": [
    {
     "name": "stdout",
     "output_type": "stream",
     "text": [
      "*Type-checking* \n",
      "*Type-checking* Checking code.neg (/Users/lorenzo/Dropbox/Workspace/teaching/Teaching/2018-2019/summer semester/LDI (logika dla informatyków)/lab/agda/code/neg.agda).\n",
      "\n",
      "*All Done* "
     ]
    }
   ],
   "source": [
    "module code.neg where\n",
    "\n",
    "-- we import the definition for the truth values true and false\n",
    "open import code.lab01.true-false\n",
    "\n",
    "infix 3 ¬_ -- higher priority than ∨ and ∧\n",
    "\n",
    "-- Note that we are defining a type now!\n",
    "-- \"¬ A\" is a shorthand for (i.e., evaluates to) \"A → ⊥\"\n",
    "¬_ : Set → Set\n",
    "¬ A = A → ⊥\n",
    "\n",
    "-- This also shows how operators ¬_ can be defined in Agda"
   ]
  },
  {
   "cell_type": "markdown",
   "metadata": {},
   "source": [
    "**Exercise 2**. The logic of Agda is intuitionistic. In particular, in Agda the following double negation law does *not* hold:\n",
    "$$ A \\leftrightarrow \\neg \\neg A. $$\n",
    "Which one of the two directions holds in intuitionistic logic?\n",
    "- Formalise this and prove it in Agda.\n",
    "- Does the proof (i.e., program) resemble something we have already seen?\n",
    "\n",
    "*Hint:* The type $\\neg \\neg A$ expands to\n",
    "$$(A \\to \\bot) \\to \\bot.$$"
   ]
  },
  {
   "cell_type": "code",
   "execution_count": 7,
   "metadata": {},
   "outputs": [
    {
     "name": "stdout",
     "output_type": "stream",
     "text": [
      "*Type-checking* \n",
      "*Type-checking* Checking code.lab01.ex02 (/Users/lorenzo/Dropbox/Workspace/teaching/Teaching/2018-2019/summer semester/LDI (logika dla informatyków)/lab/agda/code/lab01/ex02.agda).\n",
      "\n",
      "*Type-checking*  Checking code.neg (/Users/lorenzo/Dropbox/Workspace/teaching/Teaching/2018-2019/summer semester/LDI (logika dla informatyków)/lab/agda/code/neg.agda).\n",
      "\n",
      "*All Goals* ?0 : code.lab01.true-false.⊥\n"
     ]
    }
   ],
   "source": [
    "module code.lab01.ex02 where\n",
    "open import code.neg\n",
    "\n",
    "-- recall that ¬ ¬ A = (A → ⊥) → ⊥\n",
    "\n",
    "¬¬-intro : {A : Set} → A → ¬ ¬ A\n",
    "¬¬-intro x f = ?\n",
    "\n",
    "-- the occurrence of \"?\" above is called a hole;\n",
    "-- Agda will compile and remind us that there are open goals corresponding to holes to be solved"
   ]
  },
  {
   "cell_type": "markdown",
   "metadata": {},
   "source": [
    "**Exercise 3.**\n",
    "The *contrapositive* of an implication $A \\to B$ is $\\neg B \\to \\neg A$.\n",
    "In classical logic an implication and its contrapositive are logically equivalent, i.e., the following is a tautology:\n",
    "$$(A \\to B) \\leftrightarrow (\\neg B \\to \\neg A).$$\n",
    "Use Agda to prove which, if any, of the two directions above holds in intuitionistic logic."
   ]
  },
  {
   "cell_type": "code",
   "execution_count": 9,
   "metadata": {},
   "outputs": [
    {
     "name": "stdout",
     "output_type": "stream",
     "text": [
      "*Type-checking* \n",
      "*Type-checking* Checking code.lab01.ex03 (/Users/lorenzo/Dropbox/Workspace/teaching/Teaching/2018-2019/summer semester/LDI (logika dla informatyków)/lab/agda/code/lab01/ex03.agda).\n",
      "\n",
      "*All Goals* ?0 : _0\n",
      "?1 : ?0\n",
      "Sort _0  [ at /Users/lorenzo/Dropbox/Workspace/teaching/Teaching/2018-2019/summer semester/LDI (logika dla informatyków)/lab/agda/code/lab01/ex03.agda:5,18-19 ]\n"
     ]
    }
   ],
   "source": [
    "module code.lab01.ex03 where\n",
    "open import code.neg\n",
    "\n",
    "-- your solution here\n",
    "contrapositive : ?\n",
    "contrapositive = ?"
   ]
  },
  {
   "cell_type": "markdown",
   "metadata": {},
   "source": [
    "**Exercise 7 (De Morgan laws).** Are the following laws valid in intuitionistic logic?\n",
    "If so, write a proof in Agda.\n",
    "\\begin{align}\n",
    " (1) \\qquad \\neg (A \\vee B) \\leftrightarrow \\neg A \\wedge \\neg B. \\\\\n",
    " (2) \\qquad \\neg A \\vee \\neg B \\to \\neg (A \\wedge B). \\\\\n",
    " (3) \\qquad \\neg (A \\wedge B) \\to \\neg A \\vee \\neg B.\n",
    "\\end{align}"
   ]
  },
  {
   "cell_type": "code",
   "execution_count": 16,
   "metadata": {},
   "outputs": [
    {
     "name": "stdout",
     "output_type": "stream",
     "text": [
      "*Type-checking* \n",
      "*Type-checking* Checking code.lab01.ex07 (/Users/lorenzo/Dropbox/Workspace/teaching/Teaching/2018-2019/summer semester/LDI (logika dla informatyków)/lab/agda/code/lab01/ex07.agda).\n",
      "\n",
      "*Type-checking*  Checking code.neg (/Users/lorenzo/Dropbox/Workspace/teaching/Teaching/2018-2019/summer semester/LDI (logika dla informatyków)/lab/agda/code/neg.agda).\n",
      "\n",
      "*All Goals* ?0 : ¬ (A ∨ B) → ¬ A ∧ ¬ B\n",
      "?1 : ¬ A ∧ ¬ B → ¬ (A ∨ B)\n",
      "?2 : ¬ A ∨ ¬ B → ¬ (A ∧ B)\n",
      "?3 : ¬ (A ∧ B) → ¬ A ∨ ¬ B\n"
     ]
    }
   ],
   "source": [
    "module code.lab01.ex07 where\n",
    "open import code.and\n",
    "open import code.or\n",
    "open import code.neg\n",
    "\n",
    "de_morgan1-1 : {A B : Set} → ¬ (A ∨ B) → ¬ A ∧ ¬ B\n",
    "de_morgan1-1 = ?\n",
    "\n",
    "de_morgan1-2 : {A B : Set} → ¬ A ∧ ¬ B → ¬ (A ∨ B)\n",
    "de_morgan1-2 = ?\n",
    "\n",
    "de_morgan2 : {A B : Set} → ¬ A ∨ ¬ B → ¬ (A ∧ B)\n",
    "de_morgan2 = ?\n",
    "\n",
    "de_morgan3 : {A B : Set} → ¬ (A ∧ B) → ¬ A ∨ ¬ B\n",
    "de_morgan3 = ?"
   ]
  },
  {
   "cell_type": "markdown",
   "metadata": {},
   "source": [
    "**Exercise 7 (Classical vs. intuitionistic implication).**\n",
    "In classical logic, $A \\to B$ is defined to be $\\neg A \\vee B$.\n",
    "Which of the following two directions hold in intuitionistic logic? Prove it in Agda.\n",
    "$$(A \\to B) \\leftrightarrow (\\neg A \\vee B).$$\n",
    "\n",
    "<!--- *Hint:* Classical implication intuitionistically implies intuitionistic implication. For this reason, classical logic can be seen as a conservative extension of intuitionistic logic. -->"
   ]
  },
  {
   "cell_type": "code",
   "execution_count": 50,
   "metadata": {},
   "outputs": [
    {
     "name": "stdout",
     "output_type": "stream",
     "text": [
      "*Type-checking* \n",
      "*Type-checking* Checking code.lab01.ex07 (/Users/lorenzo/Dropbox/Workspace/teaching/Teaching/2018-2019/summer semester/LDI (logika dla informatyków)/lab/agda/code/lab01/ex07.agda).\n",
      "\n",
      "*All Done* "
     ]
    }
   ],
   "source": [
    "module code.lab01.ex07 where\n",
    "open import code.lab01.true-false\n",
    "open import code.lab01.neg\n",
    "open import code.or\n",
    "\n",
    "-- your solution here"
   ]
  },
  {
   "cell_type": "markdown",
   "metadata": {},
   "source": [
    "## Challenges\n",
    "\n"
   ]
  },
  {
   "cell_type": "code",
   "execution_count": 52,
   "metadata": {},
   "outputs": [
    {
     "name": "stdout",
     "output_type": "stream",
     "text": [
      "*Type-checking* \n",
      "*All Done* "
     ]
    }
   ],
   "source": [
    "module code.lab01.logic where\n",
    "open import code.or public\n",
    "open import code.neg public \n",
    "open import code.and public \n",
    "open import code.true-false public"
   ]
  },
  {
   "cell_type": "markdown",
   "metadata": {},
   "source": [
    "**Exercise.** While $\\neg \\neg A \\to A$ does not hold in intuitionistic logic, prove that the following *triple negation* law holds\n",
    "\n",
    "$$\\neg \\neg \\neg A \\to \\neg A.$$\n",
    "\n",
    "*Hint:* Expand the definition of \"$\\neg$\". You should get a function of two arguments and output $\\bot$."
   ]
  },
  {
   "cell_type": "code",
   "execution_count": 53,
   "metadata": {},
   "outputs": [
    {
     "name": "stdout",
     "output_type": "stream",
     "text": [
      "*Type-checking* \n",
      "*Type-checking* Checking code.lab01.ex03 (/Users/lorenzo/Dropbox/Workspace/teaching/Teaching/2018-2019/summer semester/LDI (logika dla informatyków)/lab/agda/code/lab01/ex03.agda).\n",
      "\n",
      "*All Goals* ?0 : ¬ (¬ (¬ A)) → ¬ A\n"
     ]
    }
   ],
   "source": [
    "module code.lab01.ex03 where\n",
    "open import code.lab01.neg\n",
    "\n",
    "¬¬¬-rule : {A : Set} → ¬ ¬ ¬ A → ¬ A\n",
    "¬¬¬-rule = ?"
   ]
  },
  {
   "cell_type": "markdown",
   "metadata": {},
   "source": [
    "**Exercise (Irrefutability).**\n",
    "<!--- In classical logic we have the following *law of excluded middle*:\n",
    "$$ A \\vee \\neg A. $$\n",
    "Why there is no Agda program of the corresponding type `{A : Set} → A ∨ ¬ A`? -->\n",
    "\n",
    "Show that the following classical tautologies $P$ are intuitionistically *irrefutable*, in the sense that $\\neg \\neg P$ is an intuitionistic tautology:\n",
    "\n",
    "1. Law of excluded middle: $\\neg \\neg (A \\vee \\neg A)$.\n",
    "   *Hint: Expand the definition of $\\neg$. You will need: `left`, `right`, and $\\lambda$-abstraction.*\n",
    "2. Implication as disjunction: $\\neg \\neg ((A \\to B) \\to \\neg A \\vee B)$.\n",
    "3. De Morgan: $\\neg \\neg (\\neg (A \\wedge B) \\to \\neg A \\vee \\neg B)$."
   ]
  },
  {
   "cell_type": "code",
   "execution_count": 55,
   "metadata": {},
   "outputs": [
    {
     "name": "stdout",
     "output_type": "stream",
     "text": [
      "*Type-checking* \n",
      "*Type-checking* Checking code.lab01.irref (/Users/lorenzo/Dropbox/Workspace/teaching/Teaching/2018-2019/summer semester/LDI (logika dla informatyków)/lab/agda/code/lab01/irref.agda).\n",
      "\n",
      "*Type-checking*  Checking code.lab01.logic (/Users/lorenzo/Dropbox/Workspace/teaching/Teaching/2018-2019/summer semester/LDI (logika dla informatyków)/lab/agda/code/lab01/logic.agda).\n",
      "\n",
      "*All Goals* ?0 : _0\n",
      "?1 : ?0\n",
      "?2 : _3\n",
      "?3 : ?2\n",
      "?4 : _6\n",
      "?5 : ?4\n",
      "Sort _0  [ at /Users/lorenzo/Dropbox/Workspace/teaching/Teaching/2018-2019/summer semester/LDI (logika dla informatyków)/lab/agda/code/lab01/irref.agda:4,25-26 ]\n",
      "Sort _3  [ at /Users/lorenzo/Dropbox/Workspace/teaching/Teaching/2018-2019/summer semester/LDI (logika dla informatyków)/lab/agda/code/lab01/irref.agda:7,14-15 ]\n",
      "Sort _6  [ at /Users/lorenzo/Dropbox/Workspace/teaching/Teaching/2018-2019/summer semester/LDI (logika dla informatyków)/lab/agda/code/lab01/irref.agda:10,18-19 ]\n"
     ]
    }
   ],
   "source": [
    "module code.lab01.irref where\n",
    "open import code.lab01.logic\n",
    "\n",
    "excluded-middle-irref : ?\n",
    "excluded-middle-irref = ?\n",
    "\n",
    "impl-irref : ?\n",
    "impl-irref = ?\n",
    "\n",
    "deMorgan-irref : ?\n",
    "deMorgan-irref = ?"
   ]
  },
  {
   "cell_type": "markdown",
   "metadata": {},
   "source": [
    "**Exercise (Weak Peirce's law).**\n",
    "Prove the following weakening of Peirce's law:\n",
    "$$((((A \\to B) \\to A) \\to A) \\to B) \\to B.$$"
   ]
  },
  {
   "cell_type": "code",
   "execution_count": 57,
   "metadata": {},
   "outputs": [
    {
     "name": "stdout",
     "output_type": "stream",
     "text": [
      "*Type-checking* \n",
      "*Type-checking* Checking code.lab01.weak-peirce (/Users/lorenzo/Dropbox/Workspace/teaching/Teaching/2018-2019/summer semester/LDI (logika dla informatyków)/lab/agda/code/lab01/weak-peirce.agda).\n",
      "\n",
      "*All Goals* ?0 : ((((A → B) → A) → A) → B) → B\n"
     ]
    }
   ],
   "source": [
    "module code.lab01.weak-peirce where\n",
    "\n",
    "wp : {A B : Set} → ((((A → B) → A) → A) → B) → B\n",
    "wp = ?"
   ]
  },
  {
   "cell_type": "markdown",
   "metadata": {},
   "source": [
    "**Exercise.** In the previous exercises we have seen that the following principles are not intuitionistic tautologies:\n",
    "1. Law of excluded middle: $A \\vee \\neg A$.\n",
    "2. Elimination of double negation: $\\neg \\neg A \\to A$.\n",
    "3. Implication as disjunction: $(A \\to B) \\to \\neg A \\vee B$.\n",
    "4. The Negated De Morgan's law: $\\neg (\\neg A \\wedge \\neg B) \\to A \\vee B$.\n",
    "5. Peirce's Law: $((A \\to B) \\to A) \\to A$.\n",
    "\n",
    "Show that all principles above are logically equivalent in intuitionistic logic.\n",
    "Each propositional variable $A, B$ is universally quantified in each principle.\n",
    "\n",
    "*Hint:* Prove the following sequence of implications:\n",
    "- $1 \\to 2$.\n",
    "- $2 \\to 3$: Use irrefutability of $(A → B) \\to \\neg A \\vee B$, proved earlier:\n",
    "$ \\neg \\neg ((A \\to B) \\to \\neg A \\vee B).$\n",
    "- $3 \\to 1$.\n",
    "- $1 \\to 4$: Use the excluded middle for $A$ and for $B$.\n",
    "- $4 \\to 1$: Use $\\neg (\\neg A \\wedge \\neg B) \\to A \\vee B$ with $B \\equiv \\neg A$.\n",
    "- $1 \\to 5$.\n",
    "- $5 \\to 1$: Use Peirce's law $((A' \\to B') \\to A') \\to A'$ with\n",
    "$A' \\equiv A \\vee \\neg A$ and $B' \\equiv \\bot.$"
   ]
  },
  {
   "cell_type": "code",
   "execution_count": 59,
   "metadata": {},
   "outputs": [
    {
     "name": "stdout",
     "output_type": "stream",
     "text": [
      "*Type-checking* \n",
      "*Type-checking* Checking code.lab01.LEM-eq (/Users/lorenzo/Dropbox/Workspace/teaching/Teaching/2018-2019/summer semester/LDI (logika dla informatyków)/lab/agda/code/lab01/LEM-eq.agda).\n",
      "\n",
      "*Type-checking*  Checking code.lab01.irref (/Users/lorenzo/Dropbox/Workspace/teaching/Teaching/2018-2019/summer semester/LDI (logika dla informatyków)/lab/agda/code/lab01/irref.agda).\n",
      "\n",
      "*All Goals* ?0 : _0\n",
      "?1 : ?0\n",
      "?2 : _3\n",
      "?3 : ?2\n",
      "?4 : _6\n",
      "?5 : ?4\n",
      "?6 : _9\n",
      "?7 : ?6\n",
      "?8 : _12\n",
      "?9 : ?8\n",
      "?10 : _15\n",
      "?11 : ?10\n",
      "?12 : _18\n",
      "?13 : ?12\n",
      "Sort _0  [ at /Users/lorenzo/Dropbox/Workspace/teaching/Teaching/2018-2019/summer semester/LDI (logika dla informatyków)/lab/agda/code/lab01/LEM-eq.agda:5,7-8 ]\n",
      "Sort _3  [ at /Users/lorenzo/Dropbox/Workspace/teaching/Teaching/2018-2019/summer semester/LDI (logika dla informatyków)/lab/agda/code/lab01/LEM-eq.agda:8,7-8 ]\n",
      "Sort _6  [ at /Users/lorenzo/Dropbox/Workspace/teaching/Teaching/2018-2019/summer semester/LDI (logika dla informatyków)/lab/agda/code/lab01/LEM-eq.agda:11,7-8 ]\n",
      "Sort _9  [ at /Users/lorenzo/Dropbox/Workspace/teaching/Teaching/2018-2019/summer semester/LDI (logika dla informatyków)/lab/agda/code/lab01/LEM-eq.agda:14,7-8 ]\n",
      "Sort _12  [ at /Users/lorenzo/Dropbox/Workspace/teaching/Teaching/2018-2019/summer semester/LDI (logika dla informatyków)/lab/agda/code/lab01/LEM-eq.agda:17,7-8 ]\n",
      "Sort _15  [ at /Users/lorenzo/Dropbox/Workspace/teaching/Teaching/2018-2019/summer semester/LDI (logika dla informatyków)/lab/agda/code/lab01/LEM-eq.agda:20,7-8 ]\n",
      "Sort _18  [ at /Users/lorenzo/Dropbox/Workspace/teaching/Teaching/2018-2019/summer semester/LDI (logika dla informatyków)/lab/agda/code/lab01/LEM-eq.agda:23,7-8 ]\n"
     ]
    }
   ],
   "source": [
    "module code.lab01.LEM-eq where\n",
    "open import code.lab01.logic public\n",
    "open import code.lab01.irref public\n",
    "\n",
    "1→2 : ?\n",
    "1→2 = ?\n",
    "\n",
    "2→3 : ?\n",
    "2→3 = ?\n",
    "\n",
    "3→1 : ?\n",
    "3→1 = ?\n",
    "\n",
    "1→4 : ?\n",
    "1→4 = ?\n",
    "\n",
    "4→1 : ?\n",
    "4→1 = ?\n",
    "\n",
    "1→5 : ?\n",
    "1→5 = ?\n",
    "\n",
    "5→1 : ?\n",
    "5→1 = ?"
   ]
  },
  {
   "cell_type": "markdown",
   "metadata": {},
   "source": [
    "**Exercise:** Show that the following two principles are intuitionistically equivalent:\n",
    "1. De Morgan's Law: $\\neg (A \\wedge B) \\to \\neg A \\vee \\neg B$.\n",
    "2. The *weak principle of excluded middle*: $\\neg A \\vee \\neg \\neg A$.\n",
    "This is interesting, because the weak principle of excluded middle is strictly weaker than the principle of excluded middle, but it is still not an intuitonistic tautology."
   ]
  },
  {
   "cell_type": "code",
   "execution_count": 61,
   "metadata": {},
   "outputs": [
    {
     "name": "stdout",
     "output_type": "stream",
     "text": [
      "*Type-checking* \n",
      "*Type-checking* Checking code.lab01.weak-LEM (/Users/lorenzo/Dropbox/Workspace/teaching/Teaching/2018-2019/summer semester/LDI (logika dla informatyków)/lab/agda/code/lab01/weak-LEM.agda).\n",
      "\n",
      "*All Goals* ?0 : _0\n",
      "?1 : ?0\n",
      "?2 : _3\n",
      "?3 : ?2\n",
      "Sort _0  [ at /Users/lorenzo/Dropbox/Workspace/teaching/Teaching/2018-2019/summer semester/LDI (logika dla informatyków)/lab/agda/code/lab01/weak-LEM.agda:3,7-8 ]\n",
      "Sort _3  [ at /Users/lorenzo/Dropbox/Workspace/teaching/Teaching/2018-2019/summer semester/LDI (logika dla informatyków)/lab/agda/code/lab01/weak-LEM.agda:6,7-8 ]\n"
     ]
    }
   ],
   "source": [
    "module code.lab01.weak-LEM where\n",
    "\n",
    "1→2 : ?\n",
    "1→2 = ?\n",
    "\n",
    "2→1 : ?\n",
    "2→1 = ?"
   ]
  },
  {
   "cell_type": "code",
   "execution_count": 63,
   "metadata": {},
   "outputs": [
    {
     "name": "stdout",
     "output_type": "stream",
     "text": [
      "*Type-checking* \n",
      "*Type-checking* Checking code.lab01.all (/Users/lorenzo/Dropbox/Workspace/teaching/Teaching/2018-2019/summer semester/LDI (logika dla informatyków)/lab/agda/code/lab01/all.agda).\n",
      "\n",
      "*Type-checking*  Checking code.lab01.id (/Users/lorenzo/Dropbox/Workspace/teaching/Teaching/2018-2019/summer semester/LDI (logika dla informatyków)/lab/agda/code/lab01/id.agda).\n",
      "\n",
      "*All Done* "
     ]
    }
   ],
   "source": [
    "module code.lab01.all where\n",
    "open import code.lab01.id public\n",
    "open import code.lab01.and public\n",
    "open import code.lab01.or public\n",
    "open import code.lab01.neg public\n",
    "open import code.lab01.true-false public"
   ]
  },
  {
   "cell_type": "code",
   "execution_count": null,
   "metadata": {},
   "outputs": [],
   "source": []
  }
 ],
 "metadata": {
  "celltoolbar": "Tags",
  "kernelspec": {
   "display_name": "agda",
   "language": "agda",
   "name": "agda"
  },
  "language_info": {
   "file_extension": ".agda",
   "mimetype": "text/agda",
   "name": "agda"
  },
  "latex_envs": {
   "LaTeX_envs_menu_present": true,
   "autoclose": false,
   "autocomplete": true,
   "bibliofile": "biblio.bib",
   "cite_by": "apalike",
   "current_citInitial": 1,
   "eqLabelWithNumbers": true,
   "eqNumInitial": 1,
   "hotkeys": {
    "equation": "Ctrl-E",
    "itemize": "Ctrl-I"
   },
   "labels_anchors": false,
   "latex_user_defs": false,
   "report_style_numbering": false,
   "user_envs_cfg": false
  },
  "nbTranslate": {
   "displayLangs": [
    "*"
   ],
   "hotkey": "alt-t",
   "langInMainMenu": true,
   "sourceLang": "en",
   "targetLang": "fr",
   "useGoogleTranslate": true
  }
 },
 "nbformat": 4,
 "nbformat_minor": 2
}
