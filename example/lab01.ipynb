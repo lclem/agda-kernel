{
 "cells": [
  {
   "cell_type": "markdown",
   "metadata": {},
   "source": [
    "**LICENCE:**\n",
    "This tutorial contains adaptations of material from [Programming Language Foundations in Agda](https://plfa.github.io/) by Phil Wadler and Wen Kokke. It is licensed under Creative Commons Attribution 4.0 International.\n",
    "\n",
    "# Curry-Howard isomorphism\n",
    "\n",
    "\\begin{align*}\n",
    "    &\\textrm{Logic} && &&\\textrm{Computer science}\\\\\n",
    "    \\hline\n",
    "    &\\textrm{Theorems} &\\leftrightarrow &&&\n",
    "        \\textrm{Types} && A \\\\\n",
    "    &\\textrm{Proofs} &\\leftrightarrow &&&\n",
    "        \\textrm{Programs (terms)}\n",
    "            && a \\\\\n",
    "    &\\textrm{Proof simplification} &\\leftrightarrow &&&\n",
    "        \\textrm{Program execution}\n",
    "            && \\textrm{run } a \\\\\n",
    "    \\hline\n",
    "    &\\textrm{Proof development} &\\leftrightarrow &&&\n",
    "        \\textrm{Programming}\n",
    "            && \\textrm{write } a \\\\\n",
    "    &\\textrm{Proof checking} &\\leftrightarrow &&&\n",
    "        \\textrm{Type checking}\n",
    "            && \\textrm{given } a \\textrm{ and } A, \\textrm{ does } a : A?\\\\\n",
    "    &\\textrm{Validity (mathematics)} &\\leftrightarrow &&&\n",
    "        \\textrm{Inhabitation problem}\n",
    "            && \\textrm{given } A, \\textrm{ is there some $a : A$?}\n",
    "\\end{align*}\n",
    "\n",
    "<!--- One important difference is that,\n",
    "while in logic it is enough to have any proof $a$ of a theorem $A$\n",
    "(in this sense all proofs of $A$ are the same),\n",
    "in programming not all programs are the same.\n",
    "For instance, to know that $\\mathbb N \\to \\mathbb N$ is inhabited\n",
    "it suffices to exhibit any computable total function on the natural numbers.\n",
    "However, we might be interested in specific such functions, such as factora, Fibonacci, etc.\n",
    "Moreover, in programming we even go one step further,\n",
    "since two extensionally equivalent function may be intensionally different,\n",
    "e.g., smaller/faster programs are preferred. -->\n",
    "\n",
    "# Programming in Agda\n",
    "\n",
    "**SYNTAX:**\n",
    "You can enter `→` by writing `->` and pressing TAB; pressing TAB again goes back to `->`. Similar useful combinations are:\n",
    "\n",
    "| base form | alternate form |\n",
    "|:---------:|:--------------:|\n",
    "| ->  | → |\n",
    "| \\   | λ |\n",
    "| neg | ¬ |\n",
    "| top | ⊤ |\n",
    "| bot | ⊥ |\n",
    "| /\\  | ∧ |\n",
    "| \\/  |  |\n",
    "| <   | ⟨ |\n",
    "| >   | ⟩ |\n",
    "\n",
    "<!---\n",
    "| forall | ∀ |\n",
    "| exists | ∃ |\n",
    "| phi | |\n",
    "| psi | |\n",
    "-->\n",
    "\n",
    "**PRO TRICKS:**\n",
    "- You can ask Agda to provide the type of a closed expression. Just put the cursor nearby an expression and press SHIFT+TAB.\n",
    "- You can ask Agda to compute the normal form of an expression enclosed in parantheses, such as `(λ x → x)` (already in normal form).\n",
    "\n",
    "Starred exercises \"**Exercise***\" should be skipped on a first reading and dealt with only after all the non-starred one are resolved."
   ]
  },
  {
   "cell_type": "markdown",
   "metadata": {},
   "source": [
    "# Intuitionistic propositional logic\n",
    "## Implication\n",
    "Intuitionistic implication is implemented as *function space*\n",
    "$$A \\to B.$$\n",
    "The idea is that a proof of $A \\to B$\n",
    "is a (terminating) *program* $t : A \\to B$\n",
    "that, given a proof $a : A$ of $A$,\n",
    "always terminates and produces a proof $t\\; a : B$ of $B$.\n",
    "The $\\to$-eliminaton rule is implemented by *function application*.\n",
    "<!--- - The validity problem for implication intuitionistic propositional logic is PSPACE-complete. What is the complexity for the corresponding problem for classical logic? coNP-complete. -->\n",
    "\n",
    "**Polymorphism:**\n",
    "The polymorphic identity function in Agda is written as follows:\n",
    "\n",
    "```agda\n",
    "id : (A : Set) → A → A\n",
    "id A x = x\n",
    "```\n",
    "\n",
    "(Compare this with the equivalent Haskell definition:\n",
    "```haskell\n",
    "id :: A -> A\n",
    "id x = x\n",
    "```\n",
    "Incidentally, note the crucial difference that the typing operator in Agda is `:` instead of `::`.)\n",
    "\n",
    "Therefore, in Agda `id ℕ` is the identity on the natural numbers,\n",
    "`id (ℕ → ℕ)` is the identity on functions of natural numbers,\n",
    "and so on.\n",
    "It turns out that 1) specifying the argument `A` is boring\n",
    "and 2) in most cases Agda can infer it from the context.\n",
    "For these two reasons, Agda allows us to say that some argument is implicit `{A : Set}`, as we demonstrate below.\n",
    "The cell can be evaluated with SHIFT+ENTER."
   ]
  },
  {
   "cell_type": "code",
   "execution_count": 71,
   "metadata": {},
   "outputs": [
    {
     "name": "stdout",
     "output_type": "stream",
     "text": [
      "*Error*(/Users/lorenzo/Dropbox/Workspace/teaching/Teaching/2018-2019/summer semester/LDI (logika dla informatyków)/lab/agda/lab01/00.agda:1,17-17\n",
      "/Users/lorenzo/Dropbox/Workspace/teaching/Teaching/2018-2019/summer semester/LDI (logika dla informatyków)/lab/agda/lab01/00.agda:1,17: in the name 00, the part 00 is not valid because it is a literal\n",
      "where<ERROR>\n",
      "\n",
      "\n",
      "-- We start by proving A → A...)\n"
     ]
    }
   ],
   "source": [
    "module lab01.00 where\n",
    "\n",
    "-- We start by proving A → A;\n",
    "-- this is done with the identity function\n",
    "-- in dependent types, the identity function is parameterised by a set A.\n",
    "\n",
    "id : {A : Set} → A → A\n",
    "id a = a\n",
    "\n",
    "-- apply corresponds to →-elimination (i.e., modus ponens)\n",
    "-- below, \"a→b\" is the name of a variable, like \"a\"\n",
    "-- (there is nothing special about that \"→\")\n",
    "apply : {A B : Set} → (A → B) → A → B\n",
    "apply a→b = λ a → a→b a\n",
    "\n",
    "-- we use here lambda-notation;\n",
    "-- equivalent spellings:\n",
    "-- apply a→b a = a→b a\n",
    "-- apply a→b = a→b\n",
    "-- apply = id' (why?)\n",
    "\n",
    "-- the last example shows why we will not explicitly use \"apply\" below."
   ]
  },
  {
   "cell_type": "markdown",
   "metadata": {},
   "source": [
    "**UNDER THE HOOD:** A code cell must start with a line in the format\n",
    "```agda\n",
    "module A.B.C where\n",
    "```\n",
    "Upon evaluation, the file `A/B/C.agda` is created on disk from the cell's contents\n",
    "and fed to the Agda interpreter.\n",
    "For this reason, it is important to evaluate a cell to ensure that its changes are reflected on disk and can be used from other cells.\n",
    "\n",
    "**SPACING:**\n",
    "Agda allows us to be very flexible in the variable names,\n",
    "which can be strings such as `x`, `idλ`, `a→b`, `&&true`, or even arbitrary unicode symbols `💔`, provided there is no space in-between.\n",
    "As a consequence, spaces in Agda have a syntactic meaning as separators,\n",
    "and we need to be very generous with them.\n",
    "\n",
    "**Exercise 0.** Declare and define a function `twice` that applies a given function two times to its argument.\n",
    "Use an implicit argument in the definition.\n",
    "- What is the type of `(twice twice twice)`? Use SHIFT+TAB to verify your guess.\n",
    "- What does the latter term evaluate to? Use TAB."
   ]
  },
  {
   "cell_type": "code",
   "execution_count": 72,
   "metadata": {},
   "outputs": [
    {
     "name": "stdout",
     "output_type": "stream",
     "text": [
      "*Type-checking*\n",
      "*Type-checking*(Checking lab01.twice (/Users/lorenzo/Dropbox/Workspace/teaching/Teaching/2018-2019/summer semester/LDI (logika dla informatyków)/lab/agda/lab01/twice.agda).\n",
      ")\n",
      "*All Goals*(?0 : _0\n",
      "?1 : ?0\n",
      "Sort _0  [ at /Users/lorenzo/Dropbox/Workspace/teaching/Teaching/2018-2019/summer semester/LDI (logika dla informatyków)/lab/agda/lab01/twice.agda:4,9-10 ]\n",
      ")\n"
     ]
    }
   ],
   "source": [
    "module lab01.twice where\n",
    "\n",
    "-- when there are question marks \"?\" it means that it must be completed\n",
    "twice : ?\n",
    "twice = ?\n",
    "\n",
    "-- (twice twice twice)"
   ]
  },
  {
   "cell_type": "markdown",
   "metadata": {},
   "source": [
    "**Exercise 1.** Prove in Agda following theorems of intuitionistic propositional logic:\n",
    "\\begin{align}\n",
    "(1) &&& (A \\to B \\to C) \\to (A \\to B) \\to A \\to C, \\\\\n",
    "(2) &&& (A \\to B) \\to (A \\to C) \\to (B \\to C \\to D) \\to A \\to D, \\\\\n",
    "(3) &&& A \\to A \\to A.\n",
    "\\end{align}\n",
    "How many proofs does $(3)$ have?"
   ]
  },
  {
   "cell_type": "code",
   "execution_count": 74,
   "metadata": {},
   "outputs": [
    {
     "name": "stdout",
     "output_type": "stream",
     "text": [
      "*Type-checking*\n",
      "*Type-checking*(Checking lab01.ex01 (/Users/lorenzo/Dropbox/Workspace/teaching/Teaching/2018-2019/summer semester/LDI (logika dla informatyków)/lab/agda/lab01/ex01.agda).\n",
      ")\n",
      "*All Done*\n"
     ]
    }
   ],
   "source": [
    "module lab01.ex01 where\n",
    "\n",
    "-- your code here"
   ]
  },
  {
   "cell_type": "markdown",
   "metadata": {},
   "source": [
    "## True and false\n",
    "\n",
    "The two truth values $\\top$ and $\\bot$ are implemented via Agda's data type mechanism.\n",
    "The intuition is that the type $\\top$ has precisely one inhabitant (called `tt` below)\n",
    "and that $\\bot$ has no inhabitants at all."
   ]
  },
  {
   "cell_type": "code",
   "execution_count": 76,
   "metadata": {},
   "outputs": [
    {
     "name": "stdout",
     "output_type": "stream",
     "text": [
      "*Type-checking*\n",
      "*All Done*\n"
     ]
    }
   ],
   "source": [
    "module lab01.true-false where\n",
    "\n",
    "-- There is only one way to construct an inhabitant of ⊤,\n",
    "-- namely with the constructor tt;\n",
    "-- there is no ⊤-elimination rule\n",
    "data ⊤ : Set where\n",
    "  tt : ⊤\n",
    "  \n",
    "-- There is no way to construct an inhabitant of ⊥ (the type is empty!)\n",
    "data ⊥ : Set where\n",
    "\n",
    "-- there is one ⊥-elimination rule that says that anything can be proved from ⊥\n",
    "-- the absurd pattern \"()\" is how we tell Agda that there cannot be any argument to ⊥-elim\n",
    "-- this allows to derive an inhabitant of A,  for any A!\n",
    "⊥-elim : {A : Set} → ⊥ → A\n",
    "⊥-elim ()\n",
    "\n",
    "-- example use of ⊥-elim\n",
    "-- Agda can derive that ⊥-elim is applied to type \"{A → B}\", but we write it for clarity here\n",
    "p : (A B : Set) → ⊥ → (A → B)\n",
    "p A B = ⊥-elim {A → B}\n",
    "-- the same as\n",
    "-- p A B = ⊥-elim"
   ]
  },
  {
   "cell_type": "markdown",
   "metadata": {},
   "source": [
    "## Negation\n",
    "\n",
    "Negation is not a primitive in intuitionistic logic.\n",
    "In intuitionistic logic $\\neg A$ means that, if we had a proof of $A$, then we could derive a contradiction $\\bot$:\n",
    "$$ \\neg A \\;\\equiv\\; A \\to \\bot.$$\n",
    "And this is how negation is defined in Agda."
   ]
  },
  {
   "cell_type": "code",
   "execution_count": 77,
   "metadata": {},
   "outputs": [
    {
     "name": "stdout",
     "output_type": "stream",
     "text": [
      "*Type-checking*\n",
      "*Type-checking*( Checking lab01.true-false (/Users/lorenzo/Dropbox/Workspace/teaching/Teaching/2018-2019/summer semester/LDI (logika dla informatyków)/lab/agda/lab01/true-false.agda).\n",
      ")\n",
      "*All Done*\n"
     ]
    }
   ],
   "source": [
    "module lab01.neg where\n",
    "\n",
    "-- we import the definition for the truth values true and false\n",
    "open import lab01.true-false -- using (⊤; ⊥)\n",
    "\n",
    "infix 3 ¬_\n",
    "\n",
    "-- Note that we are defining a type now!\n",
    "-- \"¬ A\" is a shorthand for (i.e., evaluates to) \"A → ⊥\"\n",
    "¬_ : Set → Set\n",
    "¬ A = A → ⊥\n",
    "\n",
    "-- This also shows how operators ¬_ can be defined in Agda"
   ]
  },
  {
   "cell_type": "markdown",
   "metadata": {},
   "source": [
    "**Exercise 2**. The logic of Agda is intuitionistic. In particular, in Agda the following double negation law does *not* hold:\n",
    "$$ A \\leftrightarrow \\neg \\neg A. $$\n",
    "Which one of the two directions holds in intuitionistic logic?\n",
    "- Formalise this and prove it in Agda.\n",
    "- Does the proof (i.e., program) resemble something we have already seen?"
   ]
  },
  {
   "cell_type": "code",
   "execution_count": 78,
   "metadata": {},
   "outputs": [
    {
     "name": "stdout",
     "output_type": "stream",
     "text": [
      "*Type-checking*\n",
      "*Type-checking*(Checking lab01.ex02 (/Users/lorenzo/Dropbox/Workspace/teaching/Teaching/2018-2019/summer semester/LDI (logika dla informatyków)/lab/agda/lab01/ex02.agda).\n",
      ")\n",
      "*Type-checking*( Checking lab01.neg (/Users/lorenzo/Dropbox/Workspace/teaching/Teaching/2018-2019/summer semester/LDI (logika dla informatyków)/lab/agda/lab01/neg.agda).\n",
      ")\n",
      "*All Goals*(?0 : .lab01.true-false.⊥\n",
      ")\n"
     ]
    }
   ],
   "source": [
    "module lab01.ex02 where\n",
    "open import lab01.neg\n",
    "\n",
    "-- recall that ¬ ¬ A = (A → ⊥) → ⊥\n",
    "-- your solution here\n",
    "¬¬-intro : {A : Set} → A → ¬ ¬ A\n",
    "¬¬-intro x f = ?\n",
    "\n",
    "-- the occurrence of \"?\" above is called a hole;\n",
    "-- Agda will compile and remind us that there are open goals corresponding to holes"
   ]
  },
  {
   "cell_type": "markdown",
   "metadata": {},
   "source": [
    "**Exercise 3.** We have seen that $\\neg \\neg A \\to A$ does not hold in intuitionistic logic.\n",
    "Show that the following *triple negation* law holds\n",
    "$$\\neg \\neg \\neg A \\to \\neg A.$$"
   ]
  },
  {
   "cell_type": "code",
   "execution_count": 80,
   "metadata": {},
   "outputs": [
    {
     "name": "stdout",
     "output_type": "stream",
     "text": [
      "*Type-checking*\n",
      "*Type-checking*(Checking lab01.ex03 (/Users/lorenzo/Dropbox/Workspace/teaching/Teaching/2018-2019/summer semester/LDI (logika dla informatyków)/lab/agda/lab01/ex03.agda).\n",
      ")\n",
      "*All Goals*(?0 : ¬ (¬ (¬ .A)) → ¬ .A\n",
      ")\n"
     ]
    }
   ],
   "source": [
    "module lab01.ex03 where\n",
    "open import lab01.neg\n",
    "\n",
    "¬¬¬-rule : {A : Set} → ¬ ¬ ¬ A → ¬ A\n",
    "¬¬¬-rule = ?"
   ]
  },
  {
   "cell_type": "markdown",
   "metadata": {},
   "source": [
    "**Exercise 4.**\n",
    "The *contrapositive* of an implication $A \\to B$ is $\\neg B \\to \\neg A$.\n",
    "In classical logic an implication and its contrapositive are logically equivalent, i.e., the following is a tautology:\n",
    "$$(A \\to B) \\leftrightarrow (\\neg B \\to \\neg A).$$\n",
    "Use Agda to prove which, if any, of the two directions above holds in intuitionistic logic."
   ]
  },
  {
   "cell_type": "code",
   "execution_count": 82,
   "metadata": {},
   "outputs": [
    {
     "name": "stdout",
     "output_type": "stream",
     "text": [
      "*Type-checking*\n",
      "*Type-checking*(Checking lab01.ex04 (/Users/lorenzo/Dropbox/Workspace/teaching/Teaching/2018-2019/summer semester/LDI (logika dla informatyków)/lab/agda/lab01/ex04.agda).\n",
      ")\n",
      "*All Goals*(?0 : _0\n",
      "?1 : ?0\n",
      "Sort _0  [ at /Users/lorenzo/Dropbox/Workspace/teaching/Teaching/2018-2019/summer semester/LDI (logika dla informatyków)/lab/agda/lab01/ex04.agda:5,18-19 ]\n",
      ")\n"
     ]
    }
   ],
   "source": [
    "module lab01.ex04 where\n",
    "open import lab01.neg\n",
    "\n",
    "-- your solution here\n",
    "contrapositive : ?\n",
    "contrapositive = ?"
   ]
  },
  {
   "cell_type": "markdown",
   "metadata": {},
   "source": [
    "## Conjunction and disjunction\n",
    "\n",
    "### Conjunction\n",
    "\n",
    "A proof of $A \\wedge B$ is a pair $\\langle a, b \\rangle$,\n",
    "where $a$ is a proof of $A$ and $b$ is a proof of $B$.\n",
    "This intuition translates immediately into the following *product* datatype:\n",
    "\n",
    "```agda\n",
    "data _∧_ (A : Set) (B : Set) : Set where\n",
    "  ⟨_,_⟩ : A → B → A ∧ B\n",
    "```\n",
    "The datatype `_∧_` is parametrised by two types, `A` and `B`,\n",
    "and it is written `A ∧ B` or, using prefix notation, `_∧_ A B`.\n",
    "It has only one constructor `⟨_,_⟩`, corresponding to the ∧-introduction rule:\n",
    "Given elements `a : A` and `b : B`,  `⟨ a , b ⟩` has type `A ∧ B` (notice the mandatory spaces!).\n",
    "The term above can also be written in prefix notation as `⟨_,_⟩ A B`.\n",
    "We can then define the two projection functions, which correspond to the two ∧-elimination rules:\n",
    "\n",
    "```agda\n",
    "fst : {A B : Set} → A ∧ B → A\n",
    "fst ⟨ a , _ ⟩ = a\n",
    "\n",
    "snd : {A B : Set} → A ∧ B → B\n",
    "snd ⟨ _ , b ⟩ = b\n",
    "```"
   ]
  },
  {
   "cell_type": "code",
   "execution_count": 84,
   "metadata": {},
   "outputs": [
    {
     "name": "stdout",
     "output_type": "stream",
     "text": [
      "*Type-checking*\n",
      "*All Done*\n"
     ]
    }
   ],
   "source": [
    "module lab01.and where\n",
    "\n",
    "infixr 2 _∧_\n",
    "\n",
    "-- The only way to build a product is from its two components\n",
    "-- the constructor corresponds to the ∧-introduction rule\n",
    "data _∧_ (A : Set) (B : Set) : Set where\n",
    "  ⟨_,_⟩ : A → B → A ∧ B\n",
    "  \n",
    "-- the two projection functions correspond to the two ∧-elimination rules\n",
    "fst : {A B : Set} → A ∧ B → A\n",
    "fst ⟨ a , _ ⟩ = a\n",
    "\n",
    "snd : {A B : Set} → A ∧ B → B\n",
    "snd ⟨ _ , b ⟩ = b"
   ]
  },
  {
   "cell_type": "markdown",
   "metadata": {},
   "source": [
    "**Exercise 5.** Formalise and prove the following:\n",
    "1. Conjunction is commutative.\n",
    "<!--- $ A \\wedge B \\;\\leftrightarrow\\; B \\wedge A$. -->\n",
    "2. Curry/uncurry: The formula $A → B → C$ is \"the same\" as $A \\wedge B → C$."
   ]
  },
  {
   "cell_type": "code",
   "execution_count": 85,
   "metadata": {},
   "outputs": [
    {
     "name": "stdout",
     "output_type": "stream",
     "text": [
      "*Type-checking*\n",
      "*Type-checking*(Checking lab01.ex05 (/Users/lorenzo/Dropbox/Workspace/teaching/Teaching/2018-2019/summer semester/LDI (logika dla informatyków)/lab/agda/lab01/ex05.agda).\n",
      ")\n",
      "*Type-checking*( Checking lab01.and (/Users/lorenzo/Dropbox/Workspace/teaching/Teaching/2018-2019/summer semester/LDI (logika dla informatyków)/lab/agda/lab01/and.agda).\n",
      ")\n",
      "*All Goals*(?0 : _0\n",
      "?1 : ?0\n",
      "?2 : (.A → .B → .C) → .A ∧ .B → .C\n",
      "?3 : (.A ∧ .B → .C) → .A → .B → .C\n",
      "Sort _0  [ at /Users/lorenzo/Dropbox/Workspace/teaching/Teaching/2018-2019/summer semester/LDI (logika dla informatyków)/lab/agda/lab01/ex05.agda:4,17-18 ]\n",
      ")\n"
     ]
    }
   ],
   "source": [
    "module lab01.ex05 where\n",
    "open import lab01.and\n",
    "\n",
    "∧-commutative : ?\n",
    "∧-commutative = ?\n",
    "\n",
    "uncurry : {A B C : Set} → (A → B → C) → A ∧ B → C\n",
    "uncurry = ?\n",
    "\n",
    "curry : {A B C : Set} → (A ∧ B → C) → A → B → C\n",
    "curry = ?"
   ]
  },
  {
   "cell_type": "markdown",
   "metadata": {},
   "source": [
    "### Disjunction\n",
    "\n",
    "A proof of $A_1 \\vee A_2$ is a pair $(k, t_k)$,\n",
    "where $k \\in \\{1, 2\\}$ specifies that we are proving $A_k$\n",
    "and $t_k : A_k$ is a proof thereof.\n",
    "Since the first component is finite, disjunction can be implemented with two constructors."
   ]
  },
  {
   "cell_type": "code",
   "execution_count": 87,
   "metadata": {},
   "outputs": [
    {
     "name": "stdout",
     "output_type": "stream",
     "text": [
      "*Type-checking*\n",
      "*All Done*\n"
     ]
    }
   ],
   "source": [
    "module lab01.or where\n",
    "\n",
    "-- we give disjunction lower priority than conjunction\n",
    "-- so we can omit parenthesis from (A ∧ B) ∨ C and write A ∧ B ∨ C instead.\n",
    "infix 1 _∨_ \n",
    "\n",
    "-- There are two ways to built a sum.\n",
    "-- The two constructors correspond to the two ∨-introduction rules\n",
    "data _∨_ (A : Set) (B : Set) : Set where\n",
    "    left : A → A ∨ B\n",
    "    right : B → A ∨ B\n",
    "    \n",
    "-- we can do case analysis by pattern matching on the constructor;\n",
    "-- this corresponds to the ∨-elimination rule\n",
    "case : {A B C : Set} → (A → C) → (B → C) → A ∨ B → C\n",
    "case f g (left x) = f x\n",
    "case f g (right x) = g x"
   ]
  },
  {
   "cell_type": "markdown",
   "metadata": {},
   "source": [
    "**Exercise 6.**\n",
    "In classical logic we have the following *law of excluded middle*:\n",
    "$$ A \\vee \\neg A. $$\n",
    "\n",
    "1. Why there is no Agda program of the corresponding type `{A : Set} → A ∨ ¬ A`?\n",
    "2. *Challenge*: Write an Agda program for the *irrefutability* of the law of excluded middle:\n",
    "$$ \\neg \\neg (A \\vee \\neg A). $$\n",
    "Hint: Expand the definition of $\\neg$. You will need: `left`, `right`, and $\\lambda$-abstraction."
   ]
  },
  {
   "cell_type": "code",
   "execution_count": 88,
   "metadata": {},
   "outputs": [
    {
     "name": "stdout",
     "output_type": "stream",
     "text": [
      "*Type-checking*\n",
      "*Type-checking*(Checking lab01.ex06 (/Users/lorenzo/Dropbox/Workspace/teaching/Teaching/2018-2019/summer semester/LDI (logika dla informatyków)/lab/agda/lab01/ex06.agda).\n",
      ")\n",
      "*Type-checking*( Checking lab01.or (/Users/lorenzo/Dropbox/Workspace/teaching/Teaching/2018-2019/summer semester/LDI (logika dla informatyków)/lab/agda/lab01/or.agda).\n",
      ")\n",
      "*All Goals, Errors*(?0 : _0\n",
      "Sort _0  [ at /Users/lorenzo/Dropbox/Workspace/teaching/Teaching/2018-2019/summer semester/LDI (logika dla informatyków)/lab/agda/lab01/ex06.agda:7,18-19 ]\n",
      "\n",
      "———— Errors ————————————————————————————————————————————————\n",
      "Failed to solve the following constraints:\n",
      "  irrefutability : ?0\n",
      ")\n"
     ]
    }
   ],
   "source": [
    "module lab01.ex06 where\n",
    "open import lab01.neg\n",
    "open import lab01.or\n",
    "\n",
    "-- ¬ ¬ (A ∨ ¬ A) = ((A ∨ A → ⊥) → ⊥) → ⊥ \n",
    "\n",
    "irrefutability : ?\n",
    "irrefutability f = ?"
   ]
  },
  {
   "cell_type": "markdown",
   "metadata": {},
   "source": [
    "**Exercise 7 (De Morgan Laws).** Are the following laws valid in intuitionistic logic?\n",
    "If so, write a proof in Agda.\n",
    "\\begin{align}\n",
    " (1) \\qquad \\neg (A \\vee B) \\leftrightarrow \\neg A \\wedge \\neg B. \\\\\n",
    " (2) \\qquad \\neg A \\vee \\neg B \\to \\neg (A \\wedge B). \\\\\n",
    " (3) \\qquad \\neg (A \\wedge B) \\to \\neg A \\vee \\neg B.\n",
    "\\end{align}"
   ]
  },
  {
   "cell_type": "code",
   "execution_count": 90,
   "metadata": {},
   "outputs": [
    {
     "name": "stdout",
     "output_type": "stream",
     "text": [
      "*Type-checking*\n",
      "*Type-checking*(Checking lab01.ex07 (/Users/lorenzo/Dropbox/Workspace/teaching/Teaching/2018-2019/summer semester/LDI (logika dla informatyków)/lab/agda/lab01/ex07.agda).\n",
      ")\n",
      "*All Goals*(?0 : ¬ (.A ∨ .B) → ¬ .A ∧ ¬ .B\n",
      "?1 : ¬ .A ∧ ¬ .B → ¬ (.A ∨ .B)\n",
      "?2 : ¬ .A ∨ ¬ .B → ¬ (.A ∧ .B)\n",
      "?3 : ¬ (.A ∧ .B) → ¬ .A ∨ ¬ .B\n",
      ")\n"
     ]
    }
   ],
   "source": [
    "module lab01.ex07 where\n",
    "open import lab01.and\n",
    "open import lab01.or\n",
    "open import lab01.neg\n",
    "\n",
    "de_morgan1-1 : {A B : Set} → ¬ (A ∨ B) → ¬ A ∧ ¬ B\n",
    "de_morgan1-1 = ?\n",
    "\n",
    "de_morgan1-2 : {A B : Set} → ¬ A ∧ ¬ B → ¬ (A ∨ B)\n",
    "de_morgan1-2 = ?\n",
    "\n",
    "de_morgan2 : {A B : Set} → ¬ A ∨ ¬ B → ¬ (A ∧ B)\n",
    "de_morgan2 = ?\n",
    "\n",
    "de_morgan3 : {A B : Set} → ¬ (A ∧ B) → ¬ A ∨ ¬ B\n",
    "de_morgan3 = ?"
   ]
  },
  {
   "cell_type": "markdown",
   "metadata": {},
   "source": [
    "**Exercise 8.** In classical logic, $A \\to B$ is defined to be $\\neg A \\vee B$.\n",
    "Which of the following two directions hold in intuitionistic logic? Prove it in Agda.\n",
    "$$(A \\to B) \\leftrightarrow (\\neg A \\vee B).$$\n"
   ]
  },
  {
   "cell_type": "code",
   "execution_count": 92,
   "metadata": {},
   "outputs": [
    {
     "name": "stdout",
     "output_type": "stream",
     "text": [
      "*Type-checking*\n",
      "*Type-checking*(Checking lab01.ex08 (/Users/lorenzo/Dropbox/Workspace/teaching/Teaching/2018-2019/summer semester/LDI (logika dla informatyków)/lab/agda/lab01/ex08.agda).\n",
      ")\n",
      "*All Done*\n"
     ]
    }
   ],
   "source": [
    "module lab01.ex08 where\n",
    "open import lab01.true-false\n",
    "open import lab01.neg\n",
    "open import lab01.or\n",
    "\n",
    "-- your solution here"
   ]
  }
 ],
 "metadata": {
  "celltoolbar": "Tags",
  "kernelspec": {
   "display_name": "Agda",
   "language": "agda",
   "name": "agda"
  },
  "language_info": {
   "file_extension": ".agda",
   "mimetype": "text/agda",
   "name": "agda"
  },
  "latex_envs": {
   "LaTeX_envs_menu_present": true,
   "autoclose": false,
   "autocomplete": true,
   "bibliofile": "biblio.bib",
   "cite_by": "apalike",
   "current_citInitial": 1,
   "eqLabelWithNumbers": true,
   "eqNumInitial": 1,
   "hotkeys": {
    "equation": "Ctrl-E",
    "itemize": "Ctrl-I"
   },
   "labels_anchors": false,
   "latex_user_defs": false,
   "report_style_numbering": false,
   "user_envs_cfg": false
  },
  "nbTranslate": {
   "displayLangs": [
    "*"
   ],
   "hotkey": "alt-t",
   "langInMainMenu": true,
   "sourceLang": "en",
   "targetLang": "fr",
   "useGoogleTranslate": true
  }
 },
 "nbformat": 4,
 "nbformat_minor": 2
}
