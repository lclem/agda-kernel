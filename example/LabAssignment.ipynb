{
 "cells": [
  {
   "cell_type": "markdown",
   "metadata": {
    "code_hole_highlighter": [],
    "codehighlighter": [],
    "fileName": "/Users/lorenzo/Dropbox/Workspace/teaching/Teaching/2018-2019/summer semester/LDI (logika dla informatyków)/lab/agda/code/conn.agda",
    "holes": []
   },
   "source": [
    "Agda assignment - LDI 2019\n",
    "\n",
    "Prove the lemmas given below by filling all holes `?` with your definitions.\n",
    "It is not allowed to:\n",
    "\n",
    "1. change/erase given definitions and lemma statements, section header/footer, variable A declaration, etc.,\n",
    "2. introduce your own postulates, parameters, variables, hypotheses etc.,  \n",
    "3. import modules other than what is already presented in this notebook.\n",
    "\n",
    "It is allowed to:\n",
    "\n",
    "1. introduce your own definitions and auxiliary lemmas,\n",
    "2. change the order of lemmas to prove,\n",
    "3. add comments.\n",
    "\n",
    "Submit your solution via moodle before 23:59 on 14.06.2019. \n",
    "You should submit one file named Assignment-Shuffle.ipynb containing your proofs.\n",
    "\n",
    "The author of the assignment and the grader is Lorenzo Clemente.\n",
    "\n",
    "# Imports\n",
    "\n",
    "## Logical connectives\n",
    "\n",
    "````\n",
    "module code.conn where\n",
    "\n",
    "infixr 2 _∧_\n",
    "data _∧_ (A : Set) (B : Set) : Set where\n",
    "  ⟨_,_⟩ : A → B → A ∧ B\n",
    "\n",
    "fst : {A B : Set} → A ∧ B → A\n",
    "fst ⟨ a , _ ⟩ = a\n",
    "\n",
    "snd : {A B : Set} → A ∧ B → B\n",
    "snd ⟨ _ , b ⟩ = b\n",
    "\n",
    "infixr 1 _∨_ \n",
    "data _∨_ (A : Set) (B : Set) : Set where\n",
    "    left : A → A ∨ B\n",
    "    right : B → A ∨ B\n",
    "    \n",
    "case : {A B C : Set} → A ∨ B → (A → C) → (B → C) → C\n",
    "case (left a) f g = f a\n",
    "case (right b) f g = g b\n",
    "\n",
    "data ⊤ : Set where\n",
    "  tt : ⊤\n",
    "  \n",
    "data ⊥ : Set where\n",
    "\n",
    "⊥-elim : {A : Set} → ⊥ → A\n",
    "⊥-elim ()\n",
    "\n",
    "infix 3 ¬_ -- higher priority than ∨ and ∧\n",
    "\n",
    "¬_ : Set → Set\n",
    "¬ A = A → ⊥\n",
    "\n",
    "infixr 1 _⟺_\n",
    "_⟺_ : (A : Set) (B : Set) → Set\n",
    "A ⟺ B = (A → B) ∧ (B → A)\n",
    "````"
   ]
  },
  {
   "cell_type": "markdown",
   "metadata": {
    "code_hole_highlighter": [],
    "codehighlighter": [],
    "fileName": "/Users/lorenzo/Dropbox/Workspace/teaching/Teaching/2018-2019/summer semester/LDI (logika dla informatyków)/lab/agda/code/nat.agda",
    "holes": []
   },
   "source": [
    "## Natural numbers `N`\n",
    "\n",
    "````\n",
    "module code.nat where\n",
    "open import code.conn public\n",
    "\n",
    "data ℕ : Set where\n",
    "  zero : ℕ\n",
    "  suc : ℕ → ℕ\n",
    "\n",
    "{-# BUILTIN NATURAL ℕ #-}\n",
    "\n",
    "infixl 5 _+_\n",
    "_+_ : ℕ → ℕ → ℕ\n",
    "zero + m = m\n",
    "(suc n) + m = suc (n + m)\n",
    "\n",
    "infix 4 _≡ℕ_\n",
    "data _≡ℕ_ : ℕ → ℕ → Set where\n",
    "  z≡z : 0 ≡ℕ 0\n",
    "  s≡s : {m n : ℕ} → m ≡ℕ n → suc m ≡ℕ suc n\n",
    "\n",
    "postulate ≡ℕ-refl : {n : ℕ} → n ≡ℕ n\n",
    "postulate ≡ℕ-trans : {m n p : ℕ} → m ≡ℕ n → n ≡ℕ p → m ≡ℕ p\n",
    "postulate ≡ℕ-sym : {m n : ℕ} → m ≡ℕ n → n ≡ℕ m\n",
    "postulate ≡ℕ-cong : {m n : ℕ} (f : ℕ → ℕ) → m ≡ℕ n → f m ≡ℕ f n\n",
    "postulate suc-lemma : ∀ {m n} → suc (m + n) ≡ℕ m + suc n\n",
    "\n",
    "infix  1 beginℕ_\n",
    "infixr 2 _≡ℕ⟨⟩_ _≡ℕ⟨_⟩_\n",
    "infix  3 _∎ℕ\n",
    "\n",
    "beginℕ_ : {x y : ℕ} → x ≡ℕ y → x ≡ℕ y\n",
    "beginℕ x≡y = x≡y\n",
    "\n",
    "_≡ℕ⟨⟩_ : (x : ℕ) {y : ℕ} → x ≡ℕ y → x ≡ℕ y\n",
    "x ≡ℕ⟨⟩ x≡y = x≡y\n",
    "\n",
    "_≡ℕ⟨_⟩_ : (x : ℕ) {y z : ℕ} → x ≡ℕ y → y ≡ℕ z → x ≡ℕ z\n",
    "x ≡ℕ⟨ x≡y ⟩ y≡z = ≡ℕ-trans x≡y y≡z\n",
    "\n",
    "_∎ℕ : (x : ℕ) → x ≡ℕ x\n",
    "x ∎ℕ = ≡ℕ-refl {x}\n",
    "\n",
    "infix 4 _≤_\n",
    "data _≤_ : ℕ → ℕ → Set where\n",
    "  0≤n : {n : ℕ} → 0 ≤ n\n",
    "  s≤s : {m n : ℕ} → m ≤ n → suc m ≤ suc n\n",
    "````"
   ]
  },
  {
   "cell_type": "markdown",
   "metadata": {
    "code_hole_highlighter": [],
    "codehighlighter": [],
    "fileName": "/Users/lorenzo/Dropbox/Workspace/teaching/Teaching/2018-2019/summer semester/LDI (logika dla informatyków)/lab/agda/code/list.agda",
    "holes": []
   },
   "source": [
    "## Lists\n",
    "\n",
    "````\n",
    "module code.list where\n",
    "open import code.conn public\n",
    "open import code.nat public\n",
    "\n",
    "infixr 5 _∷_\n",
    "data _* (A : Set) : Set where\n",
    "  ε : A *\n",
    "  _∷_ : A → A * → A *\n",
    "\n",
    "infixr 5 _++_\n",
    "_++_ : {A : Set} → A * → A * → A *\n",
    "ε ++ ys = ys\n",
    "(x ∷ xs) ++ ys = x ∷ (xs ++ ys)\n",
    "\n",
    "length : {A : Set} → A * → ℕ\n",
    "length ε = 0\n",
    "length (_ ∷ xs) = suc (length xs)\n",
    "\n",
    "reverse : {A : Set} → A * → A *\n",
    "reverse ε = ε\n",
    "reverse (a ∷ as) = reverse as ++ a ∷ ε\n",
    "\n",
    "map : {A B : Set} → (A → B) → A * → B *\n",
    "map _ ε = ε\n",
    "map f (a ∷ as) = f a ∷ map f as\n",
    "\n",
    "data 𝔹 : Set where\n",
    "  true : 𝔹\n",
    "  false : 𝔹\n",
    "\n",
    "-- equality on booleans\n",
    "data _≡𝔹_ : 𝔹 → 𝔹 → Set where\n",
    "  tt : true ≡𝔹 true\n",
    "  ff : false ≡𝔹 false\n",
    "\n",
    "filter : {A : Set} → (A → 𝔹) → A * → A *\n",
    "filter _ ε = ε\n",
    "filter p (a ∷ as) with p a\n",
    "... | true = a ∷ filter p as\n",
    "... | false = filter p as\n",
    "\n",
    "infix 4 _≡L_\n",
    "data _≡L_ {A : Set} : A * → A * → Set where\n",
    "  ε≡ε : ε ≡L ε\n",
    "  ∷≡∷ : {a : A} {as bs : A *} → as ≡L bs → a ∷ as ≡L a ∷ bs\n",
    "\n",
    "≡L-refl : {A : Set} {as : A *} → as ≡L as\n",
    "≡L-refl {A} {ε} = ε≡ε\n",
    "≡L-refl {A} {a ∷ as} = ∷≡∷ (≡L-refl {A} {as})\n",
    "\n",
    "≡L-sym : {A : Set} {as bs : A *} → as ≡L bs → bs ≡L as\n",
    "≡L-sym ε≡ε = ε≡ε\n",
    "≡L-sym {A} (∷≡∷ {a} {as} {bs} as≡bs) = ∷≡∷ {A} {a} {bs} {as} (≡L-sym {A} {as} {bs} as≡bs)\n",
    "\n",
    "≡L-trans : {A : Set} {as bs cs : A *} → as ≡L bs → bs ≡L cs → as ≡L cs\n",
    "≡L-trans ε≡ε ε≡ε = ε≡ε\n",
    "≡L-trans (∷≡∷ as≡bs) (∷≡∷ bs≡cs) = ∷≡∷ (≡L-trans as≡bs bs≡cs)\n",
    "\n",
    "infix 4 _∈_\n",
    "data _∈_ {A : Set} : A → A * → Set where\n",
    "  stop : {a : A} {as : A *} → a ∈ a ∷ as\n",
    "  skip : {a b : A} {as : A *} → a ∈ as → a ∈ b ∷ as\n",
    "\n",
    "_ : 2 ∈ 0 ∷ 1 ∷ 2 ∷ 3 ∷ ε\n",
    "_ = skip (skip stop)\n",
    "````"
   ]
  },
  {
   "cell_type": "markdown",
   "metadata": {
    "code_hole_highlighter": [],
    "codehighlighter": [],
    "fileName": "/Users/lorenzo/Dropbox/Workspace/teaching/Teaching/2018-2019/summer semester/LDI (logika dla informatyków)/lab/agda/code/shuffle.agda",
    "holes": []
   },
   "source": [
    "# Assignment: Shuffle\n",
    "\n",
    "````\n",
    "module code.shuffle where\n",
    "open import code.list public\n",
    "````\n",
    "\n",
    "We define the following notion of *shuffle*,.\n",
    "\n",
    "````\n",
    "data Shuffle {A : Set} : A * → A * → A * → Set where\n",
    "    start : Shuffle ε ε ε\n",
    "    left : ∀ {a as bs cs} → Shuffle as bs cs → Shuffle (a ∷ as) bs (a ∷ cs)\n",
    "    right : ∀ {a as bs cs} → Shuffle as bs cs → Shuffle as (a ∷ bs) (a ∷ cs)\n",
    "````"
   ]
  },
  {
   "cell_type": "markdown",
   "metadata": {
    "code_hole_highlighter": [],
    "codehighlighter": [],
    "fileName": "/Users/lorenzo/Dropbox/Workspace/teaching/Teaching/2018-2019/summer semester/LDI (logika dla informatyków)/lab/agda",
    "holes": []
   },
   "source": [
    "## **Exercise 1**"
   ]
  },
  {
   "cell_type": "code",
   "execution_count": null,
   "metadata": {
    "code_hole_highlighter": [
     5,
     5
    ],
    "codehighlighter": [],
    "fileName": "/Users/lorenzo/Dropbox/Workspace/teaching/Teaching/2018-2019/summer semester/LDI (logika dla informatyków)/lab/agda/code/assignment/ex1.agda",
    "holes": [
     5,
     5
    ]
   },
   "outputs": [
    {
     "name": "stdout",
     "output_type": "stream",
     "text": [
      "?0 : (as : A *) → Shuffle ε as as\n"
     ]
    }
   ],
   "source": [
    "{-# OPTIONS --allow-unsolved-metas #-} \n",
    "module code.assignment.ex1 where\n",
    "open import code.shuffle public\n",
    "\n",
    "empty : {A : Set} (as : A *) → Shuffle ε as as\n",
    "empty = ?"
   ]
  },
  {
   "cell_type": "markdown",
   "metadata": {
    "code_hole_highlighter": [],
    "codehighlighter": []
   },
   "source": [
    "## **Exercise 2**"
   ]
  },
  {
   "cell_type": "code",
   "execution_count": null,
   "metadata": {
    "code_hole_highlighter": [
     4,
     4
    ],
    "codehighlighter": [],
    "fileName": "/Users/lorenzo/Dropbox/Workspace/teaching/Teaching/2018-2019/summer semester/LDI (logika dla informatyków)/lab/agda/code/assignment/ex2.agda",
    "holes": [
     4,
     4
    ]
   },
   "outputs": [
    {
     "name": "stdout",
     "output_type": "stream",
     "text": [
      "?0 : (as bs cs : A *) → Shuffle as bs cs → as ≡L ε → bs ≡L cs\n"
     ]
    }
   ],
   "source": [
    "module code.assignment.ex2 where\n",
    "open import code.shuffle public\n",
    "\n",
    "empty2 : {A : Set} (as bs cs : A *) → Shuffle as bs cs → as ≡L ε → bs ≡L cs\n",
    "empty2 = ?"
   ]
  },
  {
   "cell_type": "markdown",
   "metadata": {
    "code_hole_highlighter": [],
    "codehighlighter": []
   },
   "source": [
    "## **Exercise 3**"
   ]
  },
  {
   "cell_type": "code",
   "execution_count": 93,
   "metadata": {
    "code_hole_highlighter": [
     5,
     5
    ],
    "codehighlighter": [],
    "fileName": "/Users/lorenzo/Dropbox/Workspace/teaching/Teaching/2018-2019/summer semester/LDI (logika dla informatyków)/lab/agda/code/assignment/ex3.agda",
    "holes": [
     5,
     5
    ]
   },
   "outputs": [
    {
     "name": "stdout",
     "output_type": "stream",
     "text": [
      "?0 : Shuffle as bs cs → Shuffle bs as cs\n"
     ]
    }
   ],
   "source": [
    "{-# OPTIONS --allow-unsolved-metas #-} \n",
    "module code.assignment.ex3 where\n",
    "open import code.shuffle public\n",
    "\n",
    "sym : {A : Set} {as bs cs : A *} → Shuffle as bs cs → Shuffle bs as cs\n",
    "sym = ?"
   ]
  },
  {
   "cell_type": "markdown",
   "metadata": {
    "code_hole_highlighter": [],
    "codehighlighter": []
   },
   "source": [
    "## **Exercise 4**\n",
    "\n",
    "*Hint:* It will probably be useful to have an auxiliary lemma first."
   ]
  },
  {
   "cell_type": "code",
   "execution_count": null,
   "metadata": {
    "code_hole_highlighter": [
     8,
     8
    ],
    "codehighlighter": [],
    "fileName": "/Users/lorenzo/Dropbox/Workspace/teaching/Teaching/2018-2019/summer semester/LDI (logika dla informatyków)/lab/agda/code/assignment/ex4.agda",
    "holes": [
     8,
     8
    ]
   },
   "outputs": [
    {
     "name": "stdout",
     "output_type": "stream",
     "text": [
      "?0\n",
      "  : (as bs cs : A *) →\n",
      "    Shuffle as bs cs → Shuffle (reverse as) (reverse bs) (reverse cs)\n"
     ]
    }
   ],
   "source": [
    "module code.assignment.ex4 where\n",
    "open import code.shuffle public\n",
    "open import code.assignment.ex1 public\n",
    "open import code.assignment.ex3 public\n",
    "\n",
    "rev : {A : Set} (as bs cs : A *) →\n",
    "    Shuffle as bs cs →\n",
    "    Shuffle (reverse as) (reverse bs) (reverse cs)\n",
    "rev = ?"
   ]
  },
  {
   "cell_type": "markdown",
   "metadata": {
    "code_hole_highlighter": [],
    "codehighlighter": []
   },
   "source": [
    "## **Exercise 5**"
   ]
  },
  {
   "cell_type": "code",
   "execution_count": 97,
   "metadata": {
    "code_hole_highlighter": [
     7,
     7
    ],
    "codehighlighter": [],
    "fileName": "/Users/lorenzo/Dropbox/Workspace/teaching/Teaching/2018-2019/summer semester/LDI (logika dla informatyków)/lab/agda/code/assignment/ex5.agda",
    "holes": [
     7,
     7
    ]
   },
   "outputs": [
    {
     "name": "stdout",
     "output_type": "stream",
     "text": [
      "?0 : Shuffle as bs cs → a ∈ cs → a ∈ as ∨ a ∈ bs\n"
     ]
    }
   ],
   "source": [
    "module code.assignment.ex5 where\n",
    "open import code.shuffle public\n",
    "\n",
    "preserve1 : {A : Set} {a : A} {as bs cs : A *} →\n",
    "    Shuffle as bs cs →\n",
    "    a ∈ cs →\n",
    "    a ∈ as ∨ a ∈ bs\n",
    "preserve1 = ?"
   ]
  },
  {
   "cell_type": "markdown",
   "metadata": {
    "code_hole_highlighter": [],
    "codehighlighter": []
   },
   "source": [
    "## **Exercise 6**"
   ]
  },
  {
   "cell_type": "code",
   "execution_count": 99,
   "metadata": {
    "code_hole_highlighter": [
     8,
     8
    ],
    "codehighlighter": [],
    "fileName": "/Users/lorenzo/Dropbox/Workspace/teaching/Teaching/2018-2019/summer semester/LDI (logika dla informatyków)/lab/agda/code/assignment/ex6.agda",
    "holes": [
     8,
     8
    ]
   },
   "outputs": [
    {
     "name": "stdout",
     "output_type": "stream",
     "text": [
      "?0 : Shuffle as bs cs → a ∈ as ∨ a ∈ bs → a ∈ cs\n"
     ]
    }
   ],
   "source": [
    "{-# OPTIONS --allow-unsolved-metas #-}\n",
    "module code.assignment.ex6 where\n",
    "open import code.shuffle public\n",
    "\n",
    "preserve2 : {A : Set} {a : A} {as bs cs : A *} →\n",
    "    Shuffle as bs cs →\n",
    "    a ∈ as ∨ a ∈ bs →\n",
    "    a ∈ cs\n",
    "preserve2 = ?"
   ]
  },
  {
   "cell_type": "markdown",
   "metadata": {
    "code_hole_highlighter": [],
    "codehighlighter": [],
    "fileName": "/Users/lorenzo/Dropbox/Workspace/teaching/Teaching/2018-2019/summer semester/LDI (logika dla informatyków)/lab/agda/code/shuffle/in2.agda",
    "holes": []
   },
   "source": [
    "## **Exercise 7**\n",
    "\n",
    "````\n",
    "module code.shuffle.in2 where\n",
    "open import code.shuffle public\n",
    "````\n",
    "\n",
    "Consider the following variant of the membership predicate.\n",
    "\n",
    "````\n",
    "infix 4 _,_∈_\n",
    "data _,_∈_ {A : Set} : A → A → A * → Set where\n",
    "  stop : {a b : A} {as : A *} → b ∈ as → a , b ∈ a ∷ as\n",
    "  skip : {a b c : A} {as : A *} → a , b ∈ as → a , b ∈ c ∷ as\n",
    "````\n",
    "\n",
    "Prove that `Shuffle` respects the *order* of occurrences of elements."
   ]
  },
  {
   "cell_type": "code",
   "execution_count": 102,
   "metadata": {
    "code_hole_highlighter": [
     8,
     8
    ],
    "codehighlighter": [],
    "fileName": "/Users/lorenzo/Dropbox/Workspace/teaching/Teaching/2018-2019/summer semester/LDI (logika dla informatyków)/lab/agda/code/assignment/ex7.agda",
    "holes": [
     8,
     8
    ]
   },
   "outputs": [
    {
     "name": "stdout",
     "output_type": "stream",
     "text": [
      "?0 : Shuffle as bs cs → a , b ∈ as → a , b ∈ cs\n"
     ]
    }
   ],
   "source": [
    "module code.assignment.ex7 where\n",
    "open import code.shuffle.in2 public\n",
    "open import code.assignment.ex6 public\n",
    "\n",
    "order : {A : Set} {a b : A} {as bs cs : A *} →\n",
    "    Shuffle as bs cs →\n",
    "    a , b ∈ as →\n",
    "    a , b ∈ cs\n",
    "order = ?"
   ]
  },
  {
   "cell_type": "markdown",
   "metadata": {
    "code_hole_highlighter": [],
    "codehighlighter": []
   },
   "source": [
    "## **Exercise 8**"
   ]
  },
  {
   "cell_type": "code",
   "execution_count": 104,
   "metadata": {
    "code_hole_highlighter": [
     6,
     6
    ],
    "codehighlighter": [],
    "fileName": "/Users/lorenzo/Dropbox/Workspace/teaching/Teaching/2018-2019/summer semester/LDI (logika dla informatyków)/lab/agda/code/assignment/ex8.agda",
    "holes": [
     6,
     6
    ]
   },
   "outputs": [
    {
     "name": "stdout",
     "output_type": "stream",
     "text": [
      "?0 : Shuffle as bs cs → length cs ≡ℕ length as + length bs\n"
     ]
    }
   ],
   "source": [
    "module code.assignment.ex8 where\n",
    "open import code.shuffle public\n",
    "\n",
    "len : {A : Set} {as bs cs : A *} →\n",
    "    Shuffle as bs cs →\n",
    "    length cs ≡ℕ length as + length bs\n",
    "len = ?"
   ]
  },
  {
   "cell_type": "markdown",
   "metadata": {
    "code_hole_highlighter": [],
    "codehighlighter": [],
    "fileName": "/Users/lorenzo/Dropbox/Workspace/teaching/Teaching/2018-2019/summer semester/LDI (logika dla informatyków)/lab/agda/code/shuffle.agda",
    "holes": []
   },
   "source": [
    "## **Exercise 9**"
   ]
  },
  {
   "cell_type": "code",
   "execution_count": 106,
   "metadata": {
    "code_hole_highlighter": [
     6,
     6
    ],
    "codehighlighter": [],
    "fileName": "/Users/lorenzo/Dropbox/Workspace/teaching/Teaching/2018-2019/summer semester/LDI (logika dla informatyków)/lab/agda/code/assignment/ex9.agda",
    "holes": [
     6,
     6
    ]
   },
   "outputs": [
    {
     "name": "stdout",
     "output_type": "stream",
     "text": [
      "?0\n",
      "  : (f : A → B) →\n",
      "    Shuffle as bs cs → Shuffle (map f as) (map f bs) (map f cs)\n"
     ]
    }
   ],
   "source": [
    "module code.assignment.ex9 where\n",
    "open import code.shuffle public\n",
    "\n",
    "shuffle-map : {A B : Set} {as bs cs : A *} → (f : A → B) →\n",
    "    Shuffle as bs cs →\n",
    "    Shuffle (map f as) (map f bs) (map f cs)\n",
    "shuffle-map = ?"
   ]
  },
  {
   "cell_type": "markdown",
   "metadata": {
    "code_hole_highlighter": [],
    "codehighlighter": []
   },
   "source": [
    "## **Exercise 10**"
   ]
  },
  {
   "cell_type": "code",
   "execution_count": 108,
   "metadata": {
    "code_hole_highlighter": [
     6,
     6
    ],
    "codehighlighter": [],
    "fileName": "/Users/lorenzo/Dropbox/Workspace/teaching/Teaching/2018-2019/summer semester/LDI (logika dla informatyków)/lab/agda/code/assignment/ex10.agda",
    "holes": [
     6,
     6
    ]
   },
   "outputs": [
    {
     "name": "stdout",
     "output_type": "stream",
     "text": [
      "?0\n",
      "  : (cs : A *) (p : A → 𝔹) →\n",
      "    Shuffle as bs cs →\n",
      "    Shuffle (filter p as) (filter p bs) (filter p cs)\n"
     ]
    }
   ],
   "source": [
    "module code.assignment.ex10 where\n",
    "open import code.shuffle public\n",
    "\n",
    "shuffle-filter : {A : Set} {as bs : A *} (cs : A *) (p : A → 𝔹) →\n",
    "    Shuffle as bs cs →\n",
    "    Shuffle (filter p as) (filter p bs) (filter p cs)\n",
    "shuffle-filter = ?"
   ]
  }
 ],
 "metadata": {
  "kernelspec": {
   "display_name": "agda",
   "language": "agda",
   "name": "agda"
  },
  "language_info": {
   "file_extension": ".agda",
   "mimetype": "text/agda",
   "name": "agda"
  },
  "toc": {
   "base_numbering": 1,
   "nav_menu": {},
   "number_sections": true,
   "sideBar": true,
   "skip_h1_title": false,
   "title_cell": "Table of Contents",
   "title_sidebar": "Contents",
   "toc_cell": false,
   "toc_position": {
    "height": "calc(100% - 180px)",
    "left": "10px",
    "top": "150px",
    "width": "219px"
   },
   "toc_section_display": true,
   "toc_window_display": true
  }
 },
 "nbformat": 4,
 "nbformat_minor": 2
}
