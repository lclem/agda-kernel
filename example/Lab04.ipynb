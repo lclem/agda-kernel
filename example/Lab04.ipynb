{
 "cells": [
  {
   "cell_type": "markdown",
   "metadata": {
    "code_hole_highlighter": [],
    "codehighlighter": [],
    "extensions": {
     "jupyter_dashboards": {
      "version": 1,
      "views": {
       "grid_default": {},
       "report_default": {}
      }
     }
    },
    "fileName": "/Users/lorenzo/Dropbox/Workspace/teaching/Teaching/2018-2019/summer semester/LDI (logika dla informatyków)/lab/agda/test.agda",
    "hide_input": false,
    "holes": [
     3,
     3
    ]
   },
   "source": [
    "<small><small>**LICENCE:**\n",
    "This tutorial contains adaptations of material from [Programming Language Foundations in Agda](https://plfa.github.io/) by Phil Wadler and Wen Kokke. It is licensed under Creative Commons Attribution 4.0 International.</small></small>\n",
    "\n"
   ]
  },
  {
   "cell_type": "markdown",
   "metadata": {
    "code_hole_highlighter": [],
    "codehighlighter": [],
    "fileName": "/Users/lorenzo/Dropbox/Workspace/teaching/Teaching/2018-2019/summer semester/LDI (logika dla informatyków)/lab/agda",
    "holes": []
   },
   "source": [
    "# Imports"
   ]
  },
  {
   "cell_type": "markdown",
   "metadata": {
    "code_hole_highlighter": [],
    "codehighlighter": []
   },
   "source": [
    "## Equality"
   ]
  },
  {
   "cell_type": "code",
   "execution_count": null,
   "metadata": {
    "code_hole_highlighter": [],
    "codehighlighter": [],
    "fileName": "/Users/lorenzo/Development/agda-kernel/example/code/eq.agda",
    "holes": [],
    "moduleName": "code.eq",
    "preambleLength": 0
   },
   "outputs": [
    {
     "name": "stdout",
     "output_type": "stream",
     "text": []
    }
   ],
   "source": [
    "module code.eq where\n",
    "\n",
    "--import Relation.Binary.PropositionalEquality as Eq\n",
    "--open Eq using (_≡_; refl; trans; sym; cong; cong-app; subst) public\n",
    "--open Eq.≡-Reasoning using (begin_; _≡⟨⟩_; _≡⟨_⟩_; _∎) public\n",
    "\n",
    "infix 4 _≡_\n",
    "data _≡_ {A : Set} (x : A) : A → Set where\n",
    "  refl : x ≡ x\n",
    "  \n",
    "sym : {A : Set} {x y : A} → x ≡ y → y ≡ x\n",
    "sym refl = refl\n",
    "\n",
    "trans : {A : Set} {x y z : A} → x ≡ y → y ≡ z → x ≡ z\n",
    "trans refl refl = refl\n",
    "\n",
    "cong : {A B : Set} (f : A → B) {x y : A} → x ≡ y → f x ≡ f y\n",
    "cong f refl = refl\n",
    "\n",
    "cong2 : {A B C : Set} (f : A → B → C) {a1 a2 : A} {b1 b2 : B} →\n",
    "    a1 ≡ a2 →\n",
    "    b1 ≡ b2 →\n",
    "    f a1 b1 ≡ f a2 b2\n",
    "cong2 f refl refl = refl\n",
    "\n",
    "subst : {A : Set} {x y : A} (P : A → Set) → x ≡ y → P x → P y\n",
    "subst P refl px = px\n",
    "\n",
    "-- equational reasoning\n",
    "infix  1 begin_\n",
    "infixr 2 _≡⟨⟩_ _≡⟨_⟩_\n",
    "infix  3 _∎\n",
    "\n",
    "begin_ : {A : Set} {x y : A} → x ≡ y → x ≡ y\n",
    "begin x≡y = x≡y\n",
    "\n",
    "_≡⟨⟩_ : {A : Set} (x : A) {y : A} → x ≡ y → x ≡ y\n",
    "x ≡⟨⟩ x≡y = x≡y\n",
    "\n",
    "_≡⟨_⟩_ : {A : Set} (x : A) {y z : A} → x ≡ y → y ≡ z → x ≡ z\n",
    "x ≡⟨ x≡y ⟩ y≡z = trans x≡y y≡z\n",
    "\n",
    "_∎ : {A : Set} (x : A) → x ≡ x\n",
    "x ∎ = refl"
   ]
  },
  {
   "cell_type": "markdown",
   "metadata": {
    "code_hole_highlighter": [],
    "codehighlighter": []
   },
   "source": [
    "## Booleans"
   ]
  },
  {
   "cell_type": "code",
   "execution_count": null,
   "metadata": {
    "code_hole_highlighter": [],
    "codehighlighter": [],
    "fileName": "/Users/lorenzo/Development/agda-kernel/example/code/boolean.agda",
    "holes": [],
    "moduleName": "code.boolean",
    "preambleLength": 0
   },
   "outputs": [
    {
     "name": "stdout",
     "output_type": "stream",
     "text": []
    }
   ],
   "source": [
    "module code.boolean where\n",
    "\n",
    "data 𝔹 : Set where\n",
    "  true : 𝔹\n",
    "  false : 𝔹\n",
    "\n",
    "-- equality on booleans\n",
    "infix 10 _≡𝔹_\n",
    "data _≡𝔹_ : 𝔹 → 𝔹 → Set where\n",
    "  tt : true ≡𝔹 true\n",
    "  ff : false ≡𝔹 false"
   ]
  },
  {
   "cell_type": "markdown",
   "metadata": {
    "code_hole_highlighter": [],
    "codehighlighter": []
   },
   "source": [
    "## Quantifiers"
   ]
  },
  {
   "cell_type": "code",
   "execution_count": 3,
   "metadata": {
    "code_hole_highlighter": [],
    "codehighlighter": [],
    "fileName": "/Users/lorenzo/Development/agda-kernel/example/code/existential.agda",
    "holes": [],
    "moduleName": "code.existential",
    "preambleLength": 0
   },
   "outputs": [
    {
     "name": "stdout",
     "output_type": "stream",
     "text": []
    }
   ],
   "source": [
    "module code.existential where\n",
    "\n",
    "--data Σ {l} (A : Set l) (B : A → Set) : Set l where\n",
    "--    ⟨_,_⟩ : (a : A) → B a → Σ A B\n",
    "\n",
    "record Σ {l} (A : Set l) (B : A → Set) : Set l where\n",
    "    constructor ⟨_,_⟩\n",
    "    field\n",
    "      proj₁ : A\n",
    "      proj₂ : B proj₁\n",
    "\n",
    "infix 0 thereExists\n",
    "thereExists : ∀ {l} {A : Set l} (B : A → Set) → Set l\n",
    "thereExists {_} {A} B = Σ A B\n",
    "\n",
    "syntax thereExists (λ x → B) = ∃[ x ] B"
   ]
  },
  {
   "cell_type": "code",
   "execution_count": 4,
   "metadata": {
    "code_hole_highlighter": [],
    "codehighlighter": [],
    "fileName": "/Users/lorenzo/Development/agda-kernel/example/code/universal.agda",
    "holes": [],
    "moduleName": "code.universal",
    "preambleLength": 0
   },
   "outputs": [
    {
     "name": "stdout",
     "output_type": "stream",
     "text": []
    }
   ],
   "source": [
    "module code.universal where\n",
    "\n",
    "Π : (A : Set) → (B : A → Set) → Set\n",
    "Π A B = (a : A) → B a\n",
    "\n",
    "apply : {A : Set} → {B : A → Set} → Π A B → (a : A) → B a\n",
    "apply f x = f x\n",
    "\n",
    "infix 0 forAll\n",
    "forAll : {A : Set} → (B : A → Set) → Set\n",
    "forAll {A} B = Π A B\n",
    "\n",
    "syntax forAll (λ x → B) = ∀[ x ] B"
   ]
  },
  {
   "cell_type": "markdown",
   "metadata": {
    "code_hole_highlighter": [],
    "codehighlighter": []
   },
   "source": [
    "## Lists"
   ]
  },
  {
   "cell_type": "code",
   "execution_count": null,
   "metadata": {
    "code_hole_highlighter": [],
    "codehighlighter": [],
    "fileName": "/Users/lorenzo/Development/agda-kernel/example/code/list.agda",
    "hide_input": false,
    "holes": [],
    "init_cell": true,
    "moduleName": "code.list",
    "preambleLength": 0
   },
   "outputs": [
    {
     "name": "stdout",
     "output_type": "stream",
     "text": []
    }
   ],
   "source": [
    "module code.list where\n",
    "open import code.conn public\n",
    "open import code.nat public\n",
    "\n",
    "infixr 5 _∷_\n",
    "data _* (A : Set) : Set where\n",
    "  ε : A *\n",
    "  _∷_ : A → A * → A *\n",
    "\n",
    "length : {A : Set} → A * → ℕ\n",
    "length ε = 0\n",
    "length (_ ∷ xs) = suc (length xs)\n",
    "\n",
    "infix 4 _≡L_\n",
    "data _≡L_ {A : Set} : A * → A * → Set where\n",
    "  ε≡ε : ε ≡L ε\n",
    "  ∷≡∷ : {a : A} {as bs : A *} → as ≡L bs → a ∷ as ≡L a ∷ bs\n",
    "\n",
    "≡L-refl : {A : Set} {as : A *} → as ≡L as\n",
    "≡L-refl {A} {ε} = ε≡ε\n",
    "≡L-refl {A} {a ∷ as} = ∷≡∷ (≡L-refl {A} {as})\n",
    "\n",
    "≡L-sym : {A : Set} {as bs : A *} → as ≡L bs → bs ≡L as\n",
    "≡L-sym ε≡ε = ε≡ε\n",
    "≡L-sym {A} (∷≡∷ {a} {as} {bs} as≡bs) = ∷≡∷ (≡L-sym {A} {as} {bs} as≡bs)\n",
    "\n",
    "postulate ≡L-trans : {A : Set} {as bs cs : A *} → as ≡L bs → bs ≡L cs → as ≡L cs"
   ]
  },
  {
   "cell_type": "markdown",
   "metadata": {
    "code_hole_highlighter": [],
    "codehighlighter": [],
    "fileName": "/Users/lorenzo/Dropbox/Workspace/teaching/Teaching/2018-2019/summer semester/LDI (logika dla informatyków)/lab/agda",
    "holes": []
   },
   "source": [
    "## Logical connectives"
   ]
  },
  {
   "cell_type": "code",
   "execution_count": null,
   "metadata": {
    "code_hole_highlighter": [],
    "codehighlighter": [],
    "fileName": "/Users/lorenzo/Development/agda-kernel/example/code/conn.agda",
    "hide_input": false,
    "holes": [],
    "init_cell": true,
    "moduleName": "code.conn",
    "preambleLength": 0
   },
   "outputs": [
    {
     "name": "stdout",
     "output_type": "stream",
     "text": []
    }
   ],
   "source": [
    "module code.conn where -- from before\n",
    "\n",
    "infixr 2 _∧_\n",
    "data _∧_ (A : Set) (B : Set) : Set where\n",
    "  ⟨_,_⟩ : A → B → A ∧ B\n",
    "\n",
    "fst : {A B : Set} → A ∧ B → A\n",
    "fst ⟨ a , _ ⟩ = a\n",
    "\n",
    "snd : {A B : Set} → A ∧ B → B\n",
    "snd ⟨ _ , b ⟩ = b\n",
    "\n",
    "infixr 1 _∨_ \n",
    "data _∨_ (A : Set) (B : Set) : Set where\n",
    "    left : A → A ∨ B\n",
    "    right : B → A ∨ B\n",
    "    \n",
    "case : {A B C : Set} → A ∨ B → (A → C) → (B → C) → C\n",
    "case (left a) f g = f a\n",
    "case (right b) f g = g b\n",
    "\n",
    "data ⊤ : Set where\n",
    "  tt : ⊤\n",
    "  \n",
    "data ⊥ : Set where\n",
    "\n",
    "⊥-elim : {A : Set} → ⊥ → A\n",
    "⊥-elim ()\n",
    "\n",
    "infix 3 ¬_ -- higher priority than ∨ and ∧\n",
    "\n",
    "¬_ : Set → Set\n",
    "¬ A = A → ⊥\n",
    "\n",
    "infixr 1 _⟺_\n",
    "_⟺_ : (A : Set) (B : Set) → Set\n",
    "A ⟺ B = (A → B) ∧ (B → A) "
   ]
  },
  {
   "cell_type": "markdown",
   "metadata": {
    "code_hole_highlighter": [],
    "codehighlighter": []
   },
   "source": [
    "## Natural numbers"
   ]
  },
  {
   "cell_type": "code",
   "execution_count": null,
   "metadata": {
    "code_hole_highlighter": [],
    "codehighlighter": [],
    "fileName": "/Users/lorenzo/Development/agda-kernel/example/code/nat.agda",
    "hide_input": true,
    "holes": [],
    "init_cell": true,
    "moduleName": "code.nat",
    "preambleLength": 0
   },
   "outputs": [
    {
     "name": "stdout",
     "output_type": "stream",
     "text": []
    }
   ],
   "source": [
    "module code.nat where\n",
    "\n",
    "data ℕ : Set where \n",
    "  zero : ℕ\n",
    "  suc : ℕ → ℕ\n",
    "  \n",
    "{-# BUILTIN NATURAL ℕ #-}\n",
    "\n",
    "infixl 5 _+_\n",
    "infixl 6 _*_ -- higher priority than _+_\n",
    "\n",
    "_+_ : ℕ → ℕ → ℕ\n",
    "zero + m = m\n",
    "(suc n) + m = suc (n + m)\n",
    "\n",
    "_*_ : ℕ → ℕ → ℕ\n",
    "zero * _  =  zero\n",
    "suc m * n  =  n + (m * n)\n",
    "\n",
    "infix 4 _≡ℕ_\n",
    "\n",
    "-- indexed inductive type\n",
    "data _≡ℕ_ : ℕ → ℕ → Set where\n",
    "  z≡z : 0 ≡ℕ 0\n",
    "  s≡s : {m n : ℕ} → m ≡ℕ n → suc m ≡ℕ suc n\n",
    "  \n",
    "data _≤_ : ℕ → ℕ → Set where\n",
    "  0≤n : {n : ℕ} → 0 ≤ n\n",
    "  s≤s : {m n : ℕ} → m ≤ n → suc m ≤ suc n"
   ]
  },
  {
   "cell_type": "markdown",
   "metadata": {
    "code_hole_highlighter": [],
    "codehighlighter": [],
    "fileName": "/Users/lorenzo/Development/agda-kernel/example/code/fin.agda",
    "holes": [],
    "moduleName": "code.fin",
    "preambleLength": 0
   },
   "source": [
    "# Finite sets\n",
    "\n",
    "````\n",
    "module code.fin where\n",
    "open import code.nat public\n",
    "````\n",
    "\n",
    "We define the set of all natural numbers smaller than a given natural number.\n",
    "\n",
    "````\n",
    "data Fin : ℕ → Set where\n",
    "  ∅ : Fin 0\n",
    "  next : {n : ℕ} → Fin n → Fin (suc n)\n",
    "````\n",
    "\n",
    "Thus `∅` is the empty set which contains no number,\n",
    "and `Fin n` contains the numbers $n - 1$, $n - 2$, $\\dots$, $0$."
   ]
  },
  {
   "cell_type": "markdown",
   "metadata": {
    "code_hole_highlighter": [],
    "codehighlighter": [],
    "extensions": {
     "jupyter_dashboards": {
      "version": 1,
      "views": {
       "grid_default": {},
       "report_default": {}
      }
     }
    },
    "fileName": "/Users/lorenzo/Development/agda-kernel/example/code/list2.agda",
    "holes": [],
    "moduleName": "code.list2",
    "preambleLength": 0
   },
   "source": [
    "# Vectors\n",
    "\n",
    "## Lists and external verification\n",
    "\n",
    "We have previously see how one can define lists as an inductive data type:\n",
    "\n",
    "````\n",
    "module code.list2 where\n",
    "open import code.nat public\n",
    "\n",
    "data _* (A : Set) : Set where\n",
    "  ε : A *\n",
    "  _∷_ : A → A * → A *\n",
    "````\n",
    "\n",
    "One can define recursive functions on lists,\n",
    "such as concatenation and length.\n",
    "\n",
    "````\n",
    "_++_ : {A : Set} → A * → A * → A *\n",
    "ε ++ ys = ys\n",
    "(x ∷ xs) ++ ys = x ∷ (xs ++ ys)\n",
    "\n",
    "length : {A : Set} → A * → ℕ\n",
    "length ε = 0\n",
    "length (_ ∷ xs) = suc (length xs)\n",
    "````\n",
    "\n",
    "Then one can prove that concatenation preserves the combined length of the two lists (proof omitted).\n",
    "\n",
    "````\n",
    "postulate ++-len : {A : Set} → (as bs : A *) → length (as ++ bs) ≡ℕ length as + length bs\n",
    "````\n",
    "\n",
    "This is an example of *external verification*,\n",
    "whereby the definition of `_++_`, `length`\n",
    "are given separately from the property `++-len` they satisfy."
   ]
  },
  {
   "cell_type": "markdown",
   "metadata": {
    "code_hole_highlighter": [],
    "codehighlighter": [],
    "extensions": {
     "jupyter_dashboards": {
      "version": 1,
      "views": {
       "grid_default": {},
       "report_default": {}
      }
     }
    },
    "fileName": "/Users/lorenzo/Development/agda-kernel/example/code/vector.agda",
    "holes": [],
    "moduleName": "code.vector",
    "preambleLength": 0
   },
   "source": [
    "## Vectors and internal verification\n",
    "\n",
    "````\n",
    "module code.vector where\n",
    "open import code.nat public\n",
    "open import code.boolean public\n",
    "open import code.existential public\n",
    "open import code.conn public\n",
    "````\n",
    "\n",
    "An alternative approach is offered by *internal verification*,\n",
    "whereby we encode the length of the list inside its type,\n",
    "obtaining *vectors*.\n",
    "\n",
    "````\n",
    "infixr 5 _∷_\n",
    "\n",
    "data Vector (A : Set) : ℕ → Set where\n",
    "  ε : Vector A zero\n",
    "  _∷_ : {n : ℕ} → A → Vector A n → Vector A (suc n)\n",
    "````\n",
    "\n",
    "The idea is that a vector of type `Vector A n` has length n.\n",
    "The type `Vector A n` is *parameterised* by `A` (since `A` is constant in the inductive definition)\n",
    "and indexed by the dimension `n` (since `n` varies )\n",
    "\n",
    "We can immediately transform a vector into a list,\n",
    "by just ignoring the information about the dimension.\n",
    "\n",
    "````\n",
    "open import code.list public -- hiding (_++_)\n",
    "\n",
    "toList : {A : Set} {n : ℕ} → Vector A n → A *\n",
    "toList ε = ε\n",
    "toList (x ∷ xs) = x ∷ toList xs\n",
    "````\n",
    "\n",
    "**Exercise.** Define the converse transformation from lists to vectors.\n",
    "\n",
    "*Hint:* Given a list `xs`, for which `n` the corresponding vector has type `Vector A n`?"
   ]
  },
  {
   "cell_type": "code",
   "execution_count": null,
   "metadata": {
    "code_hole_highlighter": [
     3,
     3,
     4,
     4
    ],
    "codehighlighter": [],
    "defaultPrequelLength": 2,
    "fileName": "/Users/lorenzo/Development/agda-kernel/example/code/vector/fromList.agda",
    "holes": [
     3,
     3,
     4,
     4
    ],
    "moduleName": "code.vector.fromList",
    "preambleLength": 0
   },
   "outputs": [
    {
     "name": "stdout",
     "output_type": "stream",
     "text": [
      "?0 : _1\n",
      "?1 : (xs : A *) → ?0 (xs = xs)\n",
      "Sort _1  [ at /Users/lorenzo/Development/agda-kernel/example/code/vector/fromList.agda:4,37-38 ]\n"
     ]
    }
   ],
   "source": [
    "module code.vector.fromList where\n",
    "open import code.vector public\n",
    "\n",
    "fromList : {A : Set} → (xs : A *) → ?\n",
    "fromList = ?"
   ]
  },
  {
   "cell_type": "code",
   "execution_count": 12,
   "metadata": {
    "code_hole_highlighter": [],
    "codehighlighter": [],
    "fileName": "/Users/lorenzo/Development/agda-kernel/example/code/vector/fromList.agda",
    "holes": [],
    "moduleName": "code.vector.fromList",
    "preambleLength": 0,
    "tags": [
     "solution"
    ]
   },
   "outputs": [
    {
     "name": "stdout",
     "output_type": "stream",
     "text": []
    }
   ],
   "source": [
    "module code.vector.fromList where\n",
    "open import code.vector public\n",
    "\n",
    "fromList : {A : Set} → (xs : A *) → Vector A (length xs)\n",
    "fromList ε = ε\n",
    "fromList (x ∷ xs) = x ∷ fromList xs"
   ]
  },
  {
   "cell_type": "markdown",
   "metadata": {
    "code_hole_highlighter": [],
    "codehighlighter": [],
    "extensions": {
     "jupyter_dashboards": {
      "version": 1,
      "views": {
       "grid_default": {},
       "report_default": {}
      }
     }
    },
    "fileName": "/Users/lorenzo/Development/agda-kernel/example/code/vector/concat.agda",
    "holes": [],
    "moduleName": "code.vector.concat",
    "preambleLength": 0
   },
   "source": [
    "## Concatenation of vectors\n",
    "\n",
    "Like for lists, we can define concatenation of vectors.\n",
    " \n",
    "````\n",
    "module code.vector.concat where\n",
    "open import code.vector public\n",
    "infixr 5 _++_\n",
    "\n",
    "_++_ : {A : Set} {m n : ℕ} → Vector A m → Vector A n → Vector A (m + n)\n",
    "ε ++ ys = ys\n",
    "(x ∷ xs) ++ ys = x ∷ (xs ++ ys)\n",
    "````"
   ]
  },
  {
   "cell_type": "code",
   "execution_count": null,
   "metadata": {
    "code_hole_highlighter": [],
    "codehighlighter": [],
    "fileName": "/Users/lorenzo/Development/agda-kernel/example/code/vector/concat/assoc.agda",
    "holes": [],
    "moduleName": "code.vector.concat.assoc",
    "preambleLength": 0
   },
   "outputs": [
    {
     "name": "stdout",
     "output_type": "stream",
     "text": []
    }
   ],
   "source": [
    "-- The following example shows that there are problems to show associativity\n",
    "-- of concatenation of vectors\n",
    "\n",
    "module code.vector.concat.assoc where\n",
    "open import code.vector.concat public\n",
    "open import code.eq public\n",
    "\n",
    "-- cannote even state associativity,\n",
    "-- because the types don't match:\n",
    "-- need a proof to show that\n",
    "-- Vector A (m + n + o) ≡ Vector A ((m + n) + o)\n",
    "\n",
    "{-\n",
    "++-assoc : {A : Set} {m n o : ℕ} →\n",
    "    (xs : Vector A m) →\n",
    "    (ys : Vector A n) →\n",
    "    (zs : Vector A o) →\n",
    "    xs ++ ys ++ zs ≡ (xs ++ ys) ++ zs\n",
    "++-assoc = ?\n",
    "-}"
   ]
  },
  {
   "cell_type": "markdown",
   "metadata": {
    "code_hole_highlighter": [],
    "codehighlighter": [],
    "extensions": {
     "jupyter_dashboards": {
      "version": 1,
      "views": {
       "grid_default": {},
       "report_default": {}
      }
     }
    },
    "fileName": "/Users/lorenzo/Dropbox/Workspace/teaching/Teaching/2018-2019/summer semester/LDI (logika dla informatyków)/lab/agda/code/vector/concat.agda",
    "holes": []
   },
   "source": [
    "## Map on vectors\n",
    "\n",
    "**Exercise.** Define the map function on vectors."
   ]
  },
  {
   "cell_type": "code",
   "execution_count": null,
   "metadata": {
    "code_hole_highlighter": [
     3,
     3,
     3,
     3,
     4,
     4
    ],
    "codehighlighter": [],
    "extensions": {
     "jupyter_dashboards": {
      "version": 1,
      "views": {
       "grid_default": {},
       "report_default": {}
      }
     }
    },
    "fileName": "/Users/lorenzo/Development/agda-kernel/example/code/vector/map.agda",
    "holes": [
     3,
     3,
     3,
     3,
     4,
     4
    ],
    "moduleName": "code.vector.map",
    "preambleLength": 0
   },
   "outputs": [
    {
     "name": "stdout",
     "output_type": "stream",
     "text": [
      "?0 : _3\n",
      "?1 : _5\n",
      "?2 : ?0 → ?1\n",
      "Sort _3  [ at /Users/lorenzo/Development/agda-kernel/example/code/vector/map.agda:4,39-40 ]\n",
      "Sort _5  [ at /Users/lorenzo/Development/agda-kernel/example/code/vector/map.agda:4,43-44 ]\n"
     ]
    }
   ],
   "source": [
    "module code.vector.map where\n",
    "open import code.vector public\n",
    "\n",
    "map : {A B : Set} {n : ℕ} → (A → B) → ? → ?\n",
    "map f = ?"
   ]
  },
  {
   "cell_type": "code",
   "execution_count": null,
   "metadata": {
    "code_hole_highlighter": [],
    "codehighlighter": [],
    "fileName": "/Users/lorenzo/Development/agda-kernel/example/code/vector/map.agda",
    "holes": [],
    "moduleName": "code.vector.map",
    "preambleLength": 0,
    "tags": [
     "solution"
    ]
   },
   "outputs": [
    {
     "name": "stdout",
     "output_type": "stream",
     "text": []
    }
   ],
   "source": [
    "module code.vector.map where\n",
    "open import code.vector public\n",
    "\n",
    "map : {A B : Set} {n : ℕ} → (A → B) → Vector A n → Vector B n\n",
    "map f ε = ε\n",
    "map f (x ∷ xs) = f x ∷ map f xs"
   ]
  },
  {
   "cell_type": "markdown",
   "metadata": {
    "code_hole_highlighter": [],
    "codehighlighter": [],
    "extensions": {
     "jupyter_dashboards": {
      "version": 1,
      "views": {
       "grid_default": {},
       "report_default": {}
      }
     }
    },
    "fileName": "/Users/lorenzo/Dropbox/Workspace/teaching/Teaching/2018-2019/summer semester/LDI (logika dla informatyków)/lab/agda/code/vector/concat.agda",
    "holes": []
   },
   "source": [
    "## Length of a vector\n",
    "\n",
    "**Exercise.** Define a function that extracts the length of a given vector.\n",
    "*Hint:* We need to look at the implicit parameter `n`."
   ]
  },
  {
   "cell_type": "code",
   "execution_count": null,
   "metadata": {
    "code_hole_highlighter": [
     4,
     4
    ],
    "codehighlighter": [],
    "fileName": "/Users/lorenzo/Development/agda-kernel/example/code/vector/length.agda",
    "holes": [
     4,
     4
    ],
    "moduleName": "code.vector.length",
    "preambleLength": 0
   },
   "outputs": [
    {
     "name": "stdout",
     "output_type": "stream",
     "text": [
      "?0 : Vector A n → ℕ\n"
     ]
    }
   ],
   "source": [
    "module code.vector.length where\n",
    "open import code.vector public\n",
    "\n",
    "vlength : {A : Set} {n : ℕ} → Vector A n → ℕ\n",
    "vlength = ?"
   ]
  },
  {
   "cell_type": "code",
   "execution_count": 18,
   "metadata": {
    "code_hole_highlighter": [],
    "codehighlighter": [],
    "extensions": {
     "jupyter_dashboards": {
      "version": 1,
      "views": {
       "grid_default": {},
       "report_default": {}
      }
     }
    },
    "fileName": "/Users/lorenzo/Development/agda-kernel/example/code/vector/length.agda",
    "holes": [],
    "moduleName": "code.vector.length",
    "preambleLength": 0
   },
   "outputs": [
    {
     "name": "stdout",
     "output_type": "stream",
     "text": []
    }
   ],
   "source": [
    "module code.vector.length where\n",
    "open import code.vector public\n",
    "\n",
    "-- need to access the hidden parameter!\n",
    "vlength : {A : Set} {n : ℕ} → Vector A n → ℕ\n",
    "vlength {A} {n} _ = n"
   ]
  },
  {
   "cell_type": "markdown",
   "metadata": {
    "code_hole_highlighter": [],
    "codehighlighter": [],
    "fileName": "/Users/lorenzo/Dropbox/Workspace/teaching/Teaching/2018-2019/summer semester/LDI (logika dla informatyków)/lab/agda",
    "holes": []
   },
   "source": [
    "## Filter on vectors\n",
    "\n",
    "Filtering a vector is a more challenging task,\n",
    "since it does not preserve the length of the list.\n",
    "\n",
    "**Exercise.** In a first approximation, we just want to prove that the filter function returns a vector of *some length*. Complete the definition below.\n",
    "\n",
    "*Hint:* Recall that a proof of `∃[ n ] Vector A n` is a pair `⟨ n , bs ⟩`\n",
    "where `n : ℕ` and `bs : Vector A n`."
   ]
  },
  {
   "cell_type": "code",
   "execution_count": null,
   "metadata": {
    "code_hole_highlighter": [
     4,
     4,
     4,
     4,
     6,
     6,
     6,
     6,
     7,
     7,
     7,
     7
    ],
    "codehighlighter": [],
    "fileName": "/Users/lorenzo/Development/agda-kernel/example/code/vector/filter.agda",
    "holes": [
     4,
     4,
     4,
     4,
     6,
     6,
     6,
     6,
     7,
     7,
     7,
     7
    ],
    "moduleName": "code.vector.filter",
    "preambleLength": 0
   },
   "outputs": [
    {
     "name": "stdout",
     "output_type": "stream",
     "text": [
      "?0 : ℕ\n",
      "?1 : Vector A ?0\n",
      "?2 : ℕ\n",
      "?3 : Vector A ?2\n",
      "?4 : ℕ\n",
      "?5 : Vector A ?4\n"
     ]
    }
   ],
   "source": [
    "module code.vector.filter where\n",
    "open import code.vector public\n",
    "\n",
    "filter : {A : Set} {m : ℕ} → (A → 𝔹) → Vector A m → ∃[ n ] Vector A n\n",
    "filter _ ε = ⟨ ? , ? ⟩\n",
    "filter p (a ∷ as) with p a | filter p as\n",
    "... | true | ⟨ n , bs ⟩ = ⟨ ? , ? ⟩\n",
    "... | false | ⟨ n , bs ⟩ = ⟨ ? , ? ⟩"
   ]
  },
  {
   "cell_type": "code",
   "execution_count": null,
   "metadata": {
    "code_hole_highlighter": [],
    "codehighlighter": [],
    "fileName": "/Users/lorenzo/Development/agda-kernel/example/code/vector/filter.agda",
    "holes": [],
    "moduleName": "code.vector.filter",
    "preambleLength": 0
   },
   "outputs": [
    {
     "name": "stdout",
     "output_type": "stream",
     "text": []
    }
   ],
   "source": [
    "module code.vector.filter where\n",
    "open import code.vector public\n",
    "\n",
    "filter : {A : Set} {m : ℕ} → (A → 𝔹) → Vector A m → ∃[ n ] Vector A n\n",
    "filter _ ε = ⟨ zero , ε ⟩\n",
    "filter p (a ∷ as) with p a | filter p as\n",
    "... | true | ⟨ n , bs ⟩ = ⟨ suc n , a ∷ bs ⟩\n",
    "... | false | ⟨ n , bs ⟩ = ⟨ n , bs ⟩"
   ]
  },
  {
   "cell_type": "markdown",
   "metadata": {
    "code_hole_highlighter": [],
    "codehighlighter": []
   },
   "source": [
    "**Exercise**. Refine the solution above and prove that the filter function cannot increase the length.\n",
    "\n",
    "*Hint:* A proof of `∃[ n ] n ≤ m ∧ Vector A n` has the shape\n",
    "`⟨ n , ⟨ n≤m , bs ⟩ ⟩`."
   ]
  },
  {
   "cell_type": "code",
   "execution_count": null,
   "metadata": {
    "code_hole_highlighter": [
     6,
     6
    ],
    "codehighlighter": [],
    "fileName": "/Users/lorenzo/Development/agda-kernel/example/code/vector/filter.agda",
    "holes": [
     6,
     6
    ],
    "moduleName": "code.vector.filter",
    "preambleLength": 0
   },
   "outputs": [
    {
     "name": "stdout",
     "output_type": "stream",
     "text": [
      "?0\n",
      "  : (A → 𝔹) → Vector A m → thereExists (λ n → (n ≤ m) ∧ Vector A n)\n"
     ]
    }
   ],
   "source": [
    "module code.vector.filter where\n",
    "open import code.vector public\n",
    "\n",
    "postulate ≤-suc : {m n : ℕ} → m ≤ n → m ≤ suc n\n",
    "\n",
    "filter : {A : Set} {m : ℕ} → (A → 𝔹) → Vector A m → ∃[ n ] n ≤ m ∧ Vector A n\n",
    "filter = ?"
   ]
  },
  {
   "cell_type": "code",
   "execution_count": null,
   "metadata": {
    "code_hole_highlighter": [],
    "codehighlighter": [],
    "fileName": "/Users/lorenzo/Development/agda-kernel/example/code/vector/filter.agda",
    "holes": [],
    "moduleName": "code.vector.filter",
    "preambleLength": 0
   },
   "outputs": [
    {
     "name": "stdout",
     "output_type": "stream",
     "text": []
    }
   ],
   "source": [
    "module code.vector.filter where\n",
    "open import code.vector public\n",
    "\n",
    "postulate ≤-suc : {m n : ℕ} → m ≤ n → m ≤ suc n\n",
    "\n",
    "filter : {A : Set} {m : ℕ} → (A → 𝔹) → Vector A m → ∃[ n ] n ≤ m ∧ Vector A n\n",
    "filter _ ε = ⟨ 0 , ⟨ 0≤n , ε ⟩ ⟩\n",
    "filter {A} {suc m} p (a ∷ as) with p a | filter p as\n",
    "... | true | ⟨ n , ⟨ n≤m , bs ⟩ ⟩ = ⟨ suc n , ⟨ s≤s n≤m , a ∷ bs ⟩ ⟩\n",
    "... | false | ⟨ n , ⟨ n≤m , bs ⟩ ⟩ = ⟨ n , ⟨ ≤-suc n≤m , bs ⟩ ⟩"
   ]
  },
  {
   "cell_type": "markdown",
   "metadata": {
    "code_hole_highlighter": [],
    "codehighlighter": [],
    "fileName": "/Users/lorenzo/Dropbox/Workspace/teaching/Teaching/2018-2019/summer semester/LDI (logika dla informatyków)/lab/agda/code/vector/vectors.agda",
    "holes": []
   },
   "source": [
    "##  Vectors of vectors\n",
    "\n",
    "**Exercise.** Define a function that concatenates a vector of vectors into a single vector."
   ]
  },
  {
   "cell_type": "code",
   "execution_count": null,
   "metadata": {
    "code_hole_highlighter": [
     4,
     4,
     5,
     5
    ],
    "codehighlighter": [],
    "fileName": "/Users/lorenzo/Development/agda-kernel/example/code/vector/vectors.agda",
    "holes": [
     4,
     4,
     5,
     5
    ],
    "moduleName": "code.vector.vectors",
    "preambleLength": 0
   },
   "outputs": [
    {
     "name": "stdout",
     "output_type": "stream",
     "text": [
      "?0 : Vector A (zero * n)\n",
      "?1 : Vector A (suc m * n)\n"
     ]
    }
   ],
   "source": [
    "module code.vector.vectors where\n",
    "open import code.vector.concat public\n",
    "\n",
    "concat : {A : Set} {m n : ℕ} → Vector (Vector A n) m → Vector A (m * n)\n",
    "concat {m = 0} ε = ?\n",
    "concat {m = suc m} (xs ∷ xss) = ?"
   ]
  },
  {
   "cell_type": "code",
   "execution_count": null,
   "metadata": {
    "code_hole_highlighter": [],
    "codehighlighter": [],
    "fileName": "/Users/lorenzo/Development/agda-kernel/example/code/vector/vectors.agda",
    "holes": [],
    "moduleName": "code.vector.vectors",
    "preambleLength": 0
   },
   "outputs": [
    {
     "name": "stdout",
     "output_type": "stream",
     "text": []
    }
   ],
   "source": [
    "module code.vector.vectors where\n",
    "open import code.vector.concat public\n",
    "\n",
    "concat : {A : Set} {m n : ℕ} → Vector (Vector A n) m → Vector A (m * n)\n",
    "concat {m = 0} ε = ε\n",
    "concat {m = suc m} (xs ∷ xss) = xs ++ concat xss"
   ]
  },
  {
   "cell_type": "markdown",
   "metadata": {
    "code_hole_highlighter": [],
    "codehighlighter": [],
    "fileName": "/Users/lorenzo/Dropbox/Workspace/teaching/Teaching/2018-2019/summer semester/LDI (logika dla informatyków)/lab/agda",
    "holes": []
   },
   "source": [
    "## Indexing\n",
    "\n",
    "In Agda we can only write total functions. (Not all of them.)\n",
    "Consider the signature for the element-at function.\n",
    "\n",
    "```agda\n",
    "-- _!_ : {n : ℕ} {A : Set} → Vector A n → ℕ → A\n",
    "```\n",
    "\n",
    "This function as it stands cannot be written in Agda\n",
    "because it is not clear what to do when `i` exceeds `n`.\n",
    "\n",
    "### Default values\n",
    "\n",
    "In order to get out of trouble we will put more constraints on the user of the function.\n",
    "One way is to require the user to provide a default value to be returned in case of error\n",
    "\n",
    "**Exercise.** Define indexing with a default answer."
   ]
  },
  {
   "cell_type": "code",
   "execution_count": null,
   "metadata": {
    "code_hole_highlighter": [],
    "codehighlighter": [],
    "fileName": "/Users/lorenzo/Development/agda-kernel/example/code/vector/index.agda",
    "holes": [],
    "moduleName": "code.vector.index",
    "preambleLength": 0
   },
   "outputs": [
    {
     "name": "stdout",
     "output_type": "stream",
     "text": []
    }
   ],
   "source": [
    "module code.vector.index where\n",
    "open import code.vector public\n",
    "\n",
    "_!_default_ : {n : ℕ} {A : Set} → Vector A n → ℕ → A → A\n",
    "ε ! _ default a = a\n",
    "(a ∷ _) ! 0 default _ = a\n",
    "(_ ∷ as) ! (suc n) default a = as ! n default a"
   ]
  },
  {
   "cell_type": "markdown",
   "metadata": {
    "code_hole_highlighter": [],
    "codehighlighter": []
   },
   "source": [
    "### Bounded index\n",
    "\n",
    "Another way out is to require the user to prove that the index is smaller than the length of the vector.\n",
    "\n",
    "**Exercise.** Define indexing by forcing the user to provide evidence that the index is not too large. Notice that we start counting the elements from zero."
   ]
  },
  {
   "cell_type": "code",
   "execution_count": 26,
   "metadata": {
    "code_hole_highlighter": [],
    "codehighlighter": [],
    "fileName": "/Users/lorenzo/Development/agda-kernel/example/code/vector/index.agda",
    "holes": [],
    "moduleName": "code.vector.index",
    "preambleLength": 0
   },
   "outputs": [
    {
     "name": "stdout",
     "output_type": "stream",
     "text": []
    }
   ],
   "source": [
    "module code.vector.index where\n",
    "open import code.vector public\n",
    "\n",
    "_!_ : {n m : ℕ} {A : Set} → Vector A n → suc m ≤ n → A\n",
    "(a ∷ _) ! (s≤s 0≤n) = a\n",
    "(_ ∷ as) ! (s≤s (s≤s x)) = as ! (s≤s x)"
   ]
  },
  {
   "cell_type": "markdown",
   "metadata": {
    "code_hole_highlighter": [],
    "codehighlighter": [],
    "fileName": "/Users/lorenzo/Development/agda-kernel/example/code/matrix.agda",
    "holes": [],
    "moduleName": "code.matrix",
    "preambleLength": 0
   },
   "source": [
    "## Matrices\n",
    "\n",
    "````\n",
    "module code.matrix where\n",
    "open import code.vector public\n",
    "````\n",
    "\n",
    "A matrix of dimension $m \\times n$ is just a vector of dimension $m$\n",
    "containing vectors of dimension $n$.\n",
    "\n",
    "````\n",
    "Matrix : Set → ℕ → ℕ → Set\n",
    "Matrix A m n = Vector (Vector A n) m\n",
    "````"
   ]
  },
  {
   "cell_type": "code",
   "execution_count": null,
   "metadata": {
    "code_hole_highlighter": [],
    "codehighlighter": [],
    "fileName": "/Users/lorenzo/Development/agda-kernel/example/code/matrix/transpose.agda",
    "holes": [],
    "moduleName": "code.matrix.transpose",
    "preambleLength": 0
   },
   "outputs": [
    {
     "name": "stdout",
     "output_type": "stream",
     "text": []
    }
   ],
   "source": [
    "module code.matrix.transpose where\n",
    "open import code.matrix public\n",
    "\n",
    "vec : {n : ℕ} {A : Set} → A → Vector A n\n",
    "vec {zero} _ = ε\n",
    "vec {suc n} a = a ∷ vec a\n",
    "\n",
    "zipWith : ∀ {A B C n} → (A → B → C) → Vector A n → Vector B n → Vector C n\n",
    "zipWith _ ε ε = ε\n",
    "zipWith f (a ∷ as) (b ∷ bs) = f a b ∷ zipWith f as bs\n",
    "\n",
    "apply : ∀ {A B : Set} → (A → B) → A → B\n",
    "apply f x = f x\n",
    "\n",
    "infixl 90 _$_\n",
    "_$_ : ∀ {A B n} → Vector (A → B) n → Vector A n → Vector B n\n",
    "fs $ xs = zipWith apply fs xs\n",
    "\n",
    "transpose : ∀ {A m n} → Matrix A m n → Matrix A n m\n",
    "transpose {m = zero} _ = vec ε\n",
    "transpose {m = suc m} (xs ∷ xss) = zipWith _∷_ xs (transpose xss)\n",
    "\n",
    "-- transpose-involution : ∀ {A m n} {xss : Matrix A m n} → transpose (transpose xss) ≡ xss"
   ]
  },
  {
   "cell_type": "markdown",
   "metadata": {
    "code_hole_highlighter": [],
    "codehighlighter": [],
    "extensions": {
     "jupyter_dashboards": {
      "version": 1,
      "views": {
       "grid_default": {},
       "report_default": {}
      }
     }
    },
    "fileName": "/Users/lorenzo/Dropbox/Workspace/teaching/Teaching/2018-2019/summer semester/LDI (logika dla informatyków)/lab/agda",
    "holes": []
   },
   "source": [
    "# Decidables\n",
    "\n",
    "## Order on `ℕ`\n",
    "\n",
    "Consider again the inductive definition of `≤` for natural numbers:\n",
    "\n",
    "```agda\n",
    "--data _≤_ : ℕ → ℕ → Set where\n",
    "--0≤n : {n : ℕ} → 0 ≤ n\n",
    "--s≤s : {m n : ℕ} → m ≤ n → suc m ≤ suc n\n",
    "```\n",
    "\n",
    "<!--The essence of this definition is that evidence of `m ≤ n`\n",
    "can be used to produce evidence of `suc m ≤ suc n`. -->\n",
    "\n",
    "While the definition of `≤` can be used to establish `m ≤ n`\n",
    "for concrete numbers `m` and `n`,\n",
    "it does not directly yield an algorithm for checking whether `m ≤ n` holds.\n",
    "\n",
    "(And for a good reason. As we will see below, inductive definitions such as `≤` can encode two-counter Minsky machines, and therefore such relations are undecidable in general.)\n",
    "\n",
    "**Exercise.** Write a program that returns `true` or `false` depending on whether `m ≤ n` holds or not.\n",
    "\n",
    "*Hint:* Proceed by recursion on the first argument."
   ]
  },
  {
   "cell_type": "code",
   "execution_count": null,
   "metadata": {
    "code_hole_highlighter": [
     5,
     5
    ],
    "codehighlighter": [],
    "fileName": "/Users/lorenzo/Development/agda-kernel/example/code/bool/leq.agda",
    "holes": [
     5,
     5
    ],
    "moduleName": "code.bool.leq",
    "preambleLength": 0
   },
   "outputs": [
    {
     "name": "stdout",
     "output_type": "stream",
     "text": [
      "?0 : 𝔹\n"
     ]
    }
   ],
   "source": [
    "module code.bool.leq where\n",
    "open import code.nat public\n",
    "open import code.boolean public\n",
    "\n",
    "_≤ᵇ_ : ℕ → ℕ → 𝔹\n",
    "m ≤ᵇ n = ?"
   ]
  },
  {
   "cell_type": "code",
   "execution_count": null,
   "metadata": {
    "code_hole_highlighter": [],
    "codehighlighter": [],
    "fileName": "/Users/lorenzo/Development/agda-kernel/example/code/bool/leq.agda",
    "holes": [],
    "moduleName": "code.bool.leq",
    "preambleLength": 0
   },
   "outputs": [
    {
     "name": "stdout",
     "output_type": "stream",
     "text": []
    }
   ],
   "source": [
    "module code.bool.leq where\n",
    "open import code.nat public\n",
    "open import code.boolean public\n",
    "open import code.conn public\n",
    "\n",
    "infix 15 _≤ᵇ_\n",
    "_≤ᵇ_ : ℕ → ℕ → 𝔹\n",
    "0 ≤ᵇ _ = true\n",
    "(suc _) ≤ᵇ 0 = false\n",
    "(suc m) ≤ᵇ (suc n) = m ≤ᵇ n"
   ]
  },
  {
   "cell_type": "markdown",
   "metadata": {
    "code_hole_highlighter": [],
    "codehighlighter": []
   },
   "source": [
    "**Exercise.** Show that the function `_≤ᵇ_` is correct."
   ]
  },
  {
   "cell_type": "code",
   "execution_count": 31,
   "metadata": {
    "code_hole_highlighter": [
     4,
     4,
     5,
     5,
     8,
     8,
     9,
     9
    ],
    "codehighlighter": [],
    "fileName": "/Users/lorenzo/Development/agda-kernel/example/code/bool/leq/correct.agda",
    "holes": [
     4,
     4,
     5,
     5,
     8,
     8,
     9,
     9
    ],
    "moduleName": "code.bool.leq.correct",
    "preambleLength": 0
   },
   "outputs": [
    {
     "name": "stdout",
     "output_type": "stream",
     "text": [
      "?0 : zero ≤ n\n",
      "?1 : suc m ≤ suc n\n",
      "?2 : 0 ≤ᵇ n ≡𝔹 true\n",
      "?3 : suc m ≤ᵇ suc n ≡𝔹 true\n"
     ]
    }
   ],
   "source": [
    "module code.bool.leq.correct where\n",
    "open import code.bool.leq public\n",
    "\n",
    "≤ᵇ→≤ : (m n : ℕ) → m ≤ᵇ n ≡𝔹 true → m ≤ n\n",
    "≤ᵇ→≤ 0 _  _ = ?\n",
    "≤ᵇ→≤ (suc m) (suc n) t = ?\n",
    "\n",
    "≤→≤ᵇ : {m n : ℕ} → m ≤ n → m ≤ᵇ n ≡𝔹 true\n",
    "≤→≤ᵇ 0≤n = ?\n",
    "≤→≤ᵇ (s≤s m≤n) = ?"
   ]
  },
  {
   "cell_type": "code",
   "execution_count": 32,
   "metadata": {
    "code_hole_highlighter": [],
    "codehighlighter": [],
    "fileName": "/Users/lorenzo/Development/agda-kernel/example/code/bool/leq/correct.agda",
    "holes": [],
    "moduleName": "code.bool.leq.correct",
    "preambleLength": 0
   },
   "outputs": [
    {
     "name": "stdout",
     "output_type": "stream",
     "text": []
    }
   ],
   "source": [
    "module code.bool.leq.correct where\n",
    "open import code.bool.leq public\n",
    "\n",
    "≤ᵇ→≤ : (m n : ℕ) → m ≤ᵇ n ≡𝔹 true → m ≤ n\n",
    "≤ᵇ→≤ 0 _  _ = 0≤n\n",
    "≤ᵇ→≤ (suc m) 0 ()\n",
    "≤ᵇ→≤ (suc m) (suc n) t = s≤s (≤ᵇ→≤ m n t)\n",
    "\n",
    "≤→≤ᵇ : {m n : ℕ} → m ≤ n → m ≤ᵇ n ≡𝔹 true\n",
    "≤→≤ᵇ 0≤n = tt\n",
    "≤→≤ᵇ (s≤s m≤n) = ≤→≤ᵇ m≤n"
   ]
  },
  {
   "cell_type": "markdown",
   "metadata": {
    "code_hole_highlighter": [],
    "codehighlighter": [],
    "fileName": "/Users/lorenzo/Development/agda-kernel/example/code/decidable.agda",
    "holes": [],
    "moduleName": "code.decidable",
    "preambleLength": 0
   },
   "source": [
    "The function `_≤ᵇ_` *computes* the answer to whether `m ≤ n` holds.\n",
    "This means that `m ≤ n` is a *decidable* property of the natural numbers.\n",
    "\n",
    "However, `_≤ᵇ_` does not itself compute a *proof* that `m ≤ n` holds,\n",
    "which is what we established separately in the exercise above (external verification).\n",
    "\n",
    "Depending on the context, it might be more convenient to use `_≤ᵇ_` or `_≤_`.\n",
    "For instance, if we wanted to prove transitivity, then `_≤_` is more convenient because we can do induction on the evidence that `m ≤ n` holds.\n",
    "\n",
    "On the other hand, if we wanted to define the min function on the natural numbers, then `_≤ᵇ_` is more convenient because we are just interested to know which one is the smaller number, but not why it is so.\n",
    "\n",
    "## Decidable properties\n",
    "\n",
    "````\n",
    "module code.decidable where\n",
    "open import code.conn public\n",
    "````\n",
    "\n",
    "We can combine a decision procedure for a property\n",
    "together with the construction of the evidence that the property holds\n",
    "with the introduction of the class of *decidable properties*.\n",
    "\n",
    "````\n",
    "data Dec (A : Set) : Set where\n",
    "  yes : A → Dec A\n",
    "  no : ¬ A → Dec A\n",
    "````\n",
    "\n",
    "The intuition is that evidence for `Dec A` has one of two possible forms:\n",
    "Either it is of the form `yes p` where `p` is a proof that `A` holds,\n",
    "or it is of the form `no ¬p` where `¬p` is a proof that `¬ A` holds.\n",
    "\n",
    "The crucial improvement is the introduction of evidence also when the property does not hold.\n",
    "\n",
    "**Exercise.** Show that the order `_≤_` on natural number is decidable.\n",
    "Notice how this is an instance of *internal verification*."
   ]
  },
  {
   "cell_type": "code",
   "execution_count": 34,
   "metadata": {
    "code_hole_highlighter": [
     5,
     5,
     8,
     8,
     9,
     9,
     11,
     11,
     12,
     12
    ],
    "codehighlighter": [],
    "fileName": "/Users/lorenzo/Development/agda-kernel/example/code/nat/leq/decidable.agda",
    "holes": [
     5,
     5,
     8,
     8,
     9,
     9,
     11,
     11,
     12,
     12
    ],
    "moduleName": "code.nat.leq.decidable",
    "preambleLength": 0
   },
   "outputs": [
    {
     "name": "stdout",
     "output_type": "stream",
     "text": [
      "?0 : suc m ≤ suc n → m ≤ n\n",
      "?1 : Dec (zero ≤ n)\n",
      "?2 : Dec (suc x ≤ zero)\n",
      "?3 : Dec (suc m ≤ suc n)\n",
      "?4 : Dec (suc m ≤ suc n)\n"
     ]
    }
   ],
   "source": [
    "module code.nat.leq.decidable where\n",
    "open import code.decidable public\n",
    "open import code.nat public\n",
    "\n",
    "≤-suc : {m n : ℕ} → suc m ≤ suc n → m ≤ n\n",
    "≤-suc = ?\n",
    "\n",
    "_≤?_ : (m n : ℕ) → Dec (m ≤ n)\n",
    "0 ≤? _ = ?\n",
    "(suc _) ≤? 0 = ?\n",
    "(suc m) ≤? (suc n) with m ≤? n\n",
    "... | yes m≤n = ?\n",
    "... | no ¬m≤n = ?"
   ]
  },
  {
   "cell_type": "code",
   "execution_count": 35,
   "metadata": {
    "code_hole_highlighter": [],
    "codehighlighter": [],
    "fileName": "/Users/lorenzo/Development/agda-kernel/example/code/nat/leq/decidable.agda",
    "holes": [],
    "moduleName": "code.nat.leq.decidable",
    "preambleLength": 0
   },
   "outputs": [
    {
     "name": "stdout",
     "output_type": "stream",
     "text": []
    }
   ],
   "source": [
    "module code.nat.leq.decidable where\n",
    "open import code.decidable public\n",
    "open import code.nat public\n",
    "\n",
    "≤-suc : {m n : ℕ} → suc m ≤ suc n → m ≤ n\n",
    "≤-suc (s≤s m≤n) = m≤n\n",
    "\n",
    "_≤?_ : (m n : ℕ) → Dec (m ≤ n)\n",
    "0 ≤? _ = yes 0≤n\n",
    "(suc _) ≤? 0 = no λ ()\n",
    "(suc m) ≤? (suc n) with m ≤? n\n",
    "... | yes m≤n = yes (s≤s m≤n)\n",
    "... | no ¬m≤n = no λ sucm≤sucn → ¬m≤n (≤-suc sucm≤sucn)"
   ]
  },
  {
   "cell_type": "markdown",
   "metadata": {
    "code_hole_highlighter": [],
    "codehighlighter": [],
    "fileName": "/Users/lorenzo/Development/agda-kernel/example/code/decidable/logic.agda",
    "holes": [],
    "moduleName": "code.decidable.logic",
    "preambleLength": 0
   },
   "source": [
    "## The logic of decidable properties\n",
    "\n",
    "````\n",
    "module code.decidable.logic where\n",
    "open import code.decidable public\n",
    "open import code.existential public\n",
    "open import code.universal public\n",
    "````\n",
    "\n",
    "One can ask which closure properties do decidable properties have.\n",
    "It turns out, that decidable properties obey the rules of classical logic.\n",
    "\n",
    "### Negation\n",
    "\n",
    "**Exercise.** Show that decidable properties are closed under negation.\n",
    "\n",
    "*Hint:* Swap the `yes` and the `no` case."
   ]
  },
  {
   "cell_type": "code",
   "execution_count": null,
   "metadata": {
    "code_hole_highlighter": [],
    "codehighlighter": [],
    "fileName": "/Users/lorenzo/Development/agda-kernel/example/code/decidable/neg.agda",
    "holes": [],
    "moduleName": "code.decidable.neg",
    "preambleLength": 0
   },
   "outputs": [
    {
     "name": "stdout",
     "output_type": "stream",
     "text": []
    }
   ],
   "source": [
    "module code.decidable.neg where\n",
    "open import code.decidable public\n",
    "\n",
    "¬? : {A : Set} → Dec A → Dec (¬ A)\n",
    "¬? (yes x)  =  no λ ¬x → ¬x x\n",
    "¬? (no ¬x)  =  yes ¬x"
   ]
  },
  {
   "cell_type": "markdown",
   "metadata": {
    "code_hole_highlighter": [],
    "codehighlighter": [],
    "fileName": "/Users/lorenzo/Dropbox/Workspace/teaching/Teaching/2018-2019/summer semester/LDI (logika dla informatyków)/lab/agda",
    "holes": []
   },
   "source": [
    "### Conjunction\n",
    "\n",
    "**Exercise.** Show that decidable properties are closed under conjunction."
   ]
  },
  {
   "cell_type": "code",
   "execution_count": null,
   "metadata": {
    "code_hole_highlighter": [
     4,
     4,
     5,
     5,
     6,
     6
    ],
    "codehighlighter": [],
    "fileName": "/Users/lorenzo/Development/agda-kernel/example/code/decidable/and.agda",
    "holes": [
     4,
     4,
     5,
     5,
     6,
     6
    ],
    "moduleName": "code.decidable.and",
    "preambleLength": 0
   },
   "outputs": [
    {
     "name": "stdout",
     "output_type": "stream",
     "text": [
      "?0 : Dec (A ∧ B)\n",
      "?1 : Dec (A ∧ B)\n",
      "?2 : Dec (A ∧ B)\n"
     ]
    }
   ],
   "source": [
    "module code.decidable.and where\n",
    "open import code.decidable public\n",
    "\n",
    "_∧?_ : {A B : Set} → Dec A → Dec B → Dec (A ∧ B)\n",
    "(yes a) ∧? (yes b) = ?\n",
    "(no ¬a) ∧? _ = ?\n",
    "_ ∧? (no ¬b) = ?"
   ]
  },
  {
   "cell_type": "code",
   "execution_count": null,
   "metadata": {
    "code_hole_highlighter": [],
    "codehighlighter": [],
    "fileName": "/Users/lorenzo/Development/agda-kernel/example/code/decidable/and.agda",
    "holes": [],
    "moduleName": "code.decidable.and",
    "preambleLength": 0
   },
   "outputs": [
    {
     "name": "stdout",
     "output_type": "stream",
     "text": []
    }
   ],
   "source": [
    "module code.decidable.and where\n",
    "open import code.decidable public\n",
    "\n",
    "_∧?_ : {A B : Set} → Dec A → Dec B → Dec (A ∧ B)\n",
    "(yes a) ∧? (yes b) = yes ⟨ a , b ⟩\n",
    "(no ¬a) ∧? _ = no λ a∧b → ¬a (fst a∧b)\n",
    "_ ∧? (no ¬b) = no λ a∧b → ¬b (snd a∧b)"
   ]
  },
  {
   "cell_type": "markdown",
   "metadata": {
    "code_hole_highlighter": [],
    "codehighlighter": []
   },
   "source": [
    "### Disjunction\n",
    "\n",
    "**Exercise.** Show that decidable properties are closed under disjunction."
   ]
  },
  {
   "cell_type": "code",
   "execution_count": null,
   "metadata": {
    "code_hole_highlighter": [
     4,
     4
    ],
    "codehighlighter": [],
    "fileName": "/Users/lorenzo/Development/agda-kernel/example/code/decidable/or.agda",
    "holes": [
     4,
     4
    ],
    "moduleName": "code.decidable.or",
    "preambleLength": 0
   },
   "outputs": [
    {
     "name": "stdout",
     "output_type": "stream",
     "text": [
      "?0 : Dec (A ∨ B)\n"
     ]
    }
   ],
   "source": [
    "module code.decidable.or where\n",
    "open import code.decidable public\n",
    "\n",
    "_∨?_ : {A B : Set} → Dec A → Dec B → Dec (A ∨ B)\n",
    "_ ∨? _ = ?"
   ]
  },
  {
   "cell_type": "code",
   "execution_count": null,
   "metadata": {
    "code_hole_highlighter": [],
    "codehighlighter": [],
    "fileName": "/Users/lorenzo/Development/agda-kernel/example/code/decidable/or.agda",
    "holes": [],
    "moduleName": "code.decidable.or",
    "preambleLength": 0
   },
   "outputs": [
    {
     "name": "stdout",
     "output_type": "stream",
     "text": []
    }
   ],
   "source": [
    "module code.decidable.or where\n",
    "open import code.decidable public\n",
    "\n",
    "_∨?_ : {A B : Set} → Dec A → Dec B → Dec (A ∨ B)\n",
    "yes a ∨? _ = yes (left a)\n",
    "_ ∨? yes b = yes (right b)\n",
    "no ¬a ∨? no ¬b = no λ x → case x (λ a → ¬a a) (λ b → ¬b b)"
   ]
  },
  {
   "cell_type": "markdown",
   "metadata": {
    "code_hole_highlighter": [],
    "codehighlighter": [],
    "fileName": "/Users/lorenzo/Dropbox/Workspace/teaching/Teaching/2018-2019/summer semester/LDI (logika dla informatyków)/lab/agda",
    "holes": []
   },
   "source": [
    "### Law of excluded middle\n",
    "\n",
    "Another way to look at decidable properties is through the law of the excluded middle. In fact, decidable properties are designed to be precisely those for which the law of excluded middle holds.\n",
    "\n",
    "**Exercise.** Prove that a property is decidable iff it satisfy the law of the excluded middle."
   ]
  },
  {
   "cell_type": "code",
   "execution_count": null,
   "metadata": {
    "code_hole_highlighter": [
     4,
     4,
     7,
     7
    ],
    "codehighlighter": [],
    "fileName": "/Users/lorenzo/Development/agda-kernel/example/code/decidable/lem.agda",
    "holes": [
     4,
     4,
     7,
     7
    ],
    "moduleName": "code.decidable.lem",
    "preambleLength": 0
   },
   "outputs": [
    {
     "name": "stdout",
     "output_type": "stream",
     "text": [
      "?0 : Dec A → A ∨ ¬ A\n",
      "?1 : A ∨ ¬ A → Dec A\n"
     ]
    }
   ],
   "source": [
    "module code.decidable.lem where\n",
    "open import code.decidable public\n",
    "\n",
    "dec→lem : {A : Set} → Dec A → A ∨ ¬ A\n",
    "dec→lem = ?\n",
    "\n",
    "lem→dec : {A : Set} → A ∨ ¬ A → Dec A\n",
    "lem→dec = ?"
   ]
  },
  {
   "cell_type": "code",
   "execution_count": null,
   "metadata": {
    "code_hole_highlighter": [],
    "codehighlighter": [],
    "fileName": "/Users/lorenzo/Development/agda-kernel/example/code/decidable/lem.agda",
    "holes": [],
    "moduleName": "code.decidable.lem",
    "preambleLength": 0
   },
   "outputs": [
    {
     "name": "stdout",
     "output_type": "stream",
     "text": []
    }
   ],
   "source": [
    "module code.decidable.lem where\n",
    "open import code.decidable public\n",
    "\n",
    "dec→lem : {A : Set} → Dec A → A ∨ ¬ A\n",
    "dec→lem (yes a) = left a\n",
    "dec→lem (no ¬a) = right ¬a\n",
    "\n",
    "lem→dec : {A : Set} → A ∨ ¬ A → Dec A\n",
    "lem→dec (left a) = yes a\n",
    "lem→dec (right ¬a) = no ¬a"
   ]
  },
  {
   "cell_type": "markdown",
   "metadata": {
    "code_hole_highlighter": [
     15,
     15,
     30,
     30
    ],
    "codehighlighter": [],
    "fileName": "/Users/lorenzo/Development/agda-kernel/example/code/decidable/quantifiers.agda",
    "holes": [
     15,
     15,
     30,
     30
    ],
    "moduleName": "code.decidable.quantifiers",
    "preambleLength": 0
   },
   "source": [
    "### Quantifiers\n",
    "\n",
    "````\n",
    "module code.decidable.quantifiers where\n",
    "open import code.decidable.logic public\n",
    "````\n",
    "\n",
    "One may ask whether decidable predicates are closed w.r.t. existential/universal quantification, but this is not the case.\n",
    "\n",
    "Closure under the existential quantifier can be stated as follows:\n",
    "Assume that `B a` is decidable for every fixed `a`\n",
    "and show that `∃[ a ] B a` must be decidable.\n",
    "\n",
    "````\n",
    "∃? : {A : Set} {B : A → Set} → (∀[ a ] Dec (B a)) → Dec (∃[ a ] B a)\n",
    "∃? _ = ?\n",
    "````\n",
    "\n",
    "Even if we can decide `B a` for a fixed `a`, \n",
    "it is not clear\n",
    "\n",
    "1. how to find such an `a` when it exists, and\n",
    "2. what to do when no such `a` exists.\n",
    "\n",
    "This is in line with the fact that recursively enumerable sets are projections of recursive sets (decidables).\n",
    "\n",
    "The situation for the universal quantifier is dually complicated.\n",
    "\n",
    "````\n",
    "∀? : {A : Set} {B : A → Set} → (∀[ a ] Dec (B a)) → Dec (∀[ a ] B a)\n",
    "∀? _ = ?\n",
    "````"
   ]
  },
  {
   "cell_type": "markdown",
   "metadata": {
    "code_hole_highlighter": [],
    "codehighlighter": [],
    "fileName": "/Users/lorenzo/Development/agda-kernel/example/code/minsky.agda",
    "holes": [],
    "moduleName": "code.minsky",
    "preambleLength": 0
   },
   "source": [
    "# Type-level programming\n",
    "\n",
    "## Two-counter machines\n",
    "\n",
    "````\n",
    "module code.minsky where\n",
    "open import code.nat public\n",
    "````\n",
    "\n",
    "We show how to implement a two-counter machine with zero tests (i.e., a Minsky machine) with inductive types and type-level programming.\n",
    "This shows that \n",
    "\n",
    "First of all, we define the set of allower counter operations: \n",
    "\n",
    "````\n",
    "data Op : Set where\n",
    "  nop : Op\n",
    "  incr1 : Op\n",
    "  decr1 : Op\n",
    "  test1 : Op\n",
    "  incr2 : Op\n",
    "  decr2 : Op\n",
    "  test2 : Op\n",
    "````\n",
    "\n",
    "For instance, `nop` does not change the counters and `incr2` increases the second counter by one.\n",
    "\n",
    "We also define the set of states (i.e., control locations) of our machine.\n",
    "\n",
    "````\n",
    "data State : Set where\n",
    "  p : State\n",
    "  q : State\n",
    "  r : State\n",
    "````\n",
    "\n",
    "Thus our machine has three states.\n",
    "We can now define the set of transitions.\n",
    "\n",
    "````\n",
    "data Δ : State → Op → State → Set where\n",
    "  δ0 : Δ p nop p\n",
    "  δ1 : Δ p incr1 p\n",
    "  δ2 : Δ p test2 q\n",
    "  δ3 : Δ q decr1 r\n",
    "````\n",
    "\n",
    "For instance, `δ2` can be applied when the machine is in state `p` and the second counter is zero,\n",
    "and causes the machine to go to state `q`.\n",
    "\n",
    "We are now ready to formally define the semantics of counter machines.\n",
    "A *configuration* is a tuple `[ p , c , d ]` where `p` is the current control location,\n",
    "and `c`, `d` are the current counter values.\n",
    "\n",
    "````\n",
    "data Conf : Set where\n",
    "  [_,_,_] : State → ℕ → ℕ → Conf\n",
    "````\n",
    "\n",
    "The transition relation defines the dynamics of counter machines in terms of a transition system.\n",
    "\n",
    "````\n",
    "data _=>_ : Conf → Conf → Set\n",
    "````\n",
    "\n",
    "In the definition of `_=>_` we use the following type-level function\n",
    "which maps counter operations and states to a corresponding transition.\n",
    "\n",
    "````\n",
    "⟬_⟭ : Op → State → State → Set\n",
    "⟬ nop ⟭ x y = ∀ {m n} → [ x , m , n ] => [ y , m , n ]\n",
    "⟬ incr1 ⟭ x y = ∀ {m n} → [ x , m , n ] => [ y , suc m , n ]\n",
    "⟬ decr1 ⟭ x y = ∀ {m n} → [ x , suc m , n ] => [ y , m , n ]\n",
    "⟬ test1 ⟭ x y = ∀ {n} → [ x , zero , n ] => [ y , zero , n ]\n",
    "⟬ incr2 ⟭ x y = ∀ {m n} → [ x , m , n ] => [ y , m , suc n ]\n",
    "⟬ decr2 ⟭ x y = ∀ {m n} → [ x , m , suc n ] => [ y , m , n ]\n",
    "⟬ test2 ⟭ x y = ∀ {m} → [ x , m , zero ] => [ y , m , zero ]\n",
    "````\n",
    "\n",
    "For instance, `⟬ decr2 ⟭ x y` says that from configuration `[ x , m , suc n ]`\n",
    "we can go to configuration `[ y , m , n ]`, by decrementing the second counter.\n",
    "\n",
    "The definition of the transition relation leverages on `⟬_⟭`.\n",
    "\n",
    "````\n",
    "data _=>_ where\n",
    "    step-nop : ∀ {x y} → Δ x nop y → ⟬ nop ⟭ x y\n",
    "    step-incr1 : ∀ {x y} → Δ x incr1 y → ⟬ incr1 ⟭ x y\n",
    "    step-decr1 : ∀ {x y} → Δ x decr1 y → ⟬ decr1 ⟭ x y\n",
    "    step-test1 : ∀ {x y} → Δ x test1 y → ⟬ test1 ⟭ x y\n",
    "    step-incr2 : ∀ {x y} → Δ x incr2 y → ⟬ incr2 ⟭ x y\n",
    "    step-decr2 : ∀ {x y} → Δ x decr2 y → ⟬ decr2 ⟭ x y\n",
    "    step-test2 : ∀ {x y} → Δ x test2 y → ⟬ test2 ⟭ x y\n",
    "````\n",
    "\n",
    "The transition relation describes runs of length 1.\n",
    "In order to describe longer run,\n",
    "we take its reflexive-transitive closure,\n",
    "which we define in a generic way.\n",
    "This is the only place where we use inductive types.\n",
    "\n",
    "````\n",
    "-- careful, the symbol \";\" below looks like \";\" but it is a different unicode symbol ;p\n",
    "infix 30 _*\n",
    "infixr 20 _;_\n",
    "data _* {A : Set} (R : A → A → Set) : A → A → Set where\n",
    "  stop : ∀ {a} → (R *) a a\n",
    "  _;_ : ∀ {a b c} → R a b → (R *) b c → (R *) a c\n",
    "````\n",
    "\n",
    "We can now prove the existence of some runs, such as:\n",
    "\n",
    "````\n",
    "_ : (_=>_ *) [ p , zero , zero ] [ r , zero , zero ]\n",
    "_ = step-incr1 δ1 ; step-test2 δ2 ; step-decr1 δ3 ; stop\n",
    "````\n",
    "\n",
    "Note that once we know the transition `δ2`,\n",
    "then the corresponding constructor `step-test2` of `_=>_` is uniquely determined thanks to the type system.\n",
    "We formalise below this intuition.\n",
    "\n",
    "````\n",
    "step : ∀ {x y op} → Δ x op y → ⟬ op ⟭ x y\n",
    "step {op = nop} δ = step-nop δ\n",
    "step {op = incr1} δ = step-incr1 δ\n",
    "step {op = decr1} δ = step-decr1 δ\n",
    "step {op = test1} δ = step-test1 δ\n",
    "step {op = incr2} δ = step-incr2 δ\n",
    "step {op = decr2} δ = step-decr2 δ\n",
    "step {op = test2} δ = step-test2 δ\n",
    "````\n",
    "\n",
    "With the generic `step` function in hand,\n",
    "we can now reprove the existence of the previous run more elegantly.\n",
    "\n",
    "````\n",
    "_ : (_=>_ *) [ p , zero , zero ] [ r , zero , zero ]\n",
    "_ = step δ1 ; step δ2 ; step δ3 ; stop\n",
    "````\n",
    "\n",
    "Since the reachability problem for Minsky machines is undecidable,\n",
    "it follows that the inhabitation problem for types of the form `(_=>_ *) s t` is also undecidable."
   ]
  },
  {
   "cell_type": "markdown",
   "metadata": {
    "code_hole_highlighter": [],
    "codehighlighter": [],
    "fileName": "/Users/lorenzo/Development/agda-kernel/example/code/lambda.agda",
    "holes": [],
    "moduleName": "code.lambda",
    "preambleLength": 0
   },
   "source": [
    "# Simply typed lambda calculus\n",
    "\n",
    "````\n",
    "module code.lambda where\n",
    "open import code.decidable public\n",
    "open import code.eq public\n",
    "open import code.nat public\n",
    "open import code.list public\n",
    "open import code.existential public\n",
    "````\n",
    "\n",
    "## Simple types\n",
    "We begin by defining the set of simple types:\n",
    "A simple type is either the base type `o`,\n",
    "or it is a function type `α ⇒ β`,\n",
    "where `α`, `β` are base types.\n",
    "\n",
    "````\n",
    "infixr 30 _⇒_\n",
    "data Type : Set where\n",
    "  o : Type\n",
    "  _⇒_ : Type → Type → Type\n",
    "````\n",
    "\n",
    "## Decidable equality\n",
    "\n",
    "We show that simple types have a decidable equality relation.\n",
    "\n",
    "````\n",
    "inversion : ∀ {α β σ τ} → α ⇒ σ ≡ β ⇒ τ → α ≡ β ∧ σ ≡ τ\n",
    "inversion refl = ⟨ refl , refl ⟩\n",
    "\n",
    "_≡?_ : (α β : Type) → Dec (α ≡ β)\n",
    "o ≡? o = yes refl\n",
    "o ≡? (_ ⇒ _) = no λ ()\n",
    "(_ ⇒ _) ≡? o = no λ ()\n",
    "(α ⇒ α₁) ≡? (β ⇒ β₁) with α ≡? β | α₁ ≡? β₁\n",
    "... | yes α≡β | yes α₁≡β₁ = yes (cong2 _⇒_ α≡β α₁≡β₁)\n",
    "... | no ¬α≡β | _ = no λ x → ¬α≡β (fst (inversion x))\n",
    "... | _ | no ¬α₁≡β₁ = no λ x → ¬α₁≡β₁ (snd (inversion x))\n",
    "````\n",
    "\n",
    "For the negative case, we use the `inversion` property:\n",
    "If two functional types are equal, then their components must be equal as well.\n",
    "\n",
    "## Raw terms\n",
    "\n",
    "We define the set of raw terms.\n",
    "Variables are indexed by their de Bruijn index.\n",
    "We additionally decorate λ-abstractions with the type of the bound variable\n",
    "(types *à la Church*).\n",
    "\n",
    "````\n",
    "infixl 80 _·_\n",
    "data Raw : Set where\n",
    "  var : ℕ → Raw\n",
    "  _·_ : Raw → Raw → Raw\n",
    "  lam : Type → Raw → Raw\n",
    "````\n",
    "\n",
    "For instance, the term `λ f λ x → f x` is represented as follows.\n",
    "\n",
    "````\n",
    "u : Raw\n",
    "u = lam (o ⇒ o) (lam o (var 1 · var 0))\n",
    "````\n",
    "\n",
    "````\n",
    "·-≡ : ∀ {u v u' v'} → u · v ≡ u' · v' → u ≡ u' ∧ v ≡ v'\n",
    "·-≡ refl = ⟨ refl , refl ⟩\n",
    "\n",
    "lam-≡ : {α β : Type} {u v : Raw} → lam α u ≡ lam β v → α ≡ β ∧ u ≡ v\n",
    "lam-≡ refl = ⟨ refl , refl ⟩\n",
    "````\n",
    "\n",
    "## Contexes\n",
    "\n",
    "A context is a mapping assigning a type to every variable.\n",
    "Since variables are indexed by natural numbers,\n",
    "a context is just a list of types.\n",
    "\n",
    "It is customary to write contexes right-to-left,\n",
    "with the first element appearing at the right.\n",
    "\n",
    "````\n",
    "infixl 5 _,_\n",
    "data Context : Set where\n",
    "  ∅ : Context\n",
    "  _,_ : Context → Type → Context\n",
    "````\n",
    "\n",
    "For instance, the following context assigns type `o` to the innermost variable\n",
    "and type `o ⇒ o` to the second innermost one.\n",
    "\n",
    "````\n",
    "Γ₀ : Context\n",
    "Γ₀ = ∅ , o ⇒ o , o\n",
    "````\n",
    "\n",
    "## Variable lookup\n",
    "\n",
    "We define when a type appears in a context.\n",
    "We additionally record at which index does the occurrence appear.\n",
    "\n",
    "````\n",
    "infix  4 _∈_!_\n",
    "data _∈_!_ : Type → Context → ℕ → Set where\n",
    "  stop : ∀ {Γ α} → α ∈ Γ , α ! 0\n",
    "  skip : ∀ {Γ α β n} → α ∈ Γ ! n → α ∈ Γ , β ! suc n\n",
    "````\n",
    "\n",
    "For example,\n",
    "\n",
    "````\n",
    "_ : o ⇒ o ∈ Γ₀ ! 1\n",
    "_ = skip stop\n",
    "````\n",
    "\n",
    "The constructor `stop` tells us how to prove a lookup of the form `α ∈ Γ , α ! 0`.\n",
    "In fact, there is no other way, as show below.\n",
    "\n",
    "````\n",
    "stop-inversion : ∀ {Γ α β} → α ∈ Γ , β ! 0 → α ≡ β\n",
    "stop-inversion stop = refl\n",
    "````\n",
    "\n",
    "A similar property holds for `skip`:\n",
    "The only way to prove `α ∈ Γ , β ! suc n` is by proving `α ∈ Γ ! n` as well.\n",
    "\n",
    "````\n",
    "skip-inversion : ∀ {Γ α β n} → α ∈ Γ , β ! suc n → α ∈ Γ ! n\n",
    "skip-inversion (skip x) = x\n",
    "````\n",
    "\n",
    "Finally, we can show that lookup is deterministic,\n",
    "which will be useful later.\n",
    "\n",
    "````\n",
    "∈-det : ∀ {Γ α β n} → α ∈ Γ ! n → β ∈ Γ ! n → α ≡ β\n",
    "∈-det stop stop = refl\n",
    "∈-det (skip p) (skip q) with ∈-det p q\n",
    "... | refl = refl\n",
    "````\n",
    "\n",
    "## Decidable lookup\n",
    "\n",
    "When `α ∈ Γ ! n` holds we can immediately recover the index of the first occurrence of `α` in `Γ`.\n",
    "\n",
    "````\n",
    "index : ∀ {Γ α n} → α ∈ Γ ! n → ℕ\n",
    "index {n = n} _ = n\n",
    "````\n",
    "\n",
    "We can also go the other way around,\n",
    "which amounts to prove that variable lookup is a decidable property.\n",
    "The `yes` cases are immediate. In the last `no` case,\n",
    "we use the inversion property `skip-inversion` above.\n",
    "\n",
    "<!--\n",
    "_∈?_!_ : ∀ α Γ n → Dec (α ∈ Γ ! n)\n",
    "_ ∈? ∅ ! _ = no λ ()\n",
    "α ∈? Γ , β ! zero with α ≡? β\n",
    "... | yes refl = yes stop\n",
    "... | no ¬α≡β = no λ x → ¬α≡β (stop-inversion x)\n",
    "α ∈? Γ , β ! suc n with α ∈? Γ ! n\n",
    "... | yes p = yes (skip p)\n",
    "... | no p = no λ x → p (skip-inversion x)\n",
    "-->\n",
    "\n",
    "````\n",
    "infix 4 _!_\n",
    "_!_ : ∀ Γ n → Dec (∃[ α ] α ∈ Γ ! n)\n",
    "∅ ! _ = no λ ()\n",
    "Γ , α ! zero = yes ⟨ α , stop ⟩\n",
    "Γ , _ ! suc n with Γ ! n\n",
    "... | yes ⟨ α , α∈Γ!n ⟩ = yes ⟨ α , skip α∈Γ!n ⟩\n",
    "... | no f = no λ x → f ⟨ Σ.proj₁ x , skip-inversion (Σ.proj₂ x) ⟩\n",
    "````\n",
    "\n",
    "## Typed terms\n",
    "\n",
    "Typed terms are identified with typing derivations.\n",
    "The syntax mirrors the one for raw terms.\n",
    "\n",
    "````\n",
    "data Term : Context → Type → Set where\n",
    "  var : ∀ {Γ α n} → α ∈ Γ ! n → Term Γ α\n",
    "  _·_ : ∀ {Γ α β} → Term Γ (α ⇒ β) → Term Γ α → Term Γ β\n",
    "  lam : ∀ {Γ β} α → Term (Γ , α) β → Term Γ (α ⇒ β)\n",
    "````\n",
    "\n",
    "We can easily convert a typed term into its correspoding raw term\n",
    "just by discarding the typing information.\n",
    "We use the function `index` to convert evidence that `α ∈ Γ` holds\n",
    "into the index of the occurrence of `α` in `Γ`.\n",
    "\n",
    "````\n",
    "erase : ∀ {Γ α} → Term Γ α → Raw\n",
    "erase (var A∈Γ) = var (index A∈Γ)\n",
    "erase (u · v) = erase u · erase v\n",
    "erase (lam α u) = lam α (erase u)\n",
    "````\n",
    "\n",
    "We can show that `erase` preserves the type, in the following sense:\n",
    "If two typed terms `s` and `t` have the same erasure,\n",
    "then they have the same type.\n",
    "\n",
    "````\n",
    "type-det : ∀ {Γ α β} → (s : Term Γ α) → (t : Term Γ β) → erase s ≡ erase t → α ≡ β\n",
    "type-det (var x) (var y) refl = ∈-det x y\n",
    "type-det (s · t) (s' · t') eq with ·-≡ eq\n",
    "... | ⟨ eq1 , eq2 ⟩ with type-det s s' eq1\n",
    "... | refl = refl\n",
    "type-det (lam α s) (lam β t) eq with lam-≡ {α} {β} {erase s} {erase t} eq\n",
    "... | ⟨ refl , eq2 ⟩ with type-det s t eq2\n",
    "... | refl = refl\n",
    "````\n",
    "\n",
    "## Typable terms\n",
    "\n",
    "We define raw typable terms as erasures of typed terms.\n",
    "\n",
    "````\n",
    "infix 4 _⊢_\n",
    "data _⊢_ (Γ : Context) : Raw → Set where\n",
    "  typable : (α : Type) → (t : Term Γ α) → Γ ⊢ erase t\n",
    "````\n",
    "\n",
    "The typability relation also satisfies an inversion property.\n",
    "\n",
    "````\n",
    "typable-inversion : ∀ {Γ u} → Γ ⊢ u → ∃[ α ] Σ (Term Γ α) (λ t → u ≡ erase t)\n",
    "typable-inversion (typable α t) = ⟨ α , ⟨ t , refl ⟩ ⟩\n",
    "````\n",
    "\n",
    "## Properties of `_⊢_`\n",
    "\n",
    "We cannot type a variable from the empty context.\n",
    "\n",
    "````\n",
    "∅-var : ∀ {n} → ¬ (∅ ⊢ var n)\n",
    "∅-var ∅⊢var with typable-inversion ∅⊢var\n",
    "... | ⟨ _ , ⟨ var () , _ ⟩ ⟩\n",
    "... | ⟨ _ , ⟨ u · v , () ⟩ ⟩\n",
    "... | ⟨ _ , ⟨ lam α t , () ⟩ ⟩\n",
    "````\n",
    "\n",
    "### Variables\n",
    "If we can type a raw term of the form `var n`,\n",
    "then its type is to be found at index `n` in `Γ`.\n",
    "\n",
    "````\n",
    "var-⊢ : ∀ {Γ n} → Γ ⊢ var n → ∃[ α ] α ∈ Γ ! n \n",
    "var-⊢ {∅} {_} x = ⊥-elim (∅-var x)\n",
    "var-⊢ {Γ , α} {0} x = ⟨ α , stop ⟩\n",
    "var-⊢ {Γ , α} {suc n} x with typable-inversion x \n",
    "... | ⟨ β , ⟨ var (skip p) , refl ⟩ ⟩ = ⟨ β , skip p ⟩\n",
    "````\n",
    "\n",
    "If we can type a raw term of the form `lam α u` in context `Γ`,\n",
    "then we can type `u` in context `Γ , α`.\n",
    "\n",
    "### Abstractions\n",
    "\n",
    "````\n",
    "lam-⊢ : ∀ {Γ α u} → Γ ⊢ lam α u → Γ , α ⊢ u\n",
    "lam-⊢ x with typable-inversion x\n",
    "... | ⟨ _ , ⟨ lam α t , refl ⟩ ⟩ = typable _ t\n",
    "````\n",
    "\n",
    "### Applications\n",
    "\n",
    "If we can type a raw term of the form `u · v` in context `Γ`,\n",
    "then it must be the case that both `u` and `v` are typable in context `Γ`.\n",
    "\n",
    "````\n",
    "app-⊢ : ∀ {Γ u v} → Γ ⊢ u · v → Γ ⊢ u ∧ Γ ⊢ v\n",
    "app-⊢ x with typable-inversion x\n",
    "... | ⟨ _ , ⟨ s · t , refl ⟩ ⟩ = ⟨ typable _ s , typable _ t ⟩\n",
    "````\n",
    "\n",
    "In an application `r · v`, the typed term `r` must have an arrow type.\n",
    "\n",
    "````\n",
    "app-type1 : ∀ {Γ v α} → (r : Term Γ α) → Γ ⊢ erase r · v → ¬ (α ≡ o)\n",
    "app-type1 {Γ} {v} {α} r x α≡o with typable-inversion x\n",
    "... | ⟨ β , ⟨ s · t , p ⟩ ⟩ with subst (_≡ o) (type-det r s (fst (·-≡ p))) α≡o\n",
    "... | ()\n",
    "````\n",
    "\n",
    "In an application `erase s · erase t` where `t` has type `α`\n",
    "the type of `s` must be of the form `α ⇒ β`.\n",
    "\n",
    "````\n",
    "app-type2 : ∀ {Γ α β γ} → (s : Term Γ (α ⇒ β)) → (t : Term Γ γ) → Γ ⊢ erase s · erase t → α ≡ γ\n",
    "app-type2 s t x with typable-inversion x\n",
    "... | ⟨ β , ⟨ y · z , p ⟩ ⟩ with ·-≡ p\n",
    "... | ⟨ eq1 , eq2 ⟩ with inversion (type-det s y eq1)\n",
    "... | ⟨ eq3 , eq4 ⟩ with type-det t z eq2\n",
    "... | eq5 = trans eq3 (sym eq5)\n",
    "````\n",
    "\n",
    "## Type inference\n",
    "\n",
    "We are now ready to present the type inference algorithm.\n",
    "It amounts to establishing that the relationship `Γ ⊢ u`\n",
    "between contexes and raw terms is decidable.\n",
    "\n",
    "````\n",
    "infix 4 _⊢?_\n",
    "_⊢?_ : ∀ Γ u → Dec (Γ ⊢ u)\n",
    "````\n",
    "\n",
    "Let `Γ ⊢? u` be an instance of typability.\n",
    "In the `yes` instances, we return the type of `u`, say `α`,\n",
    "together with evidence of the form `typable α s`\n",
    "where `s` is a typed term whose is erasure is `u`.\n",
    "This provides the proof of *soundness* of the typing algorithm.\n",
    "\n",
    "In the `no` instances,\n",
    "we return evidence that no typing possibly exists.\n",
    "This provides the proof of *completeness* of the typing algorithm.\n",
    "\n",
    "The variable and abstraction cases are the easiest.\n",
    "The inversion properties `var-⊢` and `lam-⊢` introduced earlier\n",
    "are used to conclude in the `no` instances.\n",
    "\n",
    "````\n",
    "Γ ⊢? var n\n",
    "    with Γ ! n\n",
    "... | yes ⟨ α , α∈Γ!n ⟩ = yes (typable α (var α∈Γ!n))\n",
    "... | no f = no λ x → f (var-⊢ x)\n",
    "\n",
    "Γ ⊢? lam α u with Γ , α ⊢? u\n",
    "... | yes (typable β s) = yes (typable (α ⇒ β) (lam α s))\n",
    "... | no f = no λ x → f (lam-⊢ x)\n",
    "````\n",
    "\n",
    "The application case is the most involved,\n",
    "because there are many things that can go wrong in an application,\n",
    "and we need to analyse them one by one.\n",
    "\n",
    "````\n",
    "Γ ⊢? u · v\n",
    "    with Γ ⊢? u | Γ ⊢? v\n",
    "... | no f | _ = no λ x → f (fst (app-⊢ x))\n",
    "... | _ | no f = no λ x → f (snd (app-⊢ x))\n",
    "... | yes (typable o s) | _ = no λ x → (app-type1 s x) refl\n",
    "... | yes (typable (α ⇒ β) s) | yes (typable γ t)\n",
    "    with α ≡? γ\n",
    "Γ ⊢? .(erase s) · .(erase t) | yes (typable (α ⇒ β) s) | yes (typable .α t) | yes refl = yes (typable β (s · t))\n",
    "Γ ⊢? u · v | yes (typable (α ⇒ β) s) | yes (typable γ t) | no f = no λ x → f (app-type2 s t x)\n",
    "````"
   ]
  },
  {
   "cell_type": "markdown",
   "metadata": {
    "code_hole_highlighter": [],
    "codehighlighter": [],
    "fileName": "/Users/lorenzo/Development/agda-kernel/example/code/system-T.agda",
    "holes": [],
    "moduleName": "code.system-T",
    "preambleLength": 0
   },
   "source": [
    "# Gödel System T\n",
    "\n",
    "````\n",
    "module code.system-T where\n",
    "open import code.boolean public\n",
    "open import code.nat public\n",
    "\n",
    "if_then_else_ : {C : Set} → 𝔹 → C → C → C\n",
    "if true then x else y = x\n",
    "if false then x else y = y\n",
    "\n",
    "natrec : {C : Set} → C → (ℕ → C → C) → ℕ → C\n",
    "natrec p h zero = p\n",
    "natrec p h (suc n) = h n (natrec p h n)\n",
    "\n",
    "plus : ℕ → ℕ → ℕ\n",
    "plus n m = natrec m (\\x y -> suc y) n\n",
    "\n",
    "mult : ℕ → ℕ → ℕ\n",
    "mult n m = natrec zero (\\x y -> plus y m) n\n",
    "````\n",
    "\n",
    "Features:\n",
    "\n",
    "* All typable programs terminate (even at higher order).\n",
    "* It is even *strongly normalising*, i.e., a typable term reaches a unique normal form, no matter the reduction strategy.\n",
    "* We can define all primitive higher-order recursive functions.\n",
    "In particular, we can define all primitive (first-order) recursive functions.\n",
    "Primitive higher-order recursion allows us even to define functions which are not primitive first-order, such as the Ackermann function (!).\n",
    "* System T can be seen as the simply typed core of Martin-Löf's constructive type theory."
   ]
  }
 ],
 "metadata": {
  "css": [
   "undefined"
  ],
  "extensions": {
   "jupyter_dashboards": {
    "activeView": "grid_default",
    "version": 1,
    "views": {
     "grid_default": {
      "cellMargin": 10,
      "defaultCellHeight": 20,
      "maxColumns": 12,
      "name": "grid",
      "type": "grid"
     },
     "report_default": {
      "name": "report",
      "type": "report"
     }
    }
   }
  },
  "kernelspec": {
   "display_name": "agda",
   "language": "agda",
   "name": "agda"
  },
  "language_info": {
   "file_extension": ".agda",
   "mimetype": "text/agda",
   "name": "agda"
  },
  "toc": {
   "base_numbering": 1,
   "nav_menu": {},
   "number_sections": true,
   "sideBar": true,
   "skip_h1_title": false,
   "title_cell": "Table of Contents",
   "title_sidebar": "Contents",
   "toc_cell": false,
   "toc_position": {
    "height": "514px",
    "left": "456px",
    "top": "104px",
    "width": "289px"
   },
   "toc_section_display": false,
   "toc_window_display": true
  }
 },
 "nbformat": 4,
 "nbformat_minor": 2
}
