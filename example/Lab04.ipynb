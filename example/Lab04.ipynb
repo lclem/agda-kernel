{
 "cells": [
  {
   "cell_type": "markdown",
   "metadata": {
    "codehighlighter": [],
    "extensions": {
     "jupyter_dashboards": {
      "version": 1,
      "views": {
       "grid_default": {},
       "report_default": {}
      }
     }
    },
    "fileName": "/Users/lorenzo/Dropbox/Workspace/teaching/Teaching/2018-2019/summer semester/LDI (logika dla informatyków)/lab/agda/code/list.agda",
    "hide_input": false
   },
   "source": [
    "**LICENCE:**\n",
    "This tutorial contains adaptations of material from [Programming Language Foundations in Agda](https://plfa.github.io/) by Phil Wadler and Wen Kokke. It is licensed under Creative Commons Attribution 4.0 International.\n",
    "\n",
    "# Curry-Howard isomorphism\n",
    "\n",
    "\\begin{align*}\n",
    "    &\\textrm{Logic} && &&\\textrm{Computer science}\\\\\n",
    "    \\hline\n",
    "    &\\textrm{Theorems} &\\leftrightarrow &&&\n",
    "        \\textrm{Types} && A \\\\\n",
    "    &\\textrm{Proofs} &\\leftrightarrow &&&\n",
    "        \\textrm{Programs (terms)}\n",
    "            && a \\\\\n",
    "    &\\textrm{Proof simplification} &\\leftrightarrow &&&\n",
    "        \\textrm{Program execution}\n",
    "            && \\textrm{run } a \\\\\n",
    "    \\hline\n",
    "    &\\textrm{Proof development} &\\leftrightarrow &&&\n",
    "        \\textrm{Programming}\n",
    "            && \\textrm{write } a \\\\\n",
    "    &\\textrm{Proof checking} &\\leftrightarrow &&&\n",
    "        \\textrm{Type checking}\n",
    "            && \\textrm{given } a \\textrm{ and } A, \\textrm{ does } a : A?\\\\\n",
    "    &\\textrm{Validity (mathematics)} &\\leftrightarrow &&&\n",
    "        \\textrm{Inhabitation problem}\n",
    "            && \\textrm{given } A, \\textrm{ is there some $a : A$?}\n",
    "\\end{align*}\n",
    "\n",
    "**SYNTAX:**\n",
    "You can enter `→` by writing `->` and pressing TAB; pressing TAB again goes back to `->`. Similar useful combinations are:\n",
    "\n",
    "| base form | alternate form |\n",
    "|:---------:|:--------------:|\n",
    "| ->  | → |\n",
    "| \\   | λ |\n",
    "| neg | ¬ |\n",
    "| top | ⊤ |\n",
    "| bot | ⊥ |\n",
    "| /\\  | ∧ |\n",
    "| \\\\/ | ∨ |\n",
    "| <   | ⟨ |\n",
    "| >   | ⟩ |\n",
    "| =<> | ≡⟨⟩ |\n",
    "| qed | ∎ |\n",
    "| N   | ℕ |\n",
    "| Pi  | Π |\n",
    "| Sigma | Σ |\n",
    "| forall | ∀ |\n",
    "| exists | ∃ |\n",
    "\n",
    "<!---\n",
    "\n",
    "**PRO TRICKS:**\n",
    "- You can ask Agda to provide the type of a closed expression. Just put the cursor nearby an expression and press SHIFT+TAB.\n",
    "- You can ask Agda to compute the normal form of an expression enclosed in parantheses, such as `(λ x → x)` (already in normal form).\n",
    "\n",
    "-->"
   ]
  },
  {
   "cell_type": "code",
   "execution_count": 1,
   "metadata": {
    "codehighlighter": [],
    "fileName": "/Users/lorenzo/Dropbox/Workspace/teaching/Teaching/2018-2019/summer semester/LDI (logika dla informatyków)/lab/agda/code/list.agda",
    "hide_input": false,
    "init_cell": true
   },
   "outputs": [
    {
     "name": "stdout",
     "output_type": "stream",
     "text": []
    }
   ],
   "source": [
    "module code.conn where -- from before\n",
    "\n",
    "infixr 2 _∧_\n",
    "data _∧_ (A : Set) (B : Set) : Set where\n",
    "  ⟨_,_⟩ : A → B → A ∧ B\n",
    "  \n",
    "fst : {A B : Set} → A ∧ B → A\n",
    "fst ⟨ a , _ ⟩ = a\n",
    "\n",
    "snd : {A B : Set} → A ∧ B → B\n",
    "snd ⟨ _ , b ⟩ = b\n",
    "\n",
    "infixr 1 _∨_ \n",
    "data _∨_ (A : Set) (B : Set) : Set where\n",
    "    left : A → A ∨ B\n",
    "    right : B → A ∨ B\n",
    "\n",
    "data ⊤ : Set where\n",
    "  tt : ⊤\n",
    "  \n",
    "data ⊥ : Set where\n",
    "\n",
    "⊥-elim : {A : Set} → ⊥ → A\n",
    "⊥-elim ()\n",
    "\n",
    "infix 3 ¬_ -- higher priority than ∨ and ∧\n",
    "\n",
    "¬_ : Set → Set\n",
    "¬ A = A → ⊥\n",
    "\n",
    "infixr 1 _⟺_\n",
    "_⟺_ : (A : Set) (B : Set) → Set\n",
    "A ⟺ B = (A → B) ∧ (B → A)"
   ]
  },
  {
   "cell_type": "code",
   "execution_count": 2,
   "metadata": {
    "codehighlighter": [],
    "fileName": "/Users/lorenzo/Dropbox/Workspace/teaching/Teaching/2018-2019/summer semester/LDI (logika dla informatyków)/lab/agda/code/conn.agda",
    "hide_input": true,
    "init_cell": true
   },
   "outputs": [
    {
     "name": "stdout",
     "output_type": "stream",
     "text": []
    }
   ],
   "source": [
    "module code.nat where\n",
    "\n",
    "data ℕ : Set where\n",
    "  zero : ℕ\n",
    "  suc : ℕ → ℕ\n",
    "\n",
    "infixl 5 _+_\n",
    "infixl 6 _*_ -- higher priority than _+_\n",
    "\n",
    "-- left associative: a + b + c ≡ (a + b) + c\n",
    "\n",
    "-- recursive function on an inductive type\n",
    "_+_ : ℕ → ℕ → ℕ\n",
    "zero + m = m\n",
    "(suc n) + m = suc (n + m)\n",
    "\n",
    "_*_ : ℕ → ℕ → ℕ\n",
    "zero * _  =  zero\n",
    "suc m * n  =  n + (m * n)\n",
    "\n",
    "-- we can use standard numerals 0, 1, ...\n",
    "-- as abbreviations for zero, suc zero, ...\n",
    "{-# BUILTIN NATURAL ℕ #-}"
   ]
  },
  {
   "cell_type": "code",
   "execution_count": 5,
   "metadata": {
    "codehighlighter": [],
    "fileName": "/Users/lorenzo/Dropbox/Workspace/teaching/Teaching/2018-2019/summer semester/LDI (logika dla informatyków)/lab/agda/code/list.agda",
    "hide_input": false,
    "init_cell": true
   },
   "outputs": [
    {
     "name": "stdout",
     "output_type": "stream",
     "text": []
    }
   ],
   "source": [
    "module code.list where\n",
    "open import code.conn public\n",
    "open import code.nat public\n",
    "\n",
    "infixr 5 _∷_\n",
    "data _* (A : Set) : Set where\n",
    "  ε : A *\n",
    "  _∷_ : A → A * → A *\n",
    "\n",
    "--length : {A : Set} → A * → ℕ\n",
    "--length ε = 0\n",
    "--length (_ ∷ xs) = suc (length xs)\n",
    "\n",
    "infix 4 _≡L_\n",
    "data _≡L_ {A : Set} : A * → A * → Set where\n",
    "  ε≡ε : ε ≡L ε\n",
    "  ∷≡∷ : {a : A} {as bs : A *} → as ≡L bs → a ∷ as ≡L a ∷ bs\n",
    "\n",
    "≡L-refl : {A : Set} {as : A *} → as ≡L as\n",
    "≡L-refl {A} {ε} = ε≡ε\n",
    "≡L-refl {A} {a ∷ as} = ∷≡∷ (≡L-refl {A} {as})\n",
    "\n",
    "≡L-sym : {A : Set} {as bs : A *} → as ≡L bs → bs ≡L as\n",
    "≡L-sym ε≡ε = ε≡ε\n",
    "≡L-sym {A} (∷≡∷ {a} {as} {bs} as≡bs) = ∷≡∷ {A} {a} {bs} {as} (≡L-sym {A} {as} {bs} as≡bs)\n",
    "\n",
    "postulate ≡L-trans : {A : Set} {as bs cs : A *} → as ≡L bs → bs ≡L cs → as ≡L cs"
   ]
  },
  {
   "cell_type": "markdown",
   "metadata": {
    "codehighlighter": [],
    "extensions": {
     "jupyter_dashboards": {
      "version": 1,
      "views": {
       "grid_default": {},
       "report_default": {}
      }
     }
    },
    "fileName": "/Users/lorenzo/Dropbox/Workspace/teaching/Teaching/2018-2019/summer semester/LDI (logika dla informatyków)/lab/agda/code/list.agda"
   },
   "source": [
    "# Decidables\n",
    "\n",
    "````\n",
    "module code.test where\n",
    "````"
   ]
  },
  {
   "cell_type": "markdown",
   "metadata": {
    "codehighlighter": [],
    "extensions": {
     "jupyter_dashboards": {
      "version": 1,
      "views": {
       "grid_default": {},
       "report_default": {}
      }
     }
    },
    "fileName": "/Users/lorenzo/Dropbox/Workspace/teaching/Teaching/2018-2019/summer semester/LDI (logika dla informatyków)/lab/agda/code/vector.agda"
   },
   "source": [
    "# Vectors and internal verification\n",
    "\n",
    "````\n",
    "module code.vector where\n",
    "\n",
    "open import code.nat\n",
    "open import code.list -- hiding (_++_)\n",
    "\n",
    "infixr 5 _∷_\n",
    "infixr 5 _++_\n",
    "\n",
    "-- indexed and parametrised type\n",
    "-- the parameter is the type A and the index is the dimension n\n",
    "data Vector (A : Set) : ℕ → Set where\n",
    "  ε : Vector A zero\n",
    "  _∷_ : {n : ℕ} → A → Vector A n → Vector A (suc n)\n",
    "\n",
    "_++_ : {A : Set} {m n : ℕ} → Vector A m → Vector A n → Vector A (m + n)\n",
    "ε ++ ys = ys\n",
    "(x ∷ xs) ++ ys = x ∷ (xs ++ ys)\n",
    "\n",
    "toList : {A : Set} {n : ℕ} → Vector A n → A *\n",
    "toList ε = ε\n",
    "toList (x ∷ xs) = x ∷ toList xs\n",
    "\n",
    "-- more difficult\n",
    "--fromList : {A : Set} → (xs : A *) → Vector A (length xs)\n",
    "--fromList ε = ε\n",
    "--fromList (x ∷ xs) = x ∷ fromList xs\n",
    "\n",
    "map : {A B : Set} {n : ℕ} → (A → B) → Vector A n → Vector B n\n",
    "map f ε = ε\n",
    "map f (x ∷ xs) = f x ∷ map f xs\n",
    "\n",
    "foldr : {A B : Set} {n : ℕ} → (A → B → B) → B → Vector A n → B\n",
    "foldr _ e ε = e\n",
    "foldr _⊗_ e (x ∷ xs) = x ⊗ foldr _⊗_ e xs\n",
    "\n",
    "-- need to access the hidden parameter!\n",
    "vlength : {A : Set} {n : ℕ} → Vector A n → ℕ\n",
    "vlength {A} {n} _ = n\n",
    "````"
   ]
  },
  {
   "cell_type": "code",
   "execution_count": null,
   "metadata": {
    "codehighlighter": [],
    "extensions": {
     "jupyter_dashboards": {
      "version": 1,
      "views": {
       "grid_default": {},
       "report_default": {}
      }
     }
    },
    "fileName": "/Users/lorenzo/Dropbox/Workspace/teaching/Teaching/2018-2019/summer semester/LDI (logika dla informatyków)/lab/agda/code/hello.agda"
   },
   "outputs": [
    {
     "name": "stdout",
     "output_type": "stream",
     "text": []
    }
   ],
   "source": [
    "module code.hello where"
   ]
  },
  {
   "cell_type": "markdown",
   "metadata": {
    "codehighlighter": [],
    "extensions": {
     "jupyter_dashboards": {
      "version": 1,
      "views": {
       "grid_default": {},
       "report_default": {}
      }
     }
    },
    "fileName": "/Users/lorenzo/Dropbox/Workspace/teaching/Teaching/2018-2019/summer semester/LDI (logika dla informatyków)/lab/agda/code/hello.agda"
   },
   "source": [
    "# Type-level programming"
   ]
  }
 ],
 "metadata": {
  "celltoolbar": "Initialization Cell",
  "extensions": {
   "jupyter_dashboards": {
    "activeView": "grid_default",
    "version": 1,
    "views": {
     "grid_default": {
      "cellMargin": 10,
      "defaultCellHeight": 20,
      "maxColumns": 12,
      "name": "grid",
      "type": "grid"
     },
     "report_default": {
      "name": "report",
      "type": "report"
     }
    }
   }
  },
  "kernelspec": {
   "display_name": "agda",
   "language": "agda",
   "name": "agda"
  },
  "language_info": {
   "file_extension": ".agda",
   "mimetype": "text/agda",
   "name": "agda"
  },
  "toc": {
   "base_numbering": 1,
   "nav_menu": {},
   "number_sections": true,
   "sideBar": true,
   "skip_h1_title": false,
   "title_cell": "Table of Contents",
   "title_sidebar": "Contents",
   "toc_cell": false,
   "toc_position": {},
   "toc_section_display": true,
   "toc_window_display": false
  }
 },
 "nbformat": 4,
 "nbformat_minor": 2
}
