{
 "cells": [
  {
   "cell_type": "code",
   "execution_count": null,
   "metadata": {
   },
   "outputs": [
    {
     "name": "stdout",
     "output_type": "stream",
     "text": []
    }
   ],
   "source": [
    "module example where\n",
    "\n",
    "id : {A : Set} → A → A\n",
    "id x = x"
   ]
  }
 ],
 "metadata": {
  "kernelspec": {
   "display_name": "agda",
   "language": "agda",
   "name": "agda"
  },
  "language_info": {
   "file_extension": ".agda",
   "mimetype": "text/agda",
   "name": "agda"
  }
 },
 "nbformat": 4,
 "nbformat_minor": 2
}
