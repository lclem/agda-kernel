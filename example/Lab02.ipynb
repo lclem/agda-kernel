{
 "cells": [
  {
   "cell_type": "markdown",
   "metadata": {},
   "source": [
    "**LICENCE:**\n",
    "This tutorial contains adaptations of material from [Programming Language Foundations in Agda](https://plfa.github.io/) by Phil Wadler and Wen Kokke. It is licensed under Creative Commons Attribution 4.0 International.\n",
    "\n",
    "# Curry-Howard isomorphism\n",
    "\n",
    "\\begin{align*}\n",
    "    &\\textrm{Logic} && &&\\textrm{Computer science}\\\\\n",
    "    \\hline\n",
    "    &\\textrm{Theorems} &\\leftrightarrow &&&\n",
    "        \\textrm{Types} && A \\\\\n",
    "    &\\textrm{Proofs} &\\leftrightarrow &&&\n",
    "        \\textrm{Programs (terms)}\n",
    "            && a \\\\\n",
    "    &\\textrm{Proof simplification} &\\leftrightarrow &&&\n",
    "        \\textrm{Program execution}\n",
    "            && \\textrm{run } a \\\\\n",
    "    \\hline\n",
    "    &\\textrm{Proof development} &\\leftrightarrow &&&\n",
    "        \\textrm{Programming}\n",
    "            && \\textrm{write } a \\\\\n",
    "    &\\textrm{Proof checking} &\\leftrightarrow &&&\n",
    "        \\textrm{Type checking}\n",
    "            && \\textrm{given } a \\textrm{ and } A, \\textrm{ does } a : A?\\\\\n",
    "    &\\textrm{Validity (mathematics)} &\\leftrightarrow &&&\n",
    "        \\textrm{Inhabitation problem}\n",
    "            && \\textrm{given } A, \\textrm{ is there some $a : A$?}\n",
    "\\end{align*}\n",
    "\n",
    "**SYNTAX:**\n",
    "You can enter `→` by writing `->` and pressing TAB; pressing TAB again goes back to `->`. Similar useful combinations are:\n",
    "\n",
    "| base form | alternate form |\n",
    "|:---------:|:--------------:|\n",
    "| ->  | → |\n",
    "| \\   | λ |\n",
    "| neg | ¬ |\n",
    "| top | ⊤ |\n",
    "| bot | ⊥ |\n",
    "| /\\  | ∧ |\n",
    "| \\\\/ | ∨ |\n",
    "| <   | ⟨ |\n",
    "| >   | ⟩ |\n",
    "| N   | ℕ |\n",
    "| Pi  | Π |\n",
    "| Sigma | Σ |\n",
    "| forall | ∀ |\n",
    "| exists | ∃ |\n",
    "\n",
    "<!---\n",
    "\n",
    "**PRO TRICKS:**\n",
    "- You can ask Agda to provide the type of a closed expression. Just put the cursor nearby an expression and press SHIFT+TAB.\n",
    "- You can ask Agda to compute the normal form of an expression enclosed in parantheses, such as `(λ x → x)` (already in normal form).\n",
    "\n",
    "-->"
   ]
  },
  {
   "cell_type": "markdown",
   "metadata": {},
   "source": [
    "# Natural numbers `ℕ` and inductive definitions\n",
    "\n",
    "We now explore *inductive types* such as the natural numbers,\n",
    "which have an infinite number of inhabitants. Functions on inductive types such as `_+_` and `fib` are defined recursively. In Agda, we can write only total functions (though not all of them). This is achieved by imposing severe restrictions on the format of recursive definitions, e.g., by requiring that some argument is strictly decreasing in every recursive call."
   ]
  },
  {
   "cell_type": "code",
   "execution_count": 6,
   "metadata": {},
   "outputs": [
    {
     "name": "stdout",
     "output_type": "stream",
     "text": [
      "OK"
     ]
    }
   ],
   "source": [
    "module code.nat where\n",
    "\n",
    "data ℕ : Set where\n",
    "  zero : ℕ\n",
    "  suc : ℕ → ℕ\n",
    "\n",
    "-- with the following directive we can use standard numerals 0, 1, ..., as abbreviations for zero, suc zero, ...\n",
    "{-# BUILTIN NATURAL ℕ #-}\n",
    "\n",
    "infixl 5 _+_\n",
    "infixl 6 _*_ -- higher priority than _+_\n",
    "\n",
    "-- left associative means that \"a + b + c\" is parsed as \"(a + b) + c\"\n",
    "\n",
    "-- recursive functions on an inductive type\n",
    "_+_ _*_ : ℕ → ℕ → ℕ -- declaration, definitions below\n",
    "\n",
    "zero + m = m\n",
    "(suc n) + m = suc (n + m)\n",
    "\n",
    "zero * _  =  zero\n",
    "suc m * n  =  n + (m * n)\n",
    "\n",
    "-- we can ask Agda to compute answers (normalisation) by hitting SHIFT+TAB (twice for better visualisation)\n",
    "fiftyfive : ℕ\n",
    "fiftyfive = 11 * 5"
   ]
  },
  {
   "cell_type": "markdown",
   "metadata": {},
   "source": [
    "# Equality\n",
    "Before proving interesting properties of natural numbers,\n",
    "we need to be able to state (and prove) that two terms, such as `5 + 3` and `2 * 2 * 2`, have the same normal form.\n",
    "This is achieved by *types* of the form `x ≡ y`,\n",
    "where `x y : A` are *values* of (some) type `A`.\n",
    "We are allowing types to be indexed by values, thus `x ≡ y` is a dependent type.\n",
    "The type `x ≡ y` is inhabited precisely when `x` and `y` evaluate to the same normal form (say `a`),\n",
    "and the unique inhabitant thereof is the constructor `refl : a ≡ a`.\n",
    "\n",
    "We note that `_≡_` is not a primitive in Agda, but it is defined as part of the standard library.\n",
    "We will not dwell into the details of how `_≡_` is defined, but rather focus on how to use it by means of examples."
   ]
  },
  {
   "cell_type": "code",
   "execution_count": 7,
   "metadata": {},
   "outputs": [
    {
     "name": "stdout",
     "output_type": "stream",
     "text": [
      "OK"
     ]
    }
   ],
   "source": [
    "module code.eq where\n",
    "\n",
    "import Relation.Binary.PropositionalEquality as Eq\n",
    "open Eq using (_≡_; refl; trans; sym; cong; cong-app; subst) public\n",
    "open Eq.≡-Reasoning using (begin_; _≡⟨⟩_; _≡⟨_⟩_; _∎) public\n",
    "\n",
    "open import code.nat\n",
    "\n",
    "-- Agda establishes that `refl : 8 ≡ 8` by normalising the two arguments of `_≡_`;\n",
    "-- this is one reason why it is fundamental that evaluation always terminates\n",
    "_ : 5 + 3 ≡ 2 * 2 * 2\n",
    "_ = refl\n",
    "\n",
    "-- the following example shows that also terms with free variables are normalised:\n",
    "-- `0 + m` and `m` evaluate (i.e., normalise) to the same normal form (namely, \"m\")\n",
    "_ : {m : ℕ} → 0 + m ≡ m\n",
    "_ = refl\n",
    "\n",
    "-- normalisation works also inside contexts:\n",
    "-- since `0 + m` normalises to `m`, `(0 + m) * n` normalises to `m * n`\n",
    "_ : {m n : ℕ} → (0 + m) * n ≡ m * n\n",
    "_ = refl"
   ]
  },
  {
   "cell_type": "markdown",
   "metadata": {},
   "source": [
    "**Exercise (Hello World!).** Define the Fibonacci function `fib` and prove that `fib 26 ≡ 121393`, where\n",
    "\\begin{align*}\n",
    "    \\mathsf{fib}(0) &= 0, \\\\\n",
    "    \\mathsf{fib}(1) &= 1, \\\\\n",
    "    \\mathsf{fib}(n) &= \\mathsf{fib}(n-1) + \\mathsf{fib}(n-2).\n",
    "\\end{align*}\n",
    "Notice that we didn't define a subtraction operation on natural numbers.\n",
    "\n",
    "*Hint:* Use pattern matching on the input variable."
   ]
  },
  {
   "cell_type": "code",
   "execution_count": 8,
   "metadata": {},
   "outputs": [
    {
     "name": "stdout",
     "output_type": "stream",
     "text": [
      "?0 : ℕ → ℕ\n"
     ]
    }
   ],
   "source": [
    "module code.fib where\n",
    "open import code.nat\n",
    "open import code.eq\n",
    "\n",
    "fib : ℕ → ℕ\n",
    "fib = ?"
   ]
  },
  {
   "cell_type": "code",
   "execution_count": 9,
   "metadata": {},
   "outputs": [
    {
     "name": "stdout",
     "output_type": "stream",
     "text": [
      "OK"
     ]
    }
   ],
   "source": [
    "module code.fib where\n",
    "open import code.nat\n",
    "open import code.eq\n",
    "\n",
    "-- the hello world of functional programming\n",
    "fib : ℕ → ℕ\n",
    "fib 0 = 0\n",
    "fib 1 = 1\n",
    "fib (suc (suc n)) = fib (suc n) + fib n\n",
    "\n",
    "_ : fib 26 ≡ 121393\n",
    "_ = refl"
   ]
  },
  {
   "cell_type": "markdown",
   "metadata": {},
   "source": [
    "# Inductive proofs\n",
    "\n",
    "We have seen how the set of natural numbers can be defined inductively,\n",
    "and we have also seen how some identities on natural numbers such as `0 + m ≡ m`\n",
    "can be proved by `refl : m ≡ m` because `0 + m` normalises to `m`.\n",
    "\n",
    "Consider now the similarly looking property\n",
    "```agda\n",
    "m+0≡m : (m : ℕ) → m + 0 ≡ m\n",
    "```\n",
    "(Notice that `m+0≡m` is a valid identifier, and it is the name of our theorem.)\n",
    "Now `refl` won't cut it, because`m + 0` is already in normal form and syntactically different from `m`.\n",
    "In order to prove `m+0≡m` we need induction.\n",
    "\n",
    "In Agda, a proof by induction is a recursive program\n",
    "which transforms a proof for case $n$ into a proof for case $n+1$. \n",
    "\n",
    "The function `_+_` has two parameters, so we need to choose which one to do induction on.\n",
    "Since `_+_` is defined by recursion on its first argument,\n",
    "it is good heuristics to do induction on the first argument.\n",
    "\n",
    "We now proceed with the proof, i.e., with the recursive definition of `m+0≡m`.\n",
    "In the base case, we have `m = 0` and thus we need to prove `0 + 0 ≡ 0`,\n",
    "which follows from reflexivity:\n",
    "```agda\n",
    "m+0≡m 0 = refl\n",
    "```\n",
    "In the inductive step, we need to prove `suc m + 0 ≡ suc m` (by defining `m+0≡m (suc m) : suc m + 0 ≡ suc m`)\n",
    "under the assumption that `m + 0 ≡ m` holds (as witnessed by `m+0≡m m : m + 0 ≡ m`).\n",
    "The term `suc m + 0` rewrites to `suc (m + 0)`, according to the definition of `_+_`.\n",
    "Thus, it suffices to show `suc (m + 0) ≡ suc m`.\n",
    "By inductive assumption, `m + 0 ≡ m` holds, and it suffices to lift the equivalence to the context `suc (...)`.\n",
    "This is what the program `cong` (for *congruence*) does:\n",
    "```agda\n",
    "m+0≡m (suc m) = cong suc (m+0≡m m)\n",
    "```"
   ]
  },
  {
   "cell_type": "code",
   "execution_count": 10,
   "metadata": {},
   "outputs": [
    {
     "name": "stdout",
     "output_type": "stream",
     "text": [
      "OK"
     ]
    }
   ],
   "source": [
    "module code.nat.ind0 where\n",
    "open import code.nat\n",
    "open import code.eq\n",
    "\n",
    "m+0≡m : (m : ℕ) → m + 0 ≡ m\n",
    "m+0≡m 0 = refl\n",
    "m+0≡m (suc m) = cong suc (m+0≡m m)"
   ]
  },
  {
   "cell_type": "markdown",
   "metadata": {},
   "source": [
    "## Symmetry\n",
    "We now have our first proof by induction `m+0≡m : (m : ℕ) → m + 0 ≡ m`.\n",
    "Suppose we now want to prove the symmetric statement, i.e., \n",
    "```agda\n",
    "m≡m+0 : (m : ℕ) → m ≡ m + 0\n",
    "```\n",
    "One way would be to reason by induction on `m`, and essentially repeate the proof for `m+0≡m`.\n",
    "A better way is to use the principle *symmetry* applied to the previous `m+0≡m`,\n",
    "which is what the expression `sym : ... → x ≡ y → y ≡ x` does below."
   ]
  },
  {
   "cell_type": "code",
   "execution_count": 11,
   "metadata": {},
   "outputs": [
    {
     "name": "stdout",
     "output_type": "stream",
     "text": [
      "OK"
     ]
    }
   ],
   "source": [
    "module code.eq.sym where\n",
    "open import code.nat public\n",
    "open import code.eq public \n",
    "open import code.nat.ind0 public\n",
    "\n",
    "m≡m+0 : (m : ℕ) → m ≡ m + 0\n",
    "m≡m+0 m = sym (m+0≡m m)"
   ]
  },
  {
   "cell_type": "markdown",
   "metadata": {},
   "source": [
    "## Equality chains\n",
    "We can make proofs using chains of equalities more readable by using some syntactic sugaring.\n",
    "This also helps documenting the proof, i.e., showing what is the *intention* behind the code.\n",
    "In order to illustrate the use of equality chains, we repeat the proofs above in this new style.\n",
    "Additionally, we also prove associativity of addition."
   ]
  },
  {
   "cell_type": "code",
   "execution_count": 12,
   "metadata": {},
   "outputs": [
    {
     "name": "stdout",
     "output_type": "stream",
     "text": [
      "OK"
     ]
    }
   ],
   "source": [
    "module code.nat.assoc where\n",
    "open import code.nat public\n",
    "open import code.eq public\n",
    "\n",
    "m+0≡m : (m : ℕ) → m + 0 ≡ m\n",
    "m+0≡m 0 = refl\n",
    "m+0≡m (suc m) =\n",
    "    suc m + 0 ≡⟨⟩ -- by the definition of _+_\n",
    "    suc (m + 0) ≡⟨ cong suc (m+0≡m m) ⟩ -- inductive hypothesis\n",
    "    suc m ∎\n",
    "  \n",
    "m≡m+0 : (m : ℕ) → m ≡ m + 0\n",
    "m≡m+0 m =\n",
    "    m ≡⟨ sym (m+0≡m m) ⟩\n",
    "    m + 0 ∎\n",
    "    \n",
    "-- let's prove that addition is associative\n",
    "+-assoc : (m n l : ℕ) → m + (n + l) ≡ m + n + l\n",
    "+-assoc 0 n l =\n",
    "    0 + (n + l)\n",
    "    ≡⟨⟩ n + l\n",
    "    ≡⟨⟩ (0 + n) + l ∎\n",
    "+-assoc (suc m) n l =  \n",
    "    suc m + (n + l) ≡⟨⟩\n",
    "    suc (m + (n + l)) ≡⟨ cong suc (+-assoc m n l) ⟩ -- inductive hypothesis\n",
    "    suc ((m + n) + l) ≡⟨⟩\n",
    "    suc (m + n) + l ≡⟨⟩\n",
    "    (suc m + n) + l ∎"
   ]
  },
  {
   "cell_type": "markdown",
   "metadata": {},
   "source": [
    "**Exercise.** In this exercise we prove that addition is commutative. We proceed in two steps.\n",
    "\n",
    "1. Prove the following auxiliary fact about `_+_` and `suc`:\n",
    "```agda\n",
    "suc-lemma : (m n : ℕ) → suc (m + n) ≡ m + suc n\n",
    "```\n",
    "*Hint:* Use chains of equations to keep track of normal forms.\n",
    "\n",
    "2. Prove that addition is commutative:\n",
    "```agda\n",
    "+-comm : (m n : ℕ) → m + n ≡ n + m\n",
    "```\n",
    "*Hint:* Use `m≡m+0` from above, and `suc-lemma`.\n",
    "\n",
    "*General hint:* When there are several variables to do induction on, a good heuristics is to do induction on the variable(s) that appear as recursive arguments. For instance, if we have an expression `x + y`, it is probably more covenient to reason by induction on `x`, since `_+_` is defined by induction on its first argument."
   ]
  },
  {
   "cell_type": "markdown",
   "metadata": {},
   "source": [
    "# Relations\n",
    "We explore how inductive definitions can be used to define some common unary and binary relations on the natural numbers.\n",
    "\n",
    "## Order\n",
    "\n",
    "In the same way as we define the natural number inductively,\n",
    "we can also define relations on the natural numbers inductively.\n",
    "For instance, we can define the total order relation between natural numbers `m ≤ n`,\n",
    "which is inhabited precisely when `m` is less or equaly than `n` in the natural order:\n",
    "\n",
    "```agda\n",
    "data _≤_ : ℕ → ℕ → Set where\n",
    "  0≤n : {n : ℕ} → 0 ≤ n\n",
    "  s≤s : {m n : ℕ} → m ≤ n → suc m ≤ suc n\n",
    "```\n",
    "\n",
    "In the first case, we say that `0 ≤ n` always holds,\n",
    "as witnessed by the (base) constructor `0≤n`.\n",
    "In the second case, if `m ≤ n` holds (as witnessed by some `m≤n : m ≤ n`),\n",
    "then `suc m ≤ suc n` also holds.\n",
    "The witness of the later fact is given by the second (inductive) constructor `s≤s m≤n : suc m ≤ suc n`\n",
    "applied to `m≤n`.\n",
    "\n",
    "The type `m ≤ n` is called an *indexed type*\n",
    "since it depends on the indices `m` and `n`,\n",
    "which vary in the definition of `_≤_`."
   ]
  },
  {
   "cell_type": "code",
   "execution_count": 15,
   "metadata": {},
   "outputs": [
    {
     "name": "stdout",
     "output_type": "stream",
     "text": [
      "OK"
     ]
    }
   ],
   "source": [
    "module code.nat.leq where\n",
    "open import code.eq public\n",
    "open import code.nat public\n",
    "\n",
    "infix 4 _≤_\n",
    "\n",
    "-- indexed inductive type\n",
    "data _≤_ : ℕ → ℕ → Set where\n",
    "  0≤n : {n : ℕ} → 0 ≤ n\n",
    "  s≤s : {m n : ℕ} → m ≤ n → suc m ≤ suc n\n",
    "\n",
    "-- some examples\n",
    "_ : 1 ≤ 100\n",
    "_ = s≤s {0} {99} (0≤n {99}) -- could omit the implicit arguments\n",
    "\n",
    "_ : 4 ≤ 1000\n",
    "_ = s≤s (s≤s (s≤s (s≤s 0≤n)))"
   ]
  },
  {
   "cell_type": "markdown",
   "metadata": {},
   "source": [
    "## Properties of relations\n",
    "We formalise and prove that `_≤_` satisfies some common relational properties.\n",
    "\n",
    "### Reflexivity\n",
    "We begin by giving an example proof that `_≤_` is *reflexive*, in the sense that\n",
    "```agda\n",
    "≤-refl : {n : ℕ} → n ≤ n\n",
    "```\n",
    "(We leave the parameter implicit because 1) Agda can infer it most of the times,\n",
    "and 2) it will make the following code more readable.)\n",
    "The proof that `_≤_` is reflexive is by induction:\n",
    "```agda\n",
    "≤-refl {0}     = 0≤n\n",
    "≤-refl {suc n} = s≤s (≤-refl {n})\n",
    "```\n",
    "In the base case, we just use the fact that `0≤n {0} : 0 ≤ 0`.\n",
    "In the inductive case, the inductive hypothesis `≤-refl {n} : n ≤ n` is a proof that `n ≤ n` holds,\n",
    "and thus `s≤s (≤-refl {n}) : suc n ≤ suc n`, as required.\n",
    "\n",
    "### Transitivity\n",
    "\n",
    "We show that `_≤_` is *transitive*, in the sense that\n",
    "```agda\n",
    "≤-trans : {m n p : ℕ} → m ≤ n → n ≤ p → m ≤ p\n",
    "```\n",
    "While the previous proof was by induction on the natural number argument `{n : ℕ}`,\n",
    "for transitivity we do induction on the *evidence* that `m ≤ n` holds.\n",
    "```agda\n",
    "≤-trans 0≤n _               = 0≤n\n",
    "≤-trans (s≤s m≤n) (s≤s n≤p) = s≤s (≤-trans m≤n n≤p)\n",
    "```\n",
    "In the base case, the first (non-implicit) argument is `0≤n : 0 ≤ n`, from which we can deduce `m ≡ 0`,\n",
    "and consequently `0≤n : 0 ≤ p` is the term we are after; notice that the two occurrences of `0≤n` have different types (implicit parameters hide this information).\n",
    "In the inductive case, the first argument is `s≤s m≤n : suc m ≤ suc n`\n",
    "and the second argument is `s≤s n≤p : suc n ≤ suc p`,\n",
    "where `m≤n : m ≤ n` and `n≤p : n ≤ p`.\n",
    "By inductive assumption, `≤-trans m≤n n≤p : m ≤ p`,\n",
    "and thus `s≤s (≤-trans m≤n n≤p) : suc m ≤ suc p`, as required.\n",
    "Notice that the case\n",
    "```agda\n",
    "≤-trans (s≤s m≤n) 0≤n\n",
    "```\n",
    "cannot arise: The shape of the first argument `s≤s m≤n` implies that `n` is of the form `suc _`,\n",
    "and thus it cannot be `0`, as implied by the second argument.\n",
    "Agda detects that this case cannot occurr\n",
    "and does not complain that the corresponding definition is missing."
   ]
  },
  {
   "cell_type": "code",
   "execution_count": 16,
   "metadata": {},
   "outputs": [
    {
     "name": "stdout",
     "output_type": "stream",
     "text": [
      "OK"
     ]
    }
   ],
   "source": [
    "module code.nat.leq.trans where\n",
    "open import code.nat.leq public\n",
    "\n",
    "≤-refl : {n : ℕ} → n ≤ n\n",
    "≤-refl {0} = 0≤n\n",
    "≤-refl {suc n} = s≤s (≤-refl {n}) -- we could omit {n}, left for clarity here\n",
    "\n",
    "≤-trans : {m n p : ℕ} → m ≤ n → n ≤ p → m ≤ p\n",
    "≤-trans 0≤n _               = 0≤n\n",
    "≤-trans (s≤s m≤n) (s≤s n≤p) = s≤s (≤-trans m≤n n≤p)"
   ]
  },
  {
   "cell_type": "markdown",
   "metadata": {},
   "source": [
    "**Exercise.** We show that addition by a natural number is an nondecreasing function:\n",
    "```agda\n",
    "≤+ : {m n : ℕ} → m ≤ m + n\n",
    "```\n",
    "*Hint:* Do induction on the inductive argument of `_+_`."
   ]
  },
  {
   "cell_type": "code",
   "execution_count": 17,
   "metadata": {},
   "outputs": [
    {
     "name": "stdout",
     "output_type": "stream",
     "text": [
      "?0 : m ≤ m + n\n"
     ]
    }
   ],
   "source": [
    "module code.nat.leq.plus where\n",
    "open import code.nat.leq\n",
    "\n",
    "≤+ : {m n : ℕ} → m ≤ m + n\n",
    "≤+ {m} {n} = ?"
   ]
  },
  {
   "cell_type": "code",
   "execution_count": 18,
   "metadata": {},
   "outputs": [
    {
     "name": "stdout",
     "output_type": "stream",
     "text": [
      "OK"
     ]
    }
   ],
   "source": [
    "module code.nat.leq.plus where\n",
    "open import code.nat.leq public\n",
    "\n",
    "≤+ : {m n : ℕ} → m ≤ m + n\n",
    "≤+ {zero} {_} = 0≤n\n",
    "≤+ {suc m} {n} = s≤s (≤+ {m} {n})"
   ]
  },
  {
   "cell_type": "markdown",
   "metadata": {},
   "source": [
    "### Antisymmetry\n",
    "\n",
    "We show that `_≤_` is *antisymmetric*, in the sense that\n",
    "```agda\n",
    "≤-asym : {m n : ℕ} → m ≤ n → n ≤ m → m ≡ n\n",
    "```\n",
    "\n",
    "**Exercise**. Prove that `_≤_` is *anti-symmetric*.\n",
    "\n",
    "*Hint:* Do induction on `_≤_`.\n",
    "As in transitivity, in the inductive step not all cases can arise (two out of four)."
   ]
  },
  {
   "cell_type": "code",
   "execution_count": 19,
   "metadata": {},
   "outputs": [
    {
     "name": "stdout",
     "output_type": "stream",
     "text": [
      "?0 : m ≤ n → n ≤ m → m ≡ n\n"
     ]
    }
   ],
   "source": [
    "module code.nat.leq.asym where\n",
    "open import code.nat.leq\n",
    "\n",
    "≤-asym : {m n : ℕ} → m ≤ n → n ≤ m → m ≡ n\n",
    "≤-asym = ?"
   ]
  },
  {
   "cell_type": "markdown",
   "metadata": {},
   "source": [
    "# Mutually inductive definitions\n",
    "\n",
    "**Exercise.** Define the unary relations (predicates) on the natural numbers `Even n` and `Odd n`\n",
    "by a mutual inductive definition.\n",
    "This is possible by separating the *declaration* of `Even` and `Odd` from their *definition*, as shown below."
   ]
  },
  {
   "cell_type": "code",
   "execution_count": 21,
   "metadata": {},
   "outputs": [
    {
     "name": "stdout",
     "output_type": "stream",
     "text": [
      "?0 : Set\n",
      "?1 : Set\n",
      "?2 : Set\n",
      "_5 : ℕ  [ at /Users/lorenzo/Dropbox/Workspace/teaching/Teaching/2018-2019/summer semester/LDI (logika dla informatyków)/lab/agda/code/nat/even-odd.agda:8,5-13 ]\n",
      "_8 : ℕ  [ at /Users/lorenzo/Dropbox/Workspace/teaching/Teaching/2018-2019/summer semester/LDI (logika dla informatyków)/lab/agda/code/nat/even-odd.agda:9,5-12 ]\n",
      "_12 : ℕ  [ at /Users/lorenzo/Dropbox/Workspace/teaching/Teaching/2018-2019/summer semester/LDI (logika dla informatyków)/lab/agda/code/nat/even-odd.agda:12,5-12 ]\n"
     ]
    }
   ],
   "source": [
    "module code.nat.even-odd where\n",
    "open import code.nat public\n",
    "\n",
    "data Even : ℕ → Set\n",
    "data Odd : ℕ → Set\n",
    "\n",
    "data Even where\n",
    "    zero : ?\n",
    "    suc : ?\n",
    "    \n",
    "data Odd where\n",
    "    suc : ?\n",
    "    \n",
    "-- note that we are overloading the constructor zero (twice, since also zero : ℕ) and suc (thrice!);\n",
    "-- this is allowed since the typing context always disambiguates the constructor"
   ]
  },
  {
   "cell_type": "markdown",
   "metadata": {},
   "source": [
    "# External verification\n",
    "\n",
    "**Exercise.** Show that\n",
    "- the sum of two even numbers is an even number,\n",
    "- the sum of an odd and an even number is an odd number (2 cases), and\n",
    "- the sum of two odd numbers is an even number.\n",
    "\n",
    "*Hint:* It's convenient to define four mutually recursive functions.\n",
    "\n",
    "This is an example of *external verification*, whereby we are proving a property of the sum function `_+_` separately (externally) from its definition.\n",
    "We will see later on an example of *internal verification*,\n",
    "whereby the property is hard-wired inside the function."
   ]
  },
  {
   "cell_type": "raw",
   "metadata": {
    "raw_mimetype": "text/latex"
   },
   "source": [
    "E = m c^2"
   ]
  },
  {
   "cell_type": "markdown",
   "metadata": {},
   "source": [
    "# Intuitionistic first-order  logic\n",
    "\n",
    "We show how dependent types can be used to implement universal quantification (dependent function space)\n",
    "and existential quantification (dependent product),\n",
    "thus concluding our overview of intuitionistic logic.\n",
    "\n",
    "## The universal quantifier\n",
    "In intuitionistic logic a proof of $\\forall (a : A) B$ is a function $f$ mapping a proof $a$ of $A$\n",
    "into a proof $f\\; a$ of $B\\; a$, where we can see $B$ as a family of types indexed by proofs of $A$.\n",
    "The universal quantifier is implemented via the *dependent function space*\n",
    "```agda\n",
    "Π : (A : Set) → (B : A → Set) → Set\n",
    "Π A B = (a : A) → B a\n",
    "```\n",
    "This generalises implication `A → B`, which corresponds to non-dependent function space.\n",
    "In this sense, in intuitionistic logic implication is a special case of universal quantification.\n",
    "\n",
    "Universal quantification also generalises conjunction,\n",
    "since the type $B_1 \\wedge B_2$ is isomorphic to $\\Pi\\; A\\; B$\n",
    "where $A = \\{1, 2\\}$ and $B = \\{ 1 \\mapsto B_1, 2 \\mapsto B_2 \\}$.\n",
    "For this reason, sometimes `Π` is called dependent product (hence the notation)."
   ]
  },
  {
   "cell_type": "code",
   "execution_count": 25,
   "metadata": {},
   "outputs": [
    {
     "name": "stdout",
     "output_type": "stream",
     "text": [
      "OK"
     ]
    }
   ],
   "source": [
    "module code.universal where\n",
    "\n",
    "Π : (A : Set) → (B : A → Set) → Set\n",
    "Π A B = (a : A) → B a\n",
    "\n",
    "-- compare with implication:\n",
    "-- ((a : A) → B a) versus A → B\n",
    "\n",
    "-- the type of the first argument of Π can be inferred from the second\n",
    "forAll : {A : Set} → (B : A → Set) → Set\n",
    "forAll {A} B = Π A B\n",
    "\n",
    "-- we introduce a convenient syntax reminiscent of universal quantification in logic\n",
    "∀-syntax = forAll\n",
    "infix 0 ∀-syntax\n",
    "syntax ∀-syntax (λ x → B) = ∀[ x ] B\n",
    "\n",
    "-- dependent apply; corresponds to ∀-elimination\n",
    "apply : {A : Set} → {B : A → Set} → Π A B → (a : A) → B a\n",
    "apply f x = f x"
   ]
  },
  {
   "cell_type": "markdown",
   "metadata": {},
   "source": [
    "We show an application of universal quantification\n",
    "and prove that every natural number is either even or odd:\n",
    "```agda\n",
    "even∨odd : ∀[ n ] Even n ∨ Odd n\n",
    "```\n",
    "\n",
    "We now explain how the syntax above works.\n",
    "The latter expands to \n",
    "```agda\n",
    "even∨odd : forAll (λ n → Even n ∨ Odd n)\n",
    "```\n",
    "which in turn is the same as `Π A B`\n",
    "with `A = ℕ` and `B = λ n → Even n ∨ Odd n`\n",
    "(we can avoid typing `n` because its occurrence in `Even n` implies `n : ℕ`), i.e.,\n",
    "```agda\n",
    "even∨odd : Π ℕ (λ n → Even n ∨ Odd n)\n",
    "```\n",
    "By unrolling the definition of `Π A B = (a : A) → B a`,\n",
    "we finally get\n",
    "```agda\n",
    "even∨odd : (n : ℕ) → Even n ∨ Odd n\n",
    "```\n",
    "This shows precisely how the universal quantifier is implemented by having `B a` to depend on `(a : A)`.\n",
    "Thus, while `∀[ n ] Even n ∨ Odd n` is just syntactic sugaring for the more familiar `(n : ℕ) → Even n ∨ Odd n`,\n",
    "we will use the former when we want to emphasise its logical content,\n",
    "and the latter when we want to emphasise its computational content.\n",
    "As a courtesy of the Curry-Howard isomorphism, they correspond to each other.\n",
    "\n",
    "We now proceed to prove `even∨odd`,\n",
    "which is another instance of external verification.\n",
    "The proof is by induction on `n`.\n",
    "In the base case `n = 0` and we can use the base constructor `zero : Even zero`\n",
    "(notice how `zero` is overloaded):\n",
    "```agda\n",
    "even∨odd zero = left zero\n",
    "```\n",
    "In the inductive case, we proceed as follows:\n",
    "```agda\n",
    "even∨odd (suc n) with even∨odd n\n",
    "... | left even = right (suc even)\n",
    "... | right odd = left (suc odd)\n",
    "```\n",
    "\n",
    "### The `with` pattern matching construct\n",
    "\n",
    "In order to decide whether `suc n` is even or odd,\n",
    "we recursively call `even∨odd n` and inspect its result:\n",
    "if it pattern matches with `left even` (where `even : Even n`)\n",
    "then we return `right (suc even)` (where `suc even : Odd (suc n)`, again `suc` is overloaded),\n",
    "and symmetrically in the other case.\n",
    "This is the first time that we see the `with` construct,\n",
    "which allows us to extend the set of arguments that we can pattern match on."
   ]
  },
  {
   "cell_type": "code",
   "execution_count": 26,
   "metadata": {},
   "outputs": [
    {
     "name": "stdout",
     "output_type": "stream",
     "text": [
      "OK"
     ]
    }
   ],
   "source": [
    "module code.nat.even-odd-total where\n",
    "open import code.universal\n",
    "open import code.nat.even-odd\n",
    "open import code.or\n",
    "\n",
    "-- with syntax sugaring\n",
    "even∨odd : ∀[ n ] Even n ∨ Odd n -- the same as: Π ℕ (λ n → Even n ∨ Odd n)\n",
    "even∨odd zero = left zero\n",
    "even∨odd (suc n) with even∨odd n\n",
    "... | left even = right (suc even)\n",
    "... | right odd = left (suc odd)"
   ]
  },
  {
   "cell_type": "markdown",
   "metadata": {},
   "source": [
    "**Exercise.** Show that the order `_≤_` is total, in the sense that\n",
    "```agda\n",
    "≤-total : ∀[ m ] ∀[ n ] m ≤ n ∨ n ≤ m\n",
    "```\n",
    "*Hint:* Induction on `m`."
   ]
  },
  {
   "cell_type": "code",
   "execution_count": 27,
   "metadata": {},
   "outputs": [
    {
     "name": "stdout",
     "output_type": "stream",
     "text": [
      "?0 : ∀-syntax (λ m → ∀-syntax (λ n → m ≤ n ∨ n ≤ m))\n"
     ]
    }
   ],
   "source": [
    "module code.universal.example where\n",
    "open import code.nat.leq\n",
    "open import code.universal\n",
    "open import code.or public\n",
    "\n",
    "≤-total : ∀[ m ] ∀[ n ] m ≤ n ∨ n ≤ m\n",
    "≤-total = ?"
   ]
  },
  {
   "cell_type": "code",
   "execution_count": 28,
   "metadata": {},
   "outputs": [
    {
     "name": "stdout",
     "output_type": "stream",
     "text": [
      "OK"
     ]
    }
   ],
   "source": [
    "module code.universal.example where\n",
    "open import code.nat.leq\n",
    "open import code.universal\n",
    "open import code.or public\n",
    "\n",
    "≤-total : ∀[ m ] ∀[ n ] m ≤ n ∨ n ≤ m\n",
    "≤-total zero _ = left 0≤n\n",
    "≤-total _ zero = right 0≤n\n",
    "≤-total (suc m) (suc n) with ≤-total m n\n",
    "... | left m≤n = left (s≤s m≤n)\n",
    "... | right n≤m = right (s≤s n≤m)"
   ]
  },
  {
   "cell_type": "markdown",
   "metadata": {},
   "source": [
    "### The universal quantifier, ∧, and ∨\n",
    "\n",
    "**Exercise.**\n",
    "Which of the following are intuitionistic tautologies?\n",
    "Which are classic tautologies?\n",
    "Which are none?\n",
    "Prove the intuitionistic ones.\n",
    "\n",
    "1. $\\forall a B \\wedge C \\to (\\forall a B) \\wedge (\\forall a C)$.\n",
    "2. $(\\forall a B) \\wedge (\\forall a C) \\to \\forall a B \\wedge C$.\n",
    "3. $\\forall a B \\vee C \\to (\\forall a B) \\vee (\\forall a C)$.\n",
    "4. $ \\forall a B \\vee C \\to (\\forall a B) \\vee C$, where $a$ does not occurr in $C$.\n",
    "5. $(\\forall a B) \\vee (\\forall a C) \\to \\forall a (B \\vee C)$.\n",
    "\n",
    "*Hint:* If you cannot easily program a solution, then most likely there is no solution."
   ]
  },
  {
   "cell_type": "markdown",
   "metadata": {},
   "source": [
    "## The existential quantifier\n",
    "\n",
    "In intuitionistic logic,\n",
    "a proof of $\\exists (a : A) B$ is a pair $(a, b)$,\n",
    "where $a$ is a proof of $A$\n",
    "and $b$ is a proof of $B\\; a$.\n",
    "Like in universal quantification, we can see $B$ as a family of types indexed by proofs of $A$.\n",
    "The existential quantifier is implemented with the *dependent product*:\n",
    "```agda\n",
    "data Σ (A : Set) (B : A → Set) : Set where\n",
    "    ⟨_,_⟩ : (a : A) → B a → Σ A B\n",
    "```\n",
    "Compare this with conjunction, which corresponds to non-dependent product $A \\wedge B$:\n",
    "```agda\n",
    "data _∧_ (A : Set) (B : Set) : Set where\n",
    "  ⟨_,_⟩ : A → B → A ∧ B\n",
    "```\n",
    "In this sense, in intuitionistic logic existential quantification `Σ` generalises conjunction,\n",
    "which justifies the name dependent product.\n",
    "(This can create confusion because `Π` is sometimes called dependent product too,\n",
    "since also `Π` generalises conjunction.)\n",
    "\n",
    "Existential quantification also generalises disjunction,\n",
    "since the type $B_1 \\vee B_2$ is isomorphic to $\\Sigma\\; A\\; B$\n",
    "with $A = \\{1, 2\\}$ and $B = \\{ 1 \\mapsto B_1, 2 \\mapsto B_2 \\}$.\n",
    "For this reason, `Σ` is sometimes called dependent sum."
   ]
  },
  {
   "cell_type": "code",
   "execution_count": 31,
   "metadata": {},
   "outputs": [
    {
     "name": "stdout",
     "output_type": "stream",
     "text": [
      "OK"
     ]
    }
   ],
   "source": [
    "module code.existential where\n",
    "open import code.universal\n",
    "\n",
    "-- the only exists-introduction rule\n",
    "data Σ (A : Set) (B : A → Set) : Set where\n",
    "    ⟨_,_⟩ : (a : A) → B a → Σ A B\n",
    "\n",
    "-- compare with conjunction:\n",
    "-- ⟨_,_⟩ : (a : A) → B a → Σ A B versus\n",
    "-- ⟨_,_⟩ : A → B → A ∧ B\n",
    "\n",
    "thereExists : ∀ {A : Set} (B : A → Set) → Set\n",
    "thereExists {A} B = Σ A B\n",
    "\n",
    "∃-syntax = thereExists\n",
    "infix 0 ∃-syntax\n",
    "syntax ∃-syntax (λ x → B) = ∃[ x ] B\n",
    "\n",
    "-- aka uncurry\n",
    "∃-elim : {A : Set} {B : A → Set} {C : Set} → ((a : A) → B a → C) → Σ A B → C\n",
    "∃-elim a→b→c ⟨ a , b ⟩ = a→b→c a b"
   ]
  },
  {
   "cell_type": "code",
   "execution_count": 32,
   "metadata": {
    "tags": [
     "ignore"
    ]
   },
   "outputs": [
    {
     "name": "stdout",
     "output_type": "stream",
     "text": [
      "Error: the first line of the cell should be in the format \"module [modulename] where\""
     ]
    }
   ],
   "source": [
    "{-\n",
    "\n",
    "{-\n",
    "\n",
    "-- dfst : {A : Set} {B : A → Set} → Σ A B → A\n",
    "-- dfst ⟨ a , _ ⟩ = a\n",
    "\n",
    "-- can't type the second projection!\n",
    "-- dsnd : {A : Set} {B : A → Set} → Σ A B → (a : A) -> B a\n",
    "-- dsnd ⟨ _ , b ⟩ _ = b\n",
    "\n",
    "-- solution: records\n",
    "record Σ (A : Set) (B : A → Set) : Set where\n",
    "    constructor ⟨_,_⟩\n",
    "    field\n",
    "      dfst : A\n",
    "      dsnd : B dfst\n",
    "\n",
    "uncurry : {A B C : Set} → (A → B → C) → A ∧ B → C\n",
    "uncurry f ⟨ a , b ⟩ = f a b\n",
    "  \n",
    "-- the corresponding elimination rule is dependent uncurrying,\n",
    "-- that is, uncurrying generalised to dependent product (and function space)\n",
    "\n",
    "-}\n",
    "\n",
    "-}"
   ]
  },
  {
   "cell_type": "markdown",
   "metadata": {},
   "source": [
    "### An example\n",
    "\n",
    "As an application of existential quantification,\n",
    "we show that `m ≤ n` implies that there is some `p` s.t. `m + p ≡ n`:\n",
    "```agda\n",
    "q : ∀[ m ] ∀[ n ] (m ≤ n → ∃[ p ] m + p ≡ n)\n",
    "```\n",
    "\n",
    "The proof is by induction on `m` (which is also simultaneously an induction on `m ≤ n`).\n",
    "In the base case, `m ≡ 0` and we can just take as witness for `p` the value `n`:\n",
    "\n",
    "```agda\n",
    "q zero n _ = ⟨ n , refl ⟩\n",
    "```\n",
    "\n",
    "In the inductive case, we have\n",
    "\n",
    "```agda\n",
    "q (suc m) (suc n) (s≤s m≤n) with q m n m≤n\n",
    "... | ⟨ p , m+p≡n ⟩ = ⟨ p , cong suc m+p≡n ⟩\n",
    "```\n",
    "\n",
    "We recursively call `q m n m≤n` to collect a witness `⟨ p , m+p≡n ⟩ : ∃[ p ] m + p ≡ n`,\n",
    "where `p : ℕ` and `m+p≡n : m + p ≡ n`.\n",
    "Then, `⟨ p , cong suc m+p≡n ⟩ : ∃[ p ] suc m + p ≡ suc n`\n",
    "because `suc m + p` normalises to `suc (m + p)`.\n",
    "\n",
    "We do not have to worry about the other case `q (suc m) zero (s≤s m≤n)`\n",
    "because Agda correctly detects that it cannot possibly occurr as witnessed by `s≤s m≤n`.\n",
    "\n",
    "This is another yet example of external verification."
   ]
  },
  {
   "cell_type": "code",
   "execution_count": 33,
   "metadata": {},
   "outputs": [
    {
     "name": "stdout",
     "output_type": "stream",
     "text": [
      "OK"
     ]
    }
   ],
   "source": [
    "module code.nat.leq-exists where\n",
    "open import code.universal\n",
    "open import code.existential\n",
    "open import code.eq\n",
    "open import code.nat.leq\n",
    "\n",
    "q : ∀[ m ] ∀[ n ] (m ≤ n → ∃[ p ] m + p ≡ n)\n",
    "q zero n _ = ⟨ n , refl ⟩\n",
    "q (suc m) (suc n) (s≤s m≤n) with q m n m≤n\n",
    "... | ⟨ p , m+p≡n ⟩ = ⟨ p , cong suc m+p≡n ⟩"
   ]
  },
  {
   "cell_type": "markdown",
   "metadata": {},
   "source": [
    "**Exercise.** Show the other direction, namely,\n",
    "```agda\n",
    "r : ∀[ m ] ∀[ n ] (∃[ p ] m + p ≡ n → m ≤ n)\n",
    "```\n",
    "Proceed by induction on `m`.\n",
    "In the inductive case, use the fact that `suc` is injective (`suc-injective`) to derive `m + p ≡ n`,\n",
    "which can be used to call `r` recursively."
   ]
  },
  {
   "cell_type": "code",
   "execution_count": 34,
   "metadata": {},
   "outputs": [
    {
     "name": "stdout",
     "output_type": "stream",
     "text": [
      "?0 : zero ≤ a\n",
      "?1 : m + p ≡ n\n",
      "?2 : m ≤ n\n",
      "?3 : suc m ≤ suc n\n"
     ]
    }
   ],
   "source": [
    "module code.nat.leq-exists2 where\n",
    "open import code.universal\n",
    "open import code.existential\n",
    "open import code.eq\n",
    "open import code.nat.leq\n",
    "\n",
    "suc-injective : ∀[ m ] ∀[ n ] (suc m ≡ suc n → m ≡ n)\n",
    "suc-injective m n refl = refl\n",
    "\n",
    "r : ∀[ m ] ∀[ n ] (∃[ p ] m + p ≡ n → m ≤ n)\n",
    "r zero _ _ = ?\n",
    "r (suc m) (suc n) ⟨ p , sucm+p≡sucn ⟩ = ?\n",
    "    where\n",
    "        m+p≡n : m + p ≡ n\n",
    "        m+p≡n = ?\n",
    "        m≤n : m ≤ n\n",
    "        m≤n = ?"
   ]
  },
  {
   "cell_type": "code",
   "execution_count": 35,
   "metadata": {},
   "outputs": [
    {
     "name": "stdout",
     "output_type": "stream",
     "text": [
      "OK"
     ]
    }
   ],
   "source": [
    "module code.nat.leq-exists2 where\n",
    "open import code.universal\n",
    "open import code.existential\n",
    "open import code.eq\n",
    "open import code.nat.leq\n",
    "\n",
    "suc-injective : ∀[ m ] ∀[ n ] (suc m ≡ suc n → m ≡ n)\n",
    "suc-injective m n refl = refl\n",
    "\n",
    "r : ∀[ m ] ∀[ n ] (∃[ p ] m + p ≡ n → m ≤ n)\n",
    "r zero _ _ = 0≤n\n",
    "r (suc m) (suc n) ⟨ p , sucm+p≡sucn ⟩ = s≤s m≤n\n",
    "    where\n",
    "        m+p≡n : m + p ≡ n\n",
    "        m+p≡n = suc-injective (m + p) n sucm+p≡sucn\n",
    "        m≤n : m ≤ n\n",
    "        m≤n = r m n ⟨ p , m+p≡n ⟩"
   ]
  },
  {
   "cell_type": "markdown",
   "metadata": {},
   "source": [
    "### The existential quantifier, ∧, and ∨\n",
    "\n",
    "**Exercise.**\n",
    "Establish whether the following are intuitionistic tautologies\n",
    "and prove it in Agda for the positive cases:\n",
    "\n",
    "1. $\\exists a B \\vee C \\to (\\exists a B) \\vee (\\exists a C)$.\n",
    "2. $(\\exists a B) \\vee (\\exists a C) \\to \\exists a B \\vee C$.\n",
    "3. $\\exists a B \\wedge C \\to (\\exists a B) \\wedge (\\exists a C)$.\n",
    "4. $(\\exists a B) \\wedge (\\exists a C) \\to \\exists a B \\wedge C$.\n",
    "5. $(\\exists a B) \\wedge C \\to \\exists a B \\wedge C$, where $a$ does not occurr in $C$."
   ]
  },
  {
   "cell_type": "markdown",
   "metadata": {},
   "source": [
    "### Universal quantification, existential quantification, and negation\n",
    "\n",
    "**Exercise.** Which of the following hold in intuitionistic logic? Prove it.\n",
    "\n",
    "1. $\\exists a \\forall b C \\to \\forall b \\exists a C$, where $C$ depends on $a$ and $b$.\n",
    "2. $\\exists a \\neg B \\to \\neg \\forall a B$, where $B$ depends on $a$.\n",
    "3. $\\neg \\forall a B \\to \\exists a \\neg B$, where $B$ depends on $a$.\n"
   ]
  },
  {
   "cell_type": "markdown",
   "metadata": {},
   "source": []
  },
  {
   "cell_type": "markdown",
   "metadata": {},
   "source": [
    "# Challenges\n",
    "\n",
    "In this last part we propose some more advanced exercises.\n",
    "No additional tools are required, but the solutions are more elaborated.\n",
    "\n",
    "**Exercise**. In this exercise we prove properties relating addition and multiplication.\n",
    "1. Prove that right multiplication distributes over addition,\n",
    "in the sense that\n",
    "```agda\n",
    "+*-distr : (a b c : ℕ) → (a + b) * c ≡ a * c + b * c\n",
    "```\n",
    "2. Prove that multiplication is associative. *Hint: use* `+*-distr`.\n",
    "3. Prove that multiplication is commutative.\n",
    "It might be convenient to preliminarily prove the first two properties:\n",
    "```agda\n",
    "*-zero : (a : ℕ) → a * 0 ≡ 0\n",
    "*-suc : (a b : ℕ) → a * suc b ≡ a + a * b\n",
    "*-comm : (a b : ℕ) → a * b ≡ b * a\n",
    "```\n",
    "4. Prove that left multiplication distributes over addition, in the sense that\n",
    "```agda\n",
    "*+-distr : (a b c : ℕ) → a * (b + c) ≡ a * b + a * c\n",
    "```\n",
    "*Hint: use the previous points*.\n",
    "5. Using the results above, prove the following\n",
    "```agda\n",
    "*+-full : (a b c d : ℕ) → (a + b) * (c + d) ≡ a * c + a * d + b * c + b * d\n",
    "```\n",
    "*Advice*: If an induction is required, it's convenient to proceed on the first argument `a : ℕ`."
   ]
  },
  {
   "cell_type": "code",
   "execution_count": 40,
   "metadata": {},
   "outputs": [
    {
     "name": "stdout",
     "output_type": "stream",
     "text": [
      "?0 : (a b c : ℕ) → (a + b) * c ≡ a * c + b * c\n",
      "?1 : (a b c : ℕ) → a * b * c ≡ a * (b * c)\n",
      "?2 : (a : ℕ) → a * 0 ≡ 0\n",
      "?3 : (a b : ℕ) → a * suc b ≡ a + a * b\n",
      "?4 : (a b : ℕ) → a * b ≡ b * a\n",
      "?5 : (a b c : ℕ) → a * (b + c) ≡ a * b + a * c\n"
     ]
    }
   ],
   "source": [
    "module code.nat.prop where\n",
    "\n",
    "open import code.eq\n",
    "open import code.nat\n",
    "open import code.nat.assoc\n",
    "open import code.nat.comm\n",
    "\n",
    "-- 1.\n",
    "+*-distr : (a b c : ℕ) → (a + b) * c ≡ a * c + b * c\n",
    "+*-distr = ?\n",
    "\n",
    "-- 2.\n",
    "*-assoc : (a b c : ℕ) → a * b * c ≡ a * (b * c)\n",
    "*-assoc = ?\n",
    "\n",
    "-- 3.\n",
    "*-zero : (a : ℕ) → a * 0 ≡ 0\n",
    "*-zero = ?\n",
    "\n",
    "*-suc : (a b : ℕ) → a * suc b ≡ a + a * b\n",
    "*-suc = ?\n",
    "\n",
    "*-comm : (a b : ℕ) → a * b ≡ b * a\n",
    "*-comm = ?\n",
    "\n",
    "-- 4.\n",
    "*+-distr : (a b c : ℕ) → a * (b + c) ≡ a * b + a * c\n",
    "*+-distr = ?"
   ]
  },
  {
   "cell_type": "markdown",
   "metadata": {},
   "source": [
    "**Exercise.** Show that multiplication by a strictly positive number is an increasing function:\n",
    "\n",
    "```agda\n",
    "≤* : {m n : ℕ} → 1 ≤ n → m ≤ m * n\n",
    "```\n",
    "\n",
    "We proceed in three steps:\n",
    "\n",
    "1. Show that `_≤_` is preserved if we replace the r.h.s. modulo `_≡_`:\n",
    "```agda\n",
    "≤-≡-right : {m n p : ℕ} → n ≡ p → m ≤ n → m ≤ p\n",
    "```\n",
    "*Hint:* Use induction on the evidence that `m ≤ n` holds.\n",
    "\n",
    "2. Show\n",
    "```agda\n",
    "≤+2 : {m n : ℕ} → m ≤ n + m\n",
    "```\n",
    "This is very similar to `≤+ : {m n : ℕ} → m ≤ m + n` that we proved in module `code.nat.leq.plus`.\n",
    "*Hint:* Use `≤+`, `≤-≡-right`, and commutativity of addition `+-comm`.\n",
    "\n",
    "3. Finally, show `≤*`.\n",
    "*Hint:* Do induction on the inductive argument of `_*_`.\n",
    "In the inductive case, apply `≤+2` and transitivity `≤-trans`."
   ]
  },
  {
   "cell_type": "code",
   "execution_count": 42,
   "metadata": {},
   "outputs": [
    {
     "name": "stdout",
     "output_type": "stream",
     "text": [
      "?0 : m ≤ n\n",
      "?1 : m ≤ n + m\n",
      "?2 : m ≤ m * n\n"
     ]
    }
   ],
   "source": [
    "module code.nat.leq.mul where\n",
    "open import code.nat.leq.plus\n",
    "open import code.nat.comm\n",
    "\n",
    "≤-≡-right : {m n p : ℕ} → n ≡ p → m ≤ n → m ≤ p\n",
    "≤-≡-right refl a≤b = ?\n",
    "\n",
    "≤+2 : {m n : ℕ} → m ≤ n + m\n",
    "≤+2 {m} {n} = ?\n",
    "\n",
    "≤* : {m n : ℕ} → 1 ≤ n → m ≤ m * n\n",
    "≤* {m} {n} 1≤n = ?"
   ]
  },
  {
   "cell_type": "code",
   "execution_count": 43,
   "metadata": {
    "scrolled": true
   },
   "outputs": [
    {
     "name": "stdout",
     "output_type": "stream",
     "text": [
      "OK"
     ]
    }
   ],
   "source": [
    "module code.nat.leq.mul where\n",
    "open import code.nat.leq.trans\n",
    "open import code.nat.comm\n",
    "open import code.nat.leq.plus\n",
    "\n",
    "≤-≡-right : {a b c : ℕ} → b ≡ c → a ≤ b → a ≤ c\n",
    "≤-≡-right refl 0≤n = 0≤n\n",
    "≤-≡-right refl (s≤s p) = s≤s p\n",
    "\n",
    "≤+2 : {m n : ℕ} → m ≤ n + m\n",
    "≤+2 {m} {n} = ≤-≡-right (+-comm m n) (≤+ {m} {n})\n",
    "\n",
    "≤* : {m n : ℕ} → 1 ≤ n → m ≤ m * n\n",
    "≤* {zero} {_} _ = 0≤n\n",
    "≤* {suc m} {suc n} 1≤n = s≤s (≤-trans (≤* {m} {suc n} 1≤n) (≤+2 {m * suc n} {n}))"
   ]
  },
  {
   "cell_type": "markdown",
   "metadata": {},
   "source": [
    "### Even numbers and divisibility\n",
    "\n",
    "We want to show that even numbers are divisible by two.\n",
    "In fact, it is easier to provide such a characterisation simultaneously for even and odd numbers:\n",
    "\n",
    "```agda\n",
    "p : ∀[ n ] (Even n → ∃[ m ] n ≡ m * 2)\n",
    "q : ∀[ n ] (Odd n → ∃[ m ] n ≡ 1 + m * 2)\n",
    "```\n",
    "\n",
    "The code for `p` goes as follows\n",
    "\n",
    "```agda\n",
    "p _ zero = ⟨ zero , refl ⟩\n",
    "p (suc n) (suc odd) with q n odd\n",
    "... | ⟨ m , refl ⟩ = ⟨ suc m , refl ⟩\n",
    "```\n",
    "In the inductive case, we call recursively `q n odd : ∃[ m ] n ≡ 1 + m * 2`\n",
    "and we pattern match `⟨ m , refl ⟩` against its result.\n",
    "Thus, `m : ℕ` and, more importantly, `refl : n ≡ 1 + m * 2`\n",
    "tells us that `n` is the same as the normal form for `1 + m * 2`,\n",
    "namely `suc (m * 2)`.\n",
    "Consequently, `suc n ≡ suc m * 2`,\n",
    "since `suc m * 2` goes in one step to `2 + m * 2`,\n",
    "which normalises (in two steps) to `suc (suc (m * 2))`.\n",
    "Therefore, we return `⟨ suc m , refl ⟩`.\n",
    "\n",
    "**Exercise.** Complete the code with the definition for `q`."
   ]
  },
  {
   "cell_type": "code",
   "execution_count": 44,
   "metadata": {},
   "outputs": [
    {
     "name": "stdout",
     "output_type": "stream",
     "text": [
      "?0 : ∀-syntax (λ n → Odd n → ∃-syntax (λ m → n ≡ 1 + m * 2))\n"
     ]
    }
   ],
   "source": [
    "module code.nat.even-odd-div2 where\n",
    "open import code.universal\n",
    "open import code.existential\n",
    "open import code.eq\n",
    "open import code.nat\n",
    "open import code.nat.even-odd\n",
    "\n",
    "p : ∀[ n ] (Even n → ∃[ m ] n ≡ m * 2)\n",
    "q : ∀[ n ] (Odd n → ∃[ m ] n ≡ 1 + m * 2)\n",
    "\n",
    "p _ zero = ⟨ zero , refl ⟩\n",
    "p (suc n) (suc odd) with q n odd\n",
    "... | ⟨ m , refl ⟩ = ⟨ suc m , refl ⟩\n",
    "\n",
    "q = ?"
   ]
  }
 ],
 "metadata": {
  "celltoolbar": "Tags",
  "kernelspec": {
   "display_name": "agda",
   "language": "agda",
   "name": "agda"
  },
  "language_info": {
   "file_extension": ".agda",
   "mimetype": "text/agda",
   "name": "agda"
  },
  "latex_envs": {
   "LaTeX_envs_menu_present": true,
   "autoclose": false,
   "autocomplete": true,
   "bibliofile": "biblio.bib",
   "cite_by": "apalike",
   "current_citInitial": 1,
   "eqLabelWithNumbers": true,
   "eqNumInitial": 1,
   "hotkeys": {
    "equation": "Ctrl-E",
    "itemize": "Ctrl-I"
   },
   "labels_anchors": false,
   "latex_user_defs": false,
   "report_style_numbering": false,
   "user_envs_cfg": false
  },
  "nbTranslate": {
   "displayLangs": [
    "*"
   ],
   "hotkey": "alt-t",
   "langInMainMenu": true,
   "sourceLang": "en",
   "targetLang": "fr",
   "useGoogleTranslate": true
  }
 },
 "nbformat": 4,
 "nbformat_minor": 2
}
