{
 "cells": [
  {
   "cell_type": "markdown",
   "metadata": {},
   "source": [
    "# Programming with dependent types in Agda\n",
    "\n",
    "- We need to be very generous with spaces. For example \"x:\" is a legal identifier in Agda."
   ]
  },
  {
   "cell_type": "markdown",
   "metadata": {},
   "source": [
    "## Simple types"
   ]
  },
  {
   "cell_type": "code",
   "execution_count": 21,
   "metadata": {},
   "outputs": [
    {
     "name": "stdout",
     "output_type": "stream",
     "text": [
      "Checking lab00-bool (/Users/lorenzo/Dropbox/Workspace/teaching/Teaching/2018-2019/summer semester/LDI (logika dla informatyków)/lab/agda/lab00-bool.agda).\n"
     ]
    }
   ],
   "source": [
    "-- lab00-bool.agda\n",
    "\n",
    "module lab00-bool where\n",
    "\n",
    "-- simple type\n",
    "-- the type Bool is inhabited precisely by two elements\n",
    "data Bool : Set where\n",
    "    true : Bool\n",
    "    false : Bool\n",
    "\n",
    "-- we can define a computable functions on booleans\n",
    "and : Bool → Bool → Bool\n",
    "and true true = true\n",
    "and _ _ = false\n",
    "\n",
    "or : Bool → Bool → Bool\n",
    "or true _ = true\n",
    "or _ true = true\n",
    "or false false = false\n",
    "\n",
    "not : Bool → Bool\n",
    "not true = false\n",
    "not false = true"
   ]
  },
  {
   "cell_type": "markdown",
   "metadata": {},
   "source": [
    "## Inductive types"
   ]
  },
  {
   "cell_type": "code",
   "execution_count": 129,
   "metadata": {},
   "outputs": [
    {
     "name": "stdout",
     "output_type": "stream",
     "text": [
      "Checking lab00-nat (/Users/lorenzo/Dropbox/Workspace/teaching/Teaching/2018-2019/summer semester/LDI (logika dla informatyków)/lab/agda/lab00-nat.agda).\n"
     ]
    }
   ],
   "source": [
    "-- lab00-nat.agda\n",
    "\n",
    "module lab00-nat where\n",
    "\n",
    "open import lab00-bool\n",
    "\n",
    "-- inductive type\n",
    "-- natural numbers\n",
    "data ℕ : Set where\n",
    "  zero : ℕ\n",
    "  suc  : ℕ → ℕ\n",
    "  \n",
    "-- non recursive function on an inductive type\n",
    "pred : ℕ → ℕ\n",
    "pred (suc n) = n\n",
    "pred _ = zero -- must be total!\n",
    "\n",
    "infixr 5 _+_\n",
    "\n",
    "-- recursive function on an inductive type\n",
    "_+_ : ℕ → ℕ → ℕ\n",
    "zero + m = m\n",
    "(suc n) + m = suc (n + m)\n",
    "\n",
    "-- natural numbers have a decidable equality\n",
    "natEq : ℕ → ℕ → Bool\n",
    "natEq zero    zero    = true\n",
    "natEq (suc n) (suc m) = natEq n m\n",
    "natEq _ _ = false\n",
    "\n",
    "-- we can use decimal numerals\n",
    "{-# BUILTIN NATURAL ℕ #-}\n",
    "n = zero + 2\n",
    "m = 3 + 5 + 1"
   ]
  },
  {
   "cell_type": "markdown",
   "metadata": {},
   "source": [
    "**Exercise.** Define multiplication on natural numbers `_*_ : ℕ → ℕ → ℕ`."
   ]
  },
  {
   "cell_type": "code",
   "execution_count": 31,
   "metadata": {
    "tags": [
     "solution"
    ]
   },
   "outputs": [
    {
     "name": "stdout",
     "output_type": "stream",
     "text": [
      "Checking lab00-nat-mul (/Users/lorenzo/Dropbox/Workspace/teaching/Teaching/2018-2019/summer semester/LDI (logika dla informatyków)/lab/agda/lab00-nat-mul.agda).\n"
     ]
    }
   ],
   "source": [
    "-- lab00-nat-mul.agda\n",
    "\n",
    "module lab00-nat-mul where\n",
    "\n",
    "open import lab00-nat\n",
    "\n",
    "infixr 6 _*_\n",
    "\n",
    "_*_ : ℕ → ℕ → ℕ\n",
    "zero * _  =  zero\n",
    "suc m * n  =  n + (m * n)"
   ]
  },
  {
   "cell_type": "markdown",
   "metadata": {},
   "source": [
    "**Exercise.** We can give a more efficient representation of natural numbers based on their binary expansion (using the least significant digit first convention).\n",
    "1. Define a function `inc : Bin → Bin` to increment a natural number in binary.\n",
    "2. Define two functions `to : ℕ → Bin` and `from : Bin → ℕ` to convert back and forth between the two representations.\n",
    "\n",
    "We will prove in a later tutorial that the two functions are inverses of each other."
   ]
  },
  {
   "cell_type": "code",
   "execution_count": 123,
   "metadata": {},
   "outputs": [
    {
     "name": "stdout",
     "output_type": "stream",
     "text": [
      "OK"
     ]
    }
   ],
   "source": [
    "-- lab00-nat-bin.agda\n",
    "\n",
    "module lab00-nat-bin where\n",
    "\n",
    "data Bin : Set where\n",
    "  nil : Bin\n",
    "  x0_ : Bin → Bin\n",
    "  x1_ : Bin → Bin\n",
    "  \n",
    "-- example numbers\n",
    "m = x0 x1 nil\n",
    "n = x1 x1 x0 x0 nil"
   ]
  },
  {
   "cell_type": "code",
   "execution_count": 131,
   "metadata": {
    "tags": [
     "solution"
    ]
   },
   "outputs": [
    {
     "name": "stdout",
     "output_type": "stream",
     "text": [
      "Checking lab00-nat-bin-sol (/Users/lorenzo/Dropbox/Workspace/teaching/Teaching/2018-2019/summer semester/LDI (logika dla informatyków)/lab/agda/lab00-nat-bin-sol.agda).\n"
     ]
    }
   ],
   "source": [
    "-- lab00-nat-bin-sol.agda\n",
    "\n",
    "module lab00-nat-bin-sol where\n",
    "\n",
    "open import lab00-nat\n",
    "open import lab00-nat-mul\n",
    "open import lab00-nat-bin\n",
    "\n",
    "inc : Bin → Bin\n",
    "inc nil = x1 nil\n",
    "inc (x0 b) = x1 b\n",
    "inc (x1 b) = x0 (inc b)\n",
    "\n",
    "to : ℕ → Bin\n",
    "to zero = x0 nil\n",
    "to (suc n) = inc (to n)\n",
    "\n",
    "from : Bin → ℕ\n",
    "from nil = zero\n",
    "from (x0 b) = 2 * from b\n",
    "from (x1 b) = 2 * from b + 1"
   ]
  },
  {
   "cell_type": "markdown",
   "metadata": {},
   "source": [
    "## Parametrised types (polymorphism)"
   ]
  },
  {
   "cell_type": "code",
   "execution_count": 10,
   "metadata": {},
   "outputs": [
    {
     "name": "stdout",
     "output_type": "stream",
     "text": [
      "Checking lab00-list (/Users/lorenzo/Dropbox/Workspace/teaching/Teaching/2018-2019/summer semester/LDI (logika dla informatyków)/lab/agda/lab00-list.agda).\n"
     ]
    }
   ],
   "source": [
    "-- lab00-list.agda\n",
    "\n",
    "module lab00-list where\n",
    "\n",
    "open import lab00-nat\n",
    "\n",
    "infixr 5 _::_\n",
    "infixr 5 _++_\n",
    "\n",
    "-- parametrised type\n",
    "ident : (A : Set) → A → A\n",
    "ident A x = x\n",
    "\n",
    "identNat : ℕ → ℕ\n",
    "identNat = ident ℕ \n",
    "\n",
    "-- in many cases we can avoid writing the parameter explicitly\n",
    "-- (Agda finds it automatically for us)\n",
    "id : {A : Set} → A → A\n",
    "id x = x\n",
    "\n",
    "idNat : ℕ → ℕ\n",
    "idNat = id\n",
    "\n",
    "const : {A B : Set} → A → B → A\n",
    "const x _ = x\n",
    "\n",
    "-- parametrised inductive type:\n",
    "-- the parameter does not change during the induction\n",
    "data _* (A : Set) : Set where\n",
    "  ε : A *\n",
    "  _::_ : A → A * → A *\n",
    "\n",
    "-- concatenation of lists\n",
    "_++_ : {A : Set} → A * → A * → A *\n",
    "ε ++ ys = ys\n",
    "(x :: xs) ++ ys = x :: (xs ++ ys)\n",
    "\n",
    "map : {A B : Set} → (A → B) → A * → B *\n",
    "map _ ε = ε\n",
    "map f (a :: as) = f a :: map f as\n",
    "\n",
    "foldr : {A B : Set} → (A → B → B) → B → A * → B\n",
    "foldr _⊗_ e ε         = e\n",
    "foldr _⊗_ e (x :: xs) = x ⊗ foldr _⊗_ e xs"
   ]
  },
  {
   "cell_type": "markdown",
   "metadata": {},
   "source": [
    "**Exercise.** Define the function `length` mapping a list to its length, using only `map` and `foldr`."
   ]
  },
  {
   "cell_type": "code",
   "execution_count": 12,
   "metadata": {
    "tags": [
     "solution"
    ]
   },
   "outputs": [
    {
     "name": "stdout",
     "output_type": "stream",
     "text": [
      "Checking lab00-length (/Users/lorenzo/Dropbox/Workspace/teaching/Teaching/2018-2019/summer semester/LDI (logika dla informatyków)/lab/agda/lab00-length.agda).\n"
     ]
    }
   ],
   "source": [
    "-- lab00-length.agda\n",
    "\n",
    "module lab00-length where\n",
    "\n",
    "open import lab00-nat\n",
    "open import lab00-list\n",
    "\n",
    "length : {A : Set} → A * → ℕ\n",
    "length xs = foldr _+_ zero (map (const 1) xs)"
   ]
  },
  {
   "cell_type": "markdown",
   "metadata": {},
   "source": [
    "# Indexed types (type families)\n",
    "Indexed types are type families indexed by terms of another type."
   ]
  },
  {
   "cell_type": "code",
   "execution_count": 39,
   "metadata": {},
   "outputs": [
    {
     "name": "stdout",
     "output_type": "stream",
     "text": [
      "Checking lab00-even (/Users/lorenzo/Dropbox/Workspace/teaching/Teaching/2018-2019/summer semester/LDI (logika dla informatyków)/lab/agda/lab00-even.agda).\n"
     ]
    }
   ],
   "source": [
    "-- lab00-even.agda\n",
    "\n",
    "module lab00-even where\n",
    "\n",
    "open import lab00-nat\n",
    "\n",
    "-- indexed inductive type:\n",
    "-- elements at a given index depend on previously constructed elements on other indices\n",
    "-- the index is a natural number\n",
    "data Even : ℕ → Set where\n",
    "  even-zero : Even zero\n",
    "  even-plus2 : {n : ℕ} → Even n → Even (suc (suc n))\n",
    "  \n",
    "-- the sum of two even numbers is even\n",
    "plus-long : {m n : ℕ} → Even m → Even n → Even (m + n)\n",
    "plus-long {zero} {n} even-zero evn = evn\n",
    "plus-long {suc(suc m)} {n} (even-plus2 evm) evn = even-plus2 {m + n} (plus-long {m} {n} evm evn)\n",
    "\n",
    "-- in compact form\n",
    "-- (Agda can correctly infer the implicit arguments)\n",
    "plus : {m n : ℕ} → Even m → Even n → Even (m + n)\n",
    "plus even-zero evn = evn\n",
    "plus (even-plus2 evm) evn = even-plus2 (plus evm evn)"
   ]
  },
  {
   "cell_type": "markdown",
   "metadata": {},
   "source": [
    "**Exercise.** Define multiplication for `Even`."
   ]
  },
  {
   "cell_type": "code",
   "execution_count": 36,
   "metadata": {
    "tags": [
     "solution"
    ]
   },
   "outputs": [
    {
     "name": "stdout",
     "output_type": "stream",
     "text": [
      "Checking lab00-even-mul (/Users/lorenzo/Dropbox/Workspace/teaching/Teaching/2018-2019/summer semester/LDI (logika dla informatyków)/lab/agda/lab00-even-mul.agda).\n"
     ]
    }
   ],
   "source": [
    "-- lab00-even-mul.agda\n",
    "\n",
    "module lab00-even-mul where\n",
    "\n",
    "open import lab00-nat\n",
    "open import lab00-nat-mul\n",
    "open import lab00-even\n",
    "\n",
    "-- the product of two even numbers is even\n",
    "mul : {m n : ℕ} → Even m → Even n → Even (m * n)\n",
    "mul even-zero _ = even-zero\n",
    "mul (even-plus2 evm) evn = plus evn (plus evn (mul evm evn))"
   ]
  },
  {
   "cell_type": "markdown",
   "metadata": {},
   "source": [
    "**Exercise.** Define even and odd numbers by a *mutual* inductive definition. Define addition on them, by a *mutual* recursive definition."
   ]
  },
  {
   "cell_type": "code",
   "execution_count": 42,
   "metadata": {},
   "outputs": [
    {
     "name": "stdout",
     "output_type": "stream",
     "text": [
      "Checking lab00-even-odd (/Users/lorenzo/Dropbox/Workspace/teaching/Teaching/2018-2019/summer semester/LDI (logika dla informatyków)/lab/agda/lab00-even-odd.agda).\n"
     ]
    }
   ],
   "source": [
    "-- lab00-even-odd.agda\n",
    "\n",
    "module lab00-even-odd where\n",
    "\n",
    "open import lab00-nat\n",
    "\n",
    "data Even : ℕ → Set\n",
    "data Odd : ℕ → Set\n",
    "\n",
    "data Even where\n",
    "-- TODO\n",
    "\n",
    "data Odd where\n",
    "-- TODO"
   ]
  },
  {
   "cell_type": "code",
   "execution_count": 54,
   "metadata": {
    "tags": [
     "solution"
    ]
   },
   "outputs": [
    {
     "name": "stdout",
     "output_type": "stream",
     "text": [
      "Checking lab00-even-odd (/Users/lorenzo/Dropbox/Workspace/teaching/Teaching/2018-2019/summer semester/LDI (logika dla informatyków)/lab/agda/lab00-even-odd.agda).\n"
     ]
    }
   ],
   "source": [
    "-- lab00-even-odd.agda\n",
    "\n",
    "module lab00-even-odd where\n",
    "\n",
    "open import lab00-nat\n",
    "\n",
    "data Even : ℕ → Set\n",
    "data Odd : ℕ → Set\n",
    "\n",
    "data Even where\n",
    "  zero : Even zero\n",
    "  plusE : {n : ℕ} → Odd n → Even (suc n)\n",
    "  \n",
    "data Odd where\n",
    "  plusO : {n : ℕ} → Even n → Odd (suc n)\n",
    "\n",
    "-- plus functions defined by mutual recursion\n",
    "plusEE : {m n : ℕ} → Even m → Even n → Even (m + n)\n",
    "plusEO : {m n : ℕ} → Even m → Odd n → Odd (m + n)\n",
    "plusOE : {m n : ℕ} → Odd m → Even n → Odd (m + n)\n",
    "plusOO : {m n : ℕ} → Odd m → Odd n → Even (m + n)\n",
    "\n",
    "plusEE zero n = n\n",
    "plusEE (plusE m) n = plusE (plusOE m n)\n",
    "\n",
    "plusEO zero n = n\n",
    "plusEO (plusE m) n = plusO (plusOO m n)\n",
    "\n",
    "plusOE (plusO m) n = plusO (plusEE m n)\n",
    "\n",
    "plusOO (plusO m) n = plusE (plusEO m n)"
   ]
  },
  {
   "cell_type": "code",
   "execution_count": 96,
   "metadata": {},
   "outputs": [
    {
     "name": "stdout",
     "output_type": "stream",
     "text": [
      "Checking lab00-vector (/Users/lorenzo/Dropbox/Workspace/teaching/Teaching/2018-2019/summer semester/LDI (logika dla informatyków)/lab/agda/lab00-vector.agda).\n"
     ]
    }
   ],
   "source": [
    "-- lab00-vector.agda\n",
    "\n",
    "module lab00-vector where\n",
    "\n",
    "open import lab00-nat\n",
    "open import lab00-even\n",
    "\n",
    "infixr 5 _::_\n",
    "infixr 5 _++_\n",
    "\n",
    "-- indexed and parametrised type\n",
    "-- the parameter is the type A and the index is the dimension n\n",
    "data Vector (A : Set) : ℕ → Set where\n",
    "  [] : Vector A zero\n",
    "  _::_ : {n : ℕ} → A → Vector A n → Vector A (suc n)\n",
    "\n",
    "_++_ : {A : Set} {m n : ℕ} → Vector A m → Vector A n → Vector A (m + n)\n",
    "[] ++ ys = ys\n",
    "(x :: xs) ++ ys = x :: (xs ++ ys)\n",
    "\n",
    "map : {A B : Set} {n : ℕ} → (A → B) → Vector A n → Vector B n\n",
    "map _ [] = []\n",
    "map f (x :: xs) = f x :: map f xs\n",
    "\n",
    "foldr : {A B : Set} {n : ℕ} → (A → B → B) → B → Vector A n → B\n",
    "foldr _⊗_ e [] = e\n",
    "foldr _⊗_ e (x :: xs) = x ⊗ foldr _⊗_ e xs\n",
    "\n",
    "-- need to access the hidden parameter!\n",
    "length : {A : Set} {n : ℕ} → Vector A n → ℕ\n",
    "length {A} {n} _ = n\n",
    "\n",
    "-- define the type of vectors of even length\n",
    "data VectorEven (A : Set) : Set where\n",
    "--  [] : VectorEven zero\n",
    "--  _::_::_ : {n : ℕ} → A → A → VectorEven A n → VectorEven A (suc (suc n))\n",
    "    vec : {n : ℕ} → Even n → Vector A n → VectorEven A\n",
    "\n",
    "_:::_:::_ : {A : Set} → A → A → VectorEven A → VectorEven A\n",
    "x ::: y ::: (vec evx xs) = vec (even-plus2 evx) (x :: y :: xs)\n",
    "\n",
    "_+++_ : {A : Set} → VectorEven A → VectorEven A → VectorEven A\n",
    "(vec even-zero []) +++ (vec evy ys) = vec evy ys\n",
    "(vec (even-plus2 evx) (x :: y :: xs)) +++ (vec evy ys) = x ::: y ::: (vec evx xs +++ vec evy ys)\n",
    "\n",
    "mapve : {A B : Set} → (A → B) → VectorEven A → VectorEven B\n",
    "mapve _ (vec even-zero [])= vec even-zero []\n",
    "mapve f (vec (even-plus2 evx) (x :: y :: xs)) = f x ::: f y ::: mapve f (vec evx xs)"
   ]
  },
  {
   "cell_type": "code",
   "execution_count": null,
   "metadata": {},
   "outputs": [],
   "source": [
    "-- lab00-list-vector.agda\n",
    "\n",
    "module lab00-list-vector where\n",
    "\n",
    "open import lab00-nat\n",
    "\n",
    "data ListVector (A : Set) : Set where\n",
    "  [] : ListVector\n",
    "  _::_ : {n : ℕ} → A → Vector A n → Vector A (suc n)\n"
   ]
  },
  {
   "cell_type": "markdown",
   "metadata": {},
   "source": [
    "## Inductive-recursive types"
   ]
  },
  {
   "cell_type": "code",
   "execution_count": 104,
   "metadata": {},
   "outputs": [
    {
     "name": "stdout",
     "output_type": "stream",
     "text": [
      "Checking lab00-inductive-recursive (/Users/lorenzo/Dropbox/Workspace/teaching/Teaching/2018-2019/summer semester/LDI (logika dla informatyków)/lab/agda/lab00-inductive-recursive.agda).\n",
      "Unsolved metas at the following locations:\n",
      "  /Users/lorenzo/Dropbox/Workspace/teaching/Teaching/2018-2019/summer semester/LDI (logika dla informatyków)/lab/agda/lab00-inductive-recursive.agda:28,52-53\n"
     ]
    }
   ],
   "source": [
    "-- lab00-inductive-recursive.agda\n",
    "\n",
    "module lab00-inductive-recursive where\n",
    "\n",
    "open import lab00-nat\n",
    "open import lab00-even\n",
    "\n",
    "-- infixr 5 _++_\n",
    "\n",
    "-- list of numbers of even sum\n",
    "\n",
    "-- declaration\n",
    "data EvenSumList : Set\n",
    "sum : EvenSumList → ℕ\n",
    "\n",
    "-- inductive definition, relying on sum\n",
    "data EvenSumList where\n",
    "  [] : EvenSumList\n",
    "  cons : (n : ℕ) → (ns : EvenSumList) → (Even (n + sum ns)) → EvenSumList\n",
    "\n",
    "-- recursive definition\n",
    "sum [] = zero\n",
    "sum (cons n ns _) = n + sum ns\n",
    "\n",
    "-- append preserves evenness\n",
    "append : EvenSumList → EvenSumList → EvenSumList\n",
    "append [] ns = ns\n",
    "append (cons m ms even) ns = cons m (append ms ns) _"
   ]
  },
  {
   "cell_type": "code",
   "execution_count": null,
   "metadata": {},
   "outputs": [],
   "source": []
  }
 ],
 "metadata": {
  "celltoolbar": "Tags",
  "kernelspec": {
   "display_name": "Agda",
   "language": "agda",
   "name": "agda"
  },
  "language_info": {
   "file_extension": ".agda",
   "mimetype": "text/x-agda",
   "name": "Agda"
  }
 },
 "nbformat": 4,
 "nbformat_minor": 2
}
