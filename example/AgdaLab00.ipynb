{
 "cells": [
  {
   "cell_type": "markdown",
   "metadata": {},
   "source": [
    "**LICENCE:**\n",
    "This tutorial contains adaptations of material from [Programming Language Foundations in Agda](https://plfa.github.io/) by Phil Wadler and Wen Kokke. It is licenced under Creative Commons Attribution 4.0 International.\n",
    "\n",
    "# Programming with dependent types in Agda\n",
    "\n",
    "**SYNTAX:**\n",
    "You can enter `→` by writing `->` and pressing TAB; pressing TAB again goes back to `->`. Similar useful combinations are:\n",
    "\n",
    "| base form | alternate form | base form | alternate form |\n",
    "|:---------:|:--------------:|:---------:|:--------------:|\n",
    "| ->  | → | B | 𝔹 |\n",
    "| \\   | λ | N | ℕ |\n",
    "| <   | ⟨ | = | ≡ |\n",
    "| >   | ⟩ | /= | ≢ |\n",
    "| =<> | ≡⟨⟩ | qed | ∎ |\n",
    "\n",
    "**PRO TRICKS:**\n",
    "- You can ask Agda to provide the type of a closed expression. Just put the cursor nearby an expression and press SHIFT+TAB.\n",
    "- You can ask Agda to compute the normal form of an expression enclosed in parantheses, such as `(λ x → x)` (already in normal form).\n",
    "- Starred exercises \"**Exercise***\" should be skipped on a first reading and dealt with only after all the non-starred one are resolved.\n",
    "\n",
    "### The equality relation `_≡_`\n",
    "\n",
    "Before we begin, we need to introduce the equality type `_≡_`.\n",
    "We do not need the details of its definition now;\n",
    "instead, we will see how to use it via some examples below.\n",
    "We will see how exactly the definition of `_≡_` works later on.\n",
    "For now, we just evaluate the cell below by SHIFT+ENTER."
   ]
  },
  {
   "cell_type": "code",
   "execution_count": 28,
   "metadata": {
    "tags": [
     "init",
     "hide"
    ]
   },
   "outputs": [
    {
     "name": "stdout",
     "output_type": "stream",
     "text": [
      "*Type-checking*\n",
      "*Type-checking*(Checking lab00.eq (/Users/lorenzo/Dropbox/Workspace/teaching/Teaching/2018-2019/summer semester/LDI (logika dla informatyków)/lab/agda/lab00/eq.agda).\n",
      ")\n",
      "*All Done*\n"
     ]
    }
   ],
   "source": [
    "module lab00.eq where\n",
    "\n",
    "infix 4 _≡_\n",
    "data _≡_ {A : Set} (x : A) : A → Set where\n",
    "    refl : x ≡ x\n",
    "\n",
    "sym : {A : Set} {x y : A} → x ≡ y → y ≡ x\n",
    "sym refl = refl\n",
    "\n",
    "trans : {A : Set} {x y z : A} → x ≡ y → y ≡ z → x ≡ z\n",
    "trans refl refl = refl\n",
    "\n",
    "cong : {A B : Set} (f : A → B) {x y : A} → x ≡ y → f x ≡ f y\n",
    "cong f refl = refl\n",
    "\n",
    "subst : {A : Set} {x y : A} (P : A → Set) → x ≡ y → P x → P y\n",
    "subst P refl px = px\n",
    "\n",
    "infix  1 begin_\n",
    "infixr 2 _≡⟨⟩_ _≡⟨_⟩_\n",
    "infix  3 _∎\n",
    "\n",
    "begin_ : {A : Set} {x y : A} → x ≡ y → x ≡ y\n",
    "begin x≡y = x≡y\n",
    "\n",
    "_≡⟨⟩_ : {A : Set} (x : A) {y : A} → x ≡ y → x ≡ y\n",
    "x ≡⟨⟩ x≡y = x≡y\n",
    "\n",
    "_≡⟨_⟩_ : {A : Set} (x : A) {y z : A} → x ≡ y → y ≡ z → x ≡ z\n",
    "x ≡⟨ x≡y ⟩ y≡z = trans x≡y y≡z\n",
    "\n",
    "_∎ : {A : Set} (x : A) → x ≡ x\n",
    "x ∎ = refl"
   ]
  },
  {
   "cell_type": "markdown",
   "metadata": {},
   "source": [
    "**UNDER THE HOOD:** A code cell must start with a line in the format\n",
    "```agda\n",
    "module A.B.C where\n",
    "```\n",
    "Upon evaluation, the file `A/B/C.agda` is created on disk from the cell's contents\n",
    "and fed to the Agda interpreter.\n",
    "For this reason, it is important to evaluate a cell to ensure that its changes are reflected on disk and can be used from other cells.\n",
    "\n",
    "**SPACING: **\n",
    "Agda allows us to be very flexible in the variable names,\n",
    "which can be strings such as `x`, `&&`, `&&true`, or even arbitrary unicode symbols `💔`.\n",
    "As a consequence, spaces in Agda have a syntactic meaning as separators,\n",
    "and we need to be very generous with them.\n",
    "For instance, `x ≡ y`, which in prefix notation is the same as `_≡_ x y`,\n",
    "consists of three different identifiers,\n",
    "while `x≡y` is a single identifier, and it is a legal Agda name.\n",
    "\n",
    "---\n",
    "\n",
    "## Booleans `𝔹`\n",
    "\n",
    "We begin our exploration of Agda by defining the boolean values `true : 𝔹` and `false : 𝔹` and common functions manipulating them. For instance, `_&&_ : 𝔹 → 𝔹 → 𝔹` implements the logical \"and\" function. The name of the function is `_&&_`. The underscores are part of the name, but they also have a meaning on their own.\n",
    "The arguments to this functions can be supplied either in prefix notation as `_&&_ x y`, or as in infix notation as `x && y` (removing the underscores). **Notice that the spaces are not optional.** (Most frequent beginner's mistake.) The expression `x&&y` is interpreted as a new name, and is not the same as `x && y`.\n",
    "\n",
    "After evaluating the cell below,\n",
    "we can check that `true` has type `𝔹` by putting the cursor on it and pressing SHIFT+TAB.\n",
    "We can also evaluate **closed parenthesized** expressions involving booleans,\n",
    "such as `(~ ~ (true && false))`, by putting the cursor around the enclosing parentheses and pressing TAB (even in comments)."
   ]
  },
  {
   "cell_type": "code",
   "execution_count": 29,
   "metadata": {},
   "outputs": [
    {
     "name": "stdout",
     "output_type": "stream",
     "text": [
      "*Type-checking*\n",
      "*Type-checking*(Checking lab00.bool (/Users/lorenzo/Dropbox/Workspace/teaching/Teaching/2018-2019/summer semester/LDI (logika dla informatyków)/lab/agda/lab00/bool.agda).\n",
      ")\n",
      "*Type-checking*( Checking lab00.eq (/Users/lorenzo/Dropbox/Workspace/teaching/Teaching/2018-2019/summer semester/LDI (logika dla informatyków)/lab/agda/lab00/eq.agda).\n",
      ")\n",
      "*All Done*\n"
     ]
    }
   ],
   "source": [
    "module lab00.bool where\n",
    "\n",
    "open import lab00.eq using (_≡_; refl)\n",
    "\n",
    "-- simple type\n",
    "-- the type Bool is inhabited precisely by two elements, true and false\n",
    "data 𝔹 : Set where\n",
    "    true : 𝔹\n",
    "    false : 𝔹\n",
    "\n",
    "-- right associative operators\n",
    "infix 60 ~_ -- higher priority\n",
    "infixr 50 _&&_\n",
    "infixr 40 _||_ -- lower priority\n",
    "\n",
    "-- we can define computable functions on booleans\n",
    "_&&_ : 𝔹 → 𝔹 → 𝔹\n",
    "true && true = true\n",
    "_ && _ = false\n",
    "\n",
    "_||_ : 𝔹 → 𝔹 → 𝔹\n",
    "false || false = false\n",
    "_ || _ = true\n",
    "\n",
    "~_ : 𝔹 → 𝔹\n",
    "~ true = false\n",
    "~ false = true\n",
    "\n",
    "-- Evaluate with TAB (cursor near parentheses):\n",
    "-- (~ ~ ~ true)\n",
    "-- (~ ~ (true && false))\n",
    "\n",
    "-- the proof below is by refl,\n",
    "-- since the two terms evaluate to the same normal form, namely \"false\"\n",
    "th1 : ~ true ≡ ~ ~ ~ true\n",
    "th1 = refl "
   ]
  },
  {
   "cell_type": "markdown",
   "metadata": {},
   "source": [
    "**Exercise.** Define the function `_nand_ : 𝔹 → 𝔹 → 𝔹`."
   ]
  },
  {
   "cell_type": "code",
   "execution_count": 30,
   "metadata": {},
   "outputs": [
    {
     "name": "stdout",
     "output_type": "stream",
     "text": [
      "*Type-checking*\n",
      "*Type-checking*(Checking lab00.bool.nand (/Users/lorenzo/Dropbox/Workspace/teaching/Teaching/2018-2019/summer semester/LDI (logika dla informatyków)/lab/agda/lab00/bool/nand.agda).\n",
      ")\n",
      "*Type-checking*( Checking lab00.bool (/Users/lorenzo/Dropbox/Workspace/teaching/Teaching/2018-2019/summer semester/LDI (logika dla informatyków)/lab/agda/lab00/bool.agda).\n",
      ")\n",
      "*All Goals*(?0 : 𝔹\n",
      ")\n"
     ]
    }
   ],
   "source": [
    "module lab00.bool.nand where\n",
    "\n",
    "open import lab00.bool\n",
    "\n",
    "_nand_ : 𝔹 → 𝔹 → 𝔹\n",
    "x nand y = ?\n",
    "\n",
    "-- we can tell Agda that there are certain holes to be filled;\n",
    "-- this is useful since we can still typecheck a program with holes"
   ]
  },
  {
   "cell_type": "code",
   "execution_count": 31,
   "metadata": {
    "tags": [
     "solution"
    ]
   },
   "outputs": [
    {
     "name": "stdout",
     "output_type": "stream",
     "text": [
      "*Type-checking*\n",
      "*Type-checking*(Checking lab00.bool.nand-solution (/Users/lorenzo/Dropbox/Workspace/teaching/Teaching/2018-2019/summer semester/LDI (logika dla informatyków)/lab/agda/lab00/bool/nand-solution.agda).\n",
      ")\n",
      "*All Done*\n"
     ]
    }
   ],
   "source": [
    "module lab00.bool.nand-solution where\n",
    "\n",
    "open import lab00.bool\n",
    "\n",
    "_nand_ : 𝔹 → 𝔹 → 𝔹\n",
    "x nand y = ~ x && ~ y"
   ]
  },
  {
   "cell_type": "markdown",
   "metadata": {},
   "source": [
    "## Our first proof\n",
    "\n",
    "We show that negation is an involution, i.e., `~ ~ x ≡ x`.\n",
    "This is achieved by *declaring* the function\n",
    "```agda\n",
    "~inv : (x : 𝔹) → ~ ~ x ≡ x\n",
    "```\n",
    "which takes as input an arbitrary boolean `x : 𝔹` and returns an term of type `~ ~ x ≡ x`.\n",
    "Notice how the latter type depends not only on the input type `𝔹`, but on the *input value* `x`.\n",
    "The *definition* of `~inv` follows:\n",
    "```agda\n",
    "~inv true = refl -- here refl : true ≡ true\n",
    "~inv false = refl -- here refl : false ≡ false\n",
    "```\n",
    "Sometimes Agda can infer the type of `x` from the context,\n",
    "for instance by the fact that it is later used as the argument of `~_ : 𝔹 → 𝔹`.\n",
    "In those circumstances, we can save some typing and rewrite the declaration above as\n",
    "```agda\n",
    "~inv : ∀ x → ~ ~ x ≡ x\n",
    "```\n",
    "The notation above is very suggestive and brings us closer to proving theorems of logic.\n",
    "However, we should not forget that it is just syntactic sugaring for the first declaration above.\n",
    "\n",
    "**Exercise.** Formalise and prove that `_&&_` is commutative."
   ]
  },
  {
   "cell_type": "code",
   "execution_count": 32,
   "metadata": {
    "tags": [
     "solution"
    ]
   },
   "outputs": [
    {
     "name": "stdout",
     "output_type": "stream",
     "text": [
      "*Type-checking*\n",
      "*Type-checking*(Checking lab00.bool.comm (/Users/lorenzo/Dropbox/Workspace/teaching/Teaching/2018-2019/summer semester/LDI (logika dla informatyków)/lab/agda/lab00/bool/comm.agda).\n",
      ")\n",
      "*All Done*\n"
     ]
    }
   ],
   "source": [
    "module lab00.bool.comm where\n",
    "\n",
    "open import lab00.bool\n",
    "open import lab00.eq\n",
    "\n",
    "-- is there a less boring proof?\n",
    "&&-comm : ∀ x y → x && y ≡ y && x\n",
    "&&-comm true true = refl\n",
    "&&-comm false false = refl\n",
    "&&-comm true false = refl\n",
    "&&-comm false true = refl"
   ]
  },
  {
   "cell_type": "markdown",
   "metadata": {},
   "source": [
    "## Natural numbers `ℕ`\n",
    "\n",
    "We now explore *inductive types* such as the natural numbers,\n",
    "which have an infinite number of inhabitants. Functions on inductive types such as `_+_` and `fib` are defined recursively. In Agda, we can write only total functions (though not all of them). This is achieved by imposing severe restrictions on the format of recursive definitions. This will not usually bother us, but for instance the naive definition of the Ackerman function (which is total) won't go through Agda's termination checker:\n",
    "```agda\n",
    "ack : ℕ → ℕ → ℕ\n",
    "ack 0 n = n + 1\n",
    "ack (suc m) 0 = ack m 1\n",
    "ack (suc m) (suc n) = ack m (ack (m + 1) n)\n",
    "```\n",
    "(There are tricks to express Ackerman in Agda, such as using primitive *higher-order recursion*, but we won't need those here.)"
   ]
  },
  {
   "cell_type": "code",
   "execution_count": 33,
   "metadata": {},
   "outputs": [
    {
     "name": "stdout",
     "output_type": "stream",
     "text": [
      "*Type-checking*\n",
      "*Type-checking*(Checking lab00.nat (/Users/lorenzo/Dropbox/Workspace/teaching/Teaching/2018-2019/summer semester/LDI (logika dla informatyków)/lab/agda/lab00/nat.agda).\n",
      ")\n",
      "*All Done*\n"
     ]
    }
   ],
   "source": [
    "module lab00.nat where\n",
    "\n",
    "open import lab00.eq\n",
    "open import lab00.bool\n",
    "\n",
    "data ℕ : Set where\n",
    "  zero : ℕ\n",
    "  suc : ℕ → ℕ\n",
    "\n",
    "infixl 5 _+_\n",
    "infixl 6 _*_ -- higher priority than _+_\n",
    "\n",
    "-- left associative: a + b + c ≡ (a + b) + c\n",
    "\n",
    "-- recursive function on an inductive type\n",
    "_+_ : ℕ → ℕ → ℕ\n",
    "zero + m = m\n",
    "(suc n) + m = suc (n + m)\n",
    "\n",
    "_*_ : ℕ → ℕ → ℕ\n",
    "zero * _  =  zero\n",
    "suc m * n  =  n + (m * n)\n",
    "\n",
    "-- we can use standard numerals 0, 1, ...\n",
    "-- as abbreviations for zero, suc zero, ...\n",
    "{-# BUILTIN NATURAL ℕ #-}\n",
    "\n",
    "-- the hello world of functional programming\n",
    "fib : ℕ → ℕ\n",
    "fib 0 = 0\n",
    "fib 1 = 1\n",
    "fib (suc (suc n)) = fib (suc n) + fib n\n",
    "\n",
    "fib26 : fib 26 ≡ 121393\n",
    "fib26 = refl\n",
    "\n",
    "-- we can already prove a basic fact about _+_ and 0:\n",
    "-- since \"0 + m\" and \"m\" evaluate (i.e., normalise) to the same normal form (namely, \"m\"),\n",
    "-- we can just use reflexivity here (no induction needed)\n",
    "0+m≡m : ∀ m → 0 + m ≡ m\n",
    "0+m≡m m = refl\n",
    "\n",
    "-- moreover, such proofs by normalisation work even in contexts:\n",
    "-- the normal form fib (0 + m) is fib m\n",
    "fib0m : ∀ m → fib (0 + m) ≡ fib m\n",
    "fib0m m = refl"
   ]
  },
  {
   "cell_type": "markdown",
   "metadata": {},
   "source": [
    "## Proofs by induction\n",
    "In Agda, a proof by induction is just recursive program which transforms a proof for case $n$ into a proof for case $n+1$. In our first proof by induction we want to prove the following:\n",
    "```agda\n",
    "m+0≡m : (m : ℕ) → m + 0 ≡ m\n",
    "```\n",
    "(Notice that `m+0≡m` is a valid identifier, and it is the name of our theorem.)\n",
    "Since `_+_` is defined by recursion on its first argument, `m+0` and `m` are already in normal form (and different from each other), and therefore we really need induction here (`refl` won't cut it).\n",
    "In the base case, we have `m = 0` and thus we need to prove `0 + 0 ≡ 0`, which follows from reflexivity:\n",
    "```agda\n",
    "m+0≡m 0 = refl\n",
    "```\n",
    "In the inductive step, we need to prove `suc m + 0 ≡ suc m` (by defining `m+0≡m (suc m) : suc m + 0 ≡ suc m`)\n",
    "under the assumption that `m + 0 ≡ m` holds (as witnessed by `m+0≡m m : m + 0 ≡ m`).\n",
    "The term `suc m + 0` rewrites to `suc (m + 0)`, according to the definition of `_+_`.\n",
    "Thus, it suffices to show `suc (m + 0) ≡ suc m`.\n",
    "By inductive assumption, `m + 0 ≡ m` holds, and it suffices to lift the equivalence to the context `suc (...)`.\n",
    "This is what the program `cong` (for *congruence*) does:\n",
    "```agda\n",
    "m+0≡m (suc m) = cong suc (m+0≡m m)\n",
    "```"
   ]
  },
  {
   "cell_type": "code",
   "execution_count": 34,
   "metadata": {},
   "outputs": [
    {
     "name": "stdout",
     "output_type": "stream",
     "text": [
      "*Type-checking*\n",
      "*Type-checking*(Checking lab00.nat.ind0 (/Users/lorenzo/Dropbox/Workspace/teaching/Teaching/2018-2019/summer semester/LDI (logika dla informatyków)/lab/agda/lab00/nat/ind0.agda).\n",
      ")\n",
      "*Type-checking*( Checking lab00.nat (/Users/lorenzo/Dropbox/Workspace/teaching/Teaching/2018-2019/summer semester/LDI (logika dla informatyków)/lab/agda/lab00/nat.agda).\n",
      ")\n",
      "*All Done*\n"
     ]
    }
   ],
   "source": [
    "module lab00.nat.ind0 where\n",
    "\n",
    "open import lab00.nat\n",
    "open import lab00.eq\n",
    "\n",
    "m+0≡m : (m : ℕ) → m + 0 ≡ m\n",
    "m+0≡m 0 = refl\n",
    "m+0≡m (suc m) = cong suc (m+0≡m m)"
   ]
  },
  {
   "cell_type": "markdown",
   "metadata": {},
   "source": [
    "## Symmetry\n",
    "We now have our first proof by induction `m+0≡m : (m : ℕ) → m + 0 ≡ m`.\n",
    "Suppose we now want to prove the symmetric statement, i.e., \n",
    "```agda\n",
    "m≡m+0 : (m : ℕ) → m ≡ m + 0\n",
    "```\n",
    "One way would be to reason by induction on `m`, as above.\n",
    "A better way is to use the principle *symmetry* applied to the previous `m+0≡m`,\n",
    "which is what the expression `sym : ... → x ≡ y → y ≡ x` does below."
   ]
  },
  {
   "cell_type": "code",
   "execution_count": 35,
   "metadata": {},
   "outputs": [
    {
     "name": "stdout",
     "output_type": "stream",
     "text": [
      "*Type-checking*\n",
      "*Type-checking*(Checking lab00.nat.ind1 (/Users/lorenzo/Dropbox/Workspace/teaching/Teaching/2018-2019/summer semester/LDI (logika dla informatyków)/lab/agda/lab00/nat/ind1.agda).\n",
      ")\n",
      "*Type-checking*( Checking lab00.nat.ind0 (/Users/lorenzo/Dropbox/Workspace/teaching/Teaching/2018-2019/summer semester/LDI (logika dla informatyków)/lab/agda/lab00/nat/ind0.agda).\n",
      ")\n",
      "*All Done*\n"
     ]
    }
   ],
   "source": [
    "module lab00.nat.ind1 where\n",
    "\n",
    "open import lab00.nat\n",
    "open import lab00.eq\n",
    "open import lab00.nat.ind0\n",
    "\n",
    "m≡m+0 : (m : ℕ) → m ≡ m + 0\n",
    "m≡m+0 m = sym (m+0≡m m)"
   ]
  },
  {
   "cell_type": "markdown",
   "metadata": {},
   "source": [
    "## Equality chains\n",
    "We can make proofs using chains of equalities more readable by using some syntactic sugaring.\n",
    "This also helps documenting the proof, i.e., showing what is the *intention* behind the code.\n",
    "The same proofs above can also be written in the form below."
   ]
  },
  {
   "cell_type": "code",
   "execution_count": 36,
   "metadata": {},
   "outputs": [
    {
     "name": "stdout",
     "output_type": "stream",
     "text": [
      "*Type-checking*\n",
      "*Type-checking*(Checking lab00.nat.ind2 (/Users/lorenzo/Dropbox/Workspace/teaching/Teaching/2018-2019/summer semester/LDI (logika dla informatyków)/lab/agda/lab00/nat/ind2.agda).\n",
      ")\n",
      "*All Done*\n"
     ]
    }
   ],
   "source": [
    "module lab00.nat.ind2 where\n",
    "\n",
    "open import lab00.nat\n",
    "open import lab00.eq\n",
    "\n",
    "m+0≡m : (m : ℕ) → m + 0 ≡ m\n",
    "m+0≡m 0 = refl\n",
    "m+0≡m (suc m) =\n",
    "    suc m + 0 ≡⟨⟩ -- by the definition of _+_\n",
    "    suc (m + 0) ≡⟨ cong suc (m+0≡m m) ⟩ -- inductive hypothesis\n",
    "    suc m ∎\n",
    "  \n",
    "m≡m+0 : (m : ℕ) → m ≡ m + 0\n",
    "m≡m+0 m =\n",
    "    m ≡⟨ sym (m+0≡m m) ⟩\n",
    "    m + 0 ∎\n",
    "    \n",
    "-- let's prove that addition is associative\n",
    "+-assoc : (m n l : ℕ) → m + (n + l) ≡ m + n + l\n",
    "+-assoc 0 n l =\n",
    "    0 + (n + l)\n",
    "    ≡⟨⟩ n + l\n",
    "    ≡⟨⟩ (0 + n) + l ∎\n",
    "+-assoc (suc m) n l =  \n",
    "    suc m + (n + l) ≡⟨⟩\n",
    "    suc (m + (n + l)) ≡⟨ cong suc (+-assoc m n l) ⟩ -- inductive hypothesis\n",
    "    suc ((m + n) + l) ≡⟨⟩\n",
    "    suc (m + n) + l ≡⟨⟩\n",
    "    (suc m + n) + l ∎\n",
    "    \n",
    "-- the following lemma will be useful below\n",
    "suc-lemma : (m n : ℕ) → suc (m + n) ≡ m + suc n\n",
    "suc-lemma 0 n =\n",
    "    suc (0 + n) ≡⟨⟩\n",
    "    suc n ≡⟨⟩\n",
    "    0 + suc n ∎\n",
    "suc-lemma (suc m) n = \n",
    "    suc (suc m + n) ≡⟨⟩\n",
    "    suc (suc (m + n)) ≡⟨ cong suc (suc-lemma m n) ⟩ \n",
    "    suc (m + suc n) ≡⟨⟩\n",
    "    suc m + suc n ∎"
   ]
  },
  {
   "cell_type": "markdown",
   "metadata": {},
   "source": [
    "**Exercise.** Formalise and prove that addition is commutative.\n",
    "\n",
    "*Hint:* When there are several variables to do induction on, a good heuristics is to do induction on the variable(s) that appear as recursive arguments. For instance, if we have an expression `x + y`, it is probably more covenient to reason by induction on `x`, since `_+_` is defined by induction on its first argument."
   ]
  },
  {
   "cell_type": "code",
   "execution_count": 37,
   "metadata": {},
   "outputs": [
    {
     "name": "stdout",
     "output_type": "stream",
     "text": [
      "*Type-checking*\n",
      "*Type-checking*(Checking lab00.nat.comm (/Users/lorenzo/Dropbox/Workspace/teaching/Teaching/2018-2019/summer semester/LDI (logika dla informatyków)/lab/agda/lab00/nat/comm.agda).\n",
      ")\n",
      "*Type-checking*( Checking lab00.nat.ind2 (/Users/lorenzo/Dropbox/Workspace/teaching/Teaching/2018-2019/summer semester/LDI (logika dla informatyków)/lab/agda/lab00/nat/ind2.agda).\n",
      ")\n",
      "*All Goals*(?0 : _0\n",
      "?1 : ?0\n",
      "Sort _0  [ at /Users/lorenzo/Dropbox/Workspace/teaching/Teaching/2018-2019/summer semester/LDI (logika dla informatyków)/lab/agda/lab00/nat/comm.agda:7,10-11 ]\n",
      ")\n"
     ]
    }
   ],
   "source": [
    "module lab00.nat.comm where\n",
    "\n",
    "open import lab00.nat\n",
    "open import lab00.eq\n",
    "open import lab00.nat.ind2\n",
    "\n",
    "+-comm : ?\n",
    "+-comm = ?"
   ]
  },
  {
   "cell_type": "code",
   "execution_count": 38,
   "metadata": {
    "tags": [
     "solution"
    ]
   },
   "outputs": [
    {
     "name": "stdout",
     "output_type": "stream",
     "text": [
      "*Type-checking*\n",
      "*Type-checking*(Checking lab00.nat.comm (/Users/lorenzo/Dropbox/Workspace/teaching/Teaching/2018-2019/summer semester/LDI (logika dla informatyków)/lab/agda/lab00/nat/comm.agda).\n",
      ")\n",
      "*All Done*\n"
     ]
    }
   ],
   "source": [
    "module lab00.nat.comm where\n",
    "\n",
    "open import lab00.nat\n",
    "open import lab00.eq\n",
    "open import lab00.nat.ind2\n",
    "\n",
    "+-comm : (m n : ℕ) → m + n ≡ n + m\n",
    "+-comm 0 n =\n",
    "    0 + n ≡⟨⟩\n",
    "    n ≡⟨ m≡m+0 n ⟩\n",
    "    n + 0 ∎\n",
    "+-comm (suc m) n = \n",
    "    suc m + n ≡⟨⟩\n",
    "    suc (m + n) ≡⟨ cong suc (+-comm m n) ⟩\n",
    "    suc (n + m) ≡⟨ suc-lemma n m ⟩\n",
    "    n + suc m ∎"
   ]
  },
  {
   "cell_type": "markdown",
   "metadata": {},
   "source": [
    "**Exercise***.\n",
    "1. Prove that right multiplication distributes over addition,\n",
    "in the sense that\n",
    "```agda\n",
    "+*-distr : (a b c : ℕ) → (a + b) * c ≡ a * c + b * c\n",
    "```\n",
    "2. Prove that multiplication is associative. *Hint: use the previous point*.\n",
    "3. Prove that multiplication is commutative. It might be convenient to preliminary prove the following two properties:\n",
    "```agda\n",
    "*-zero : (a : ℕ) → a * 0 ≡ 0\n",
    "*-suc : (a b : ℕ) → a * suc b ≡ a + a * b\n",
    "```\n",
    "4. Prove that left multiplication distributes over addition, in the sense that\n",
    "```agda\n",
    "*+-distr : (a b c : ℕ) → a * (b + c) ≡ a * b + a * c\n",
    "```\n",
    "*Hint: use the previous points*.\n",
    "5. Using the results above, prove the following\n",
    "```agda\n",
    "*+-full : (a b c d : ℕ) → (a + b) * (c + d) ≡ a * c + a * d + b * c + b * d\n",
    "```\n",
    "**Advice**: If an induction is required, it's convenient to proceed on the first argument `a : ℕ`."
   ]
  },
  {
   "cell_type": "code",
   "execution_count": 39,
   "metadata": {},
   "outputs": [
    {
     "name": "stdout",
     "output_type": "stream",
     "text": [
      "*Type-checking*\n",
      "*Type-checking*(Checking lab00.nat.prop (/Users/lorenzo/Dropbox/Workspace/teaching/Teaching/2018-2019/summer semester/LDI (logika dla informatyków)/lab/agda/lab00/nat/prop.agda).\n",
      ")\n",
      "*Error*(/Users/lorenzo/Dropbox/Workspace/teaching/Teaching/2018-2019/summer semester/LDI (logika dla informatyków)/lab/agda/lab00/nat/prop.agda:4,21-22\n",
      "Not in scope:\n",
      "  ℕ\n",
      "  at /Users/lorenzo/Dropbox/Workspace/teaching/Teaching/2018-2019/summer semester/LDI (logika dla informatyków)/lab/agda/lab00/nat/prop.agda:4,21-22\n",
      "when scope checking ℕ)\n"
     ]
    }
   ],
   "source": [
    "module lab00.nat.prop where\n",
    "\n",
    "-- 1.\n",
    "+*-distr : (a b c : ℕ) → (a + b) * c ≡ a * c + b * c\n",
    "+*-distr = ?\n",
    "\n",
    "-- 2.\n",
    "*-assoc : (a b c : ℕ) → a * b * c ≡ a * (b * c)\n",
    "*-assoc = ?\n",
    "\n",
    "-- 3.\n",
    "*-zero : (a : ℕ) → a * 0 ≡ 0\n",
    "*-zero = ?\n",
    "\n",
    "*-suc : (a b : ℕ) → a * suc b ≡ a + a * b\n",
    "*-suc = ?\n",
    "\n",
    "*-comm : (a b : ℕ) → a * b ≡ b * a\n",
    "*-comm = ?\n",
    "\n",
    "-- 4.\n",
    "*+-distr : (a b c : ℕ) → a * (b + c) ≡ a * b + a * c\n",
    "*+-distr = ?"
   ]
  },
  {
   "cell_type": "code",
   "execution_count": 40,
   "metadata": {
    "tags": [
     "solution"
    ]
   },
   "outputs": [
    {
     "name": "stdout",
     "output_type": "stream",
     "text": [
      "*Type-checking*\n",
      "*Type-checking*(Checking lab00.nat.prop (/Users/lorenzo/Dropbox/Workspace/teaching/Teaching/2018-2019/summer semester/LDI (logika dla informatyków)/lab/agda/lab00/nat/prop.agda).\n",
      ")\n",
      "*Type-checking*( Checking lab00.nat.comm (/Users/lorenzo/Dropbox/Workspace/teaching/Teaching/2018-2019/summer semester/LDI (logika dla informatyków)/lab/agda/lab00/nat/comm.agda).\n",
      ")\n",
      "*All Done*\n"
     ]
    }
   ],
   "source": [
    "module lab00.nat.prop where\n",
    "\n",
    "open import lab00.nat\n",
    "open import lab00.eq\n",
    "open import lab00.nat.ind2\n",
    "open import lab00.nat.comm\n",
    "\n",
    "+*-distr : (a b c : ℕ) → (a + b) * c ≡ a * c + b * c\n",
    "+*-distr 0 _ _ = refl\n",
    "+*-distr (suc a) b c =\n",
    "    (suc a + b) * c ≡⟨⟩\n",
    "    suc (a + b) * c ≡⟨⟩\n",
    "    c + (a + b) * c ≡⟨ cong (c +_ ) (+*-distr a b c) ⟩\n",
    "    c + (a * c + b * c) ≡⟨ +-assoc c (a * c) (b * c) ⟩\n",
    "    c + a * c + b * c ≡⟨⟩\n",
    "    suc a * c + b * c ∎\n",
    "    \n",
    "*-assoc : (a b c : ℕ) → a * b * c ≡ a * (b * c)\n",
    "*-assoc zero _ _ = refl\n",
    "*-assoc (suc a) b c =\n",
    "    suc a * b * c ≡⟨⟩\n",
    "    (b + a * b) * c ≡⟨ +*-distr b (a * b) c ⟩\n",
    "    b * c + a * b * c ≡⟨ cong (b * c +_) (*-assoc a b c)⟩\n",
    "    b * c + a * (b * c) ≡⟨⟩\n",
    "    suc a * (b * c) ∎\n",
    "    \n",
    "*-zero : (a : ℕ) → a * 0 ≡ 0\n",
    "*-zero 0 = refl\n",
    "*-zero (suc n) =\n",
    "    suc n * 0 ≡⟨⟩\n",
    "    0 + n * 0 ≡⟨ cong (0 +_) (*-zero n) ⟩\n",
    "    0 + 0 ≡⟨⟩\n",
    "    0 ∎\n",
    "\n",
    "*-suc : (a b : ℕ) → a * suc b ≡ a + a * b\n",
    "*-suc 0 _ = refl\n",
    "*-suc (suc a) b =\n",
    "    suc a * suc b ≡⟨⟩\n",
    "    suc b + a * suc b ≡⟨ cong (suc b +_) (*-suc a b) ⟩\n",
    "    suc b + (a + a * b) ≡⟨ +-assoc (suc b) a (a * b) ⟩\n",
    "    suc b + a + a * b ≡⟨⟩\n",
    "    suc (b + a) + a * b ≡⟨ cong (λ x → suc x + a * b) (+-comm b a) ⟩\n",
    "    suc (a + b) + a * b ≡⟨⟩\n",
    "    suc a + b + a * b ≡⟨ sym (+-assoc (suc a) b (a * b)) ⟩\n",
    "    suc a + (b + a * b) ≡⟨⟩\n",
    "    suc a + suc a * b ∎\n",
    "\n",
    "*-comm : (a b : ℕ) → a * b ≡ b * a\n",
    "*-comm 0 b =\n",
    "    0 * b ≡⟨⟩\n",
    "    0 ≡⟨ sym (*-zero b) ⟩\n",
    "    b * 0 ∎\n",
    "*-comm (suc a) b =\n",
    "    suc a * b ≡⟨⟩\n",
    "    b + a * b ≡⟨ cong (b +_) (*-comm a b) ⟩\n",
    "    b + b * a ≡⟨ sym (*-suc b a) ⟩\n",
    "    b * suc a ∎\n",
    "    \n",
    "*+-distr : (a b c : ℕ) → a * (b + c) ≡ a * b + a * c\n",
    "*+-distr a b c =\n",
    "    a * (b + c) ≡⟨ *-comm a (b + c) ⟩\n",
    "    (b + c) * a ≡⟨ +*-distr b c a ⟩\n",
    "    b * a + c * a ≡⟨ cong (_+ (c * a)) (*-comm b a) ⟩\n",
    "    a * b + c * a ≡⟨ cong ((a * b) +_) (*-comm c a) ⟩\n",
    "    a * b + a * c ∎\n",
    "    \n",
    "*+-full : (a b c d : ℕ) → (a + b) * (c + d) ≡ a * c + a * d + b * c + b * d\n",
    "*+-full a b c d = \n",
    "    (a + b) * (c + d)                 ≡⟨ *+-distr (a + b) c d ⟩\n",
    "    (a + b) * c + (a + b) * d         ≡⟨ cong ((a + b) * c +_) (+*-distr a b d) ⟩\n",
    "    (a + b) * c + (a * d + b * d)     ≡⟨ cong (_+ ((a * d + b * d))) (+*-distr a b c) ⟩\n",
    "    (a * c + b * c) + (a * d + b * d) ≡⟨ sym (+-assoc (a * c) (b * c) (a * d + b * d)) ⟩\n",
    "    a * c + (b * c + (a * d + b * d)) ≡⟨ cong (a * c +_) (+-assoc (b * c) (a * d) (b * d)) ⟩\n",
    "    a * c + ((b * c + a * d) + b * d) ≡⟨ cong (λ h → a * c + (h + b * d)) (+-comm (b * c) (a * d)) ⟩\n",
    "    a * c + ((a * d + b * c) + b * d) ≡⟨ +-assoc (a * c) ((a * d + b * c)) (b * d) ⟩\n",
    "    (a * c + (a * d + b * c)) + b * d ≡⟨ cong (_+ b * d) (+-assoc (a * c) (a * d) (b * c)) ⟩\n",
    "    ((a * c + a * d) + b * c) + b * d ∎"
   ]
  },
  {
   "cell_type": "markdown",
   "metadata": {},
   "source": [
    "# Relations\n",
    "In the same way as we define the natural number inductively,\n",
    "we can also define relations on the natural numbers inductively.\n",
    "For instance, we can define a predicate (unary relation) `Even n` that is inhabited precisely when `n` is an even natural number.\n",
    "The type `Even n` is called an *index type*\n",
    "since it depends `n`, which is called index.\n",
    "\n",
    "As for the natural numbers, the definition of `Even n` is inductive:\n",
    "```agda\n",
    "data Even : ℕ → Set where\n",
    "  ev-zero : Even 0\n",
    "  ev-suc2 : (n : ℕ) → Even n → Even (suc (suc n))\n",
    "```\n",
    "In the base case, the term `ev-zero` is evidence that `Even 0` holds.\n",
    "In the inductive case, if we have some evidence `x : Even n` that `n` is even,\n",
    "then we can construct evidence `ev-suc2 n x : Even (suc (suc n))` that `suc (suc n)` is even.\n",
    "\n",
    "**IMPLICIT ARGUMENTS:**\n",
    "The natural number `n` appears three times in `ev-suc2`:\n",
    "As the first argument, as the argument of `Even`, and as the argument of `suc`.\n",
    "Given this rich context, Agda is usually able to deduce what is `n` and its type `ℕ`\n",
    "in expressions omitting `n`, such as `ev-suc2 _ x` (the type of `x` tells us what is `n` here).\n",
    "We can go one step further, and mark the first argument of `ev-suc2` as an *implicit argument* `{n : ℕ}`,\n",
    "allowing us to write directly things such as `ev-suc2 x`.\n",
    "If at any moment we want/need to provide an implicit argument, we can always write `ev-suc2 {n} x`,\n",
    "as the examples below demonstrate.\n",
    "\n",
    "As an heuristical approach, one can first write the definition with all the explicit arguments,\n",
    "and then try to make some implicit to improve readability\n",
    "(iteratively, until Agda complains that it cannot solve the corresponding constraints)."
   ]
  },
  {
   "cell_type": "code",
   "execution_count": 41,
   "metadata": {},
   "outputs": [
    {
     "name": "stdout",
     "output_type": "stream",
     "text": [
      "*Type-checking*\n",
      "*Type-checking*(Checking lab00.nat.even (/Users/lorenzo/Dropbox/Workspace/teaching/Teaching/2018-2019/summer semester/LDI (logika dla informatyków)/lab/agda/lab00/nat/even.agda).\n",
      ")\n",
      "*All Done*\n"
     ]
    }
   ],
   "source": [
    "module lab00.nat.even where\n",
    "\n",
    "open import lab00.nat\n",
    "\n",
    "-- indexed inductive type\n",
    "data Even : ℕ → Set where\n",
    "  ev-zero : Even 0\n",
    "  ev-suc2 : {n : ℕ} → Even n → Even (suc (suc n))\n",
    "  \n",
    "-- the sum of two even numbers is even\n",
    "+-ev' : (m n : ℕ) → Even m → Even n → Even (m + n)\n",
    "+-ev' 0 n ev-zero evn = evn\n",
    "+-ev' (suc (suc m)) n (ev-suc2 evm) evn = ev-suc2 {m + n} (+-ev' m n evm evn)\n",
    "\n",
    "-- in compact form (Agda can correctly infer all the implicit arguments)\n",
    "+-ev : {m n : ℕ} → Even m → Even n → Even (m + n)\n",
    "+-ev ev-zero evn = evn\n",
    "+-ev (ev-suc2 evm) evn = ev-suc2 (+-ev evm evn)"
   ]
  },
  {
   "cell_type": "markdown",
   "metadata": {},
   "source": [
    "**Exercise.** Formalise and prove that the sum of *three* even numbers is even."
   ]
  },
  {
   "cell_type": "code",
   "execution_count": 42,
   "metadata": {},
   "outputs": [
    {
     "name": "stdout",
     "output_type": "stream",
     "text": [
      "*Type-checking*\n",
      "*Type-checking*(Checking lab00.nat.even-three (/Users/lorenzo/Dropbox/Workspace/teaching/Teaching/2018-2019/summer semester/LDI (logika dla informatyków)/lab/agda/lab00/nat/even-three.agda).\n",
      ")\n",
      "*Type-checking*( Checking lab00.nat.even (/Users/lorenzo/Dropbox/Workspace/teaching/Teaching/2018-2019/summer semester/LDI (logika dla informatyków)/lab/agda/lab00/nat/even.agda).\n",
      ")\n",
      "*All Goals*(?0 : _0\n",
      "?1 : ?0\n",
      "Sort _0  [ at /Users/lorenzo/Dropbox/Workspace/teaching/Teaching/2018-2019/summer semester/LDI (logika dla informatyków)/lab/agda/lab00/nat/even-three.agda:6,9-10 ]\n",
      ")\n"
     ]
    }
   ],
   "source": [
    "module lab00.nat.even-three where\n",
    "\n",
    "open import lab00.nat\n",
    "open import lab00.nat.even\n",
    "\n",
    "++-ev : ?\n",
    "++-ev = ?"
   ]
  },
  {
   "cell_type": "code",
   "execution_count": 43,
   "metadata": {
    "tags": [
     "solution"
    ]
   },
   "outputs": [
    {
     "name": "stdout",
     "output_type": "stream",
     "text": [
      "*Type-checking*\n",
      "*Type-checking*(Checking lab00.nat.even-three (/Users/lorenzo/Dropbox/Workspace/teaching/Teaching/2018-2019/summer semester/LDI (logika dla informatyków)/lab/agda/lab00/nat/even-three.agda).\n",
      ")\n",
      "*Error*(/Users/lorenzo/Dropbox/Workspace/teaching/Teaching/2018-2019/summer semester/LDI (logika dla informatyków)/lab/agda/lab00/nat/even-three.agda:7,21-43\n",
      ".m != .m + .n of type ℕ\n",
      "when checking that the inferred type of an application\n",
      "  Even (.m + _n_6 evm evn evl)\n",
      "matches the expected type\n",
      "  Even (.m + .n + .l))\n"
     ]
    }
   ],
   "source": [
    "module lab00.nat.even-three where\n",
    "\n",
    "open import lab00.nat\n",
    "open import lab00.nat.even\n",
    "\n",
    "++-ev : {m n l : ℕ} → Even m → Even n → Even l → Even (m + n + l)\n",
    "++-ev evm evn evl = +-ev evm (+-ev evn evl)"
   ]
  },
  {
   "cell_type": "markdown",
   "metadata": {},
   "source": [
    "## Order\n",
    "We can also define the order total relation between natural numbers in the same fashion.\n",
    "```agda\n",
    "data _≤_ : ℕ → ℕ → Set where\n",
    "  0≤n : ∀ {n : ℕ} → 0 ≤ n\n",
    "  s≤s : ∀ {m n : ℕ} → m ≤ n → suc m ≤ suc n\n",
    "```\n",
    "In the first case, we say that `0 ≤ n` always holds;\n",
    "this is witnessed by the (base) constructor `0≤n`.\n",
    "In the second case, if `m ≤ n` holds (as witnessed by, say, `m≤n`),\n",
    "then `suc m ≤ suc n` also holds;\n",
    "this is witnessed by the second (inductive) constructor `s≤s x`."
   ]
  },
  {
   "cell_type": "code",
   "execution_count": 44,
   "metadata": {},
   "outputs": [
    {
     "name": "stdout",
     "output_type": "stream",
     "text": [
      "*Type-checking*\n",
      "*Type-checking*(Checking lab00.nat.leq (/Users/lorenzo/Dropbox/Workspace/teaching/Teaching/2018-2019/summer semester/LDI (logika dla informatyków)/lab/agda/lab00/nat/leq.agda).\n",
      ")\n",
      "*All Done*\n"
     ]
    }
   ],
   "source": [
    "module lab00.nat.leq where\n",
    "\n",
    "open import lab00.nat\n",
    "\n",
    "infix 4 _≤_\n",
    "\n",
    "data _≤_ : ℕ → ℕ → Set where\n",
    "  0≤n : {n : ℕ} → 0 ≤ n\n",
    "  s≤s : {m n : ℕ} → m ≤ n → suc m ≤ suc n\n",
    "\n",
    "-- some examples\n",
    "_ : 0 ≤ 1\n",
    "_ = 0≤n {1} -- could omit the implicit argument\n",
    "\n",
    "_ : 1 ≤ 100\n",
    "_ = s≤s {0} {99} (0≤n {99}) -- could omit the implicit arguments\n",
    "\n",
    "_ : 4 ≤ 1000\n",
    "_ = s≤s (s≤s (s≤s (s≤s 0≤n)))"
   ]
  },
  {
   "cell_type": "markdown",
   "metadata": {},
   "source": [
    "## Properties of relations\n",
    "In this part we formalise an prove that `_≤_` satisfies some common relational properties.\n",
    "\n",
    "**REFLEXIVITY:** We begin by giving an example proof that `_≤_` is *reflexive*, in the sense that\n",
    "```agda\n",
    "≤-refl : {n : ℕ} → n ≤ n\n",
    "```\n",
    "(We leave the parameter implicit because 1) Agda can infer it most of the times,\n",
    "and 2) it will make the following code more readable.)\n",
    "The proof that `_≤_` is reflexive is by induction:\n",
    "```agda\n",
    "≤-refl {0}     = 0≤n\n",
    "≤-refl {suc n} = s≤s (≤-refl {n})\n",
    "```\n",
    "In the base case, we just use the fact that `0≤n {0} : 0 ≤ 0`.\n",
    "In the inductive case, the inductive hypothesis `≤-refl {n} : n ≤ n` is a proof that `n ≤ n` holds,\n",
    "and thus `s≤s (≤-refl {n}) : suc n ≤ suc n`, as required.\n",
    "\n",
    "**TRANSITIVITY:** We show that `_≤_` is *transitive*, in the sense that\n",
    "```agda\n",
    "≤-trans : {m n p : ℕ} → m ≤ n → n ≤ p → m ≤ p\n",
    "```\n",
    "While the previous proof was by induction on the natural number argument `{n : ℕ}`,\n",
    "for transitivity we do induction on the *evidence* that `m ≤ n` holds.\n",
    "```agda\n",
    "≤-trans 0≤n _               = 0≤n\n",
    "≤-trans (s≤s m≤n) (s≤s n≤p) = s≤s (≤-trans m≤n n≤p)\n",
    "```\n",
    "In the base case, the first (non-implicit) argument is `0≤n : 0 ≤ n`, from which we can deduce `m ≡ 0`,\n",
    "and consequently `0≤n : 0 ≤ p` is the term we are after; notice that the two occurrences of `0≤n` have different types (implicit parameters hide this information).\n",
    "In the inductive case, the first argument is `s≤s m≤n : suc m ≤ suc n`\n",
    "and the second argument is `s≤s n≤p : suc n ≤ suc p`,\n",
    "where `m≤n : m ≤ n` and `n≤p : n ≤ p`.\n",
    "By inductive assumption, `≤-trans m≤n n≤p : m ≤ p`,\n",
    "and thus `s≤s (≤-trans m≤n n≤p) : suc m ≤ suc p`, as required.\n",
    "Notice that the case\n",
    "```agda\n",
    "≤-trans (s≤s m≤n) 0≤n\n",
    "```\n",
    "cannot arise: The shape of the first argument implies that `n` is of the form `suc _`,\n",
    "and thus it cannot be `0`, as implied by the second argument.\n",
    "Agda detects that this case cannot occurr\n",
    "and does not complain that the corresponding definition is missing."
   ]
  },
  {
   "cell_type": "code",
   "execution_count": 45,
   "metadata": {},
   "outputs": [
    {
     "name": "stdout",
     "output_type": "stream",
     "text": [
      "*Type-checking*\n",
      "*Type-checking*(Checking lab00.nat.leq.prop (/Users/lorenzo/Dropbox/Workspace/teaching/Teaching/2018-2019/summer semester/LDI (logika dla informatyków)/lab/agda/lab00/nat/leq/prop.agda).\n",
      ")\n",
      "*Type-checking*( Checking lab00.nat.leq (/Users/lorenzo/Dropbox/Workspace/teaching/Teaching/2018-2019/summer semester/LDI (logika dla informatyków)/lab/agda/lab00/nat/leq.agda).\n",
      ")\n",
      "*All Done*\n"
     ]
    }
   ],
   "source": [
    "module lab00.nat.leq.prop where\n",
    "\n",
    "open import lab00.nat\n",
    "open import lab00.nat.leq\n",
    "\n",
    "≤-refl : {n : ℕ} → n ≤ n\n",
    "≤-refl {0} = 0≤n\n",
    "≤-refl {suc n} = s≤s (≤-refl {n}) -- we could omit {n}, left for clairty here\n",
    "\n",
    "≤-trans : {m n p : ℕ} → m ≤ n → n ≤ p → m ≤ p\n",
    "≤-trans 0≤n _               = 0≤n\n",
    "≤-trans (s≤s m≤n) (s≤s n≤p) = s≤s (≤-trans m≤n n≤p)"
   ]
  },
  {
   "cell_type": "markdown",
   "metadata": {},
   "source": [
    "**Exercise**. Prove that `_≤_` is *anti-symmetric*.\n",
    "\n",
    "*Hint:* Do induction on `_≤_`.\n",
    "As in transitivity, in the inductive step not all cases can arise (two out of four)."
   ]
  },
  {
   "cell_type": "code",
   "execution_count": 46,
   "metadata": {},
   "outputs": [
    {
     "name": "stdout",
     "output_type": "stream",
     "text": [
      "*Type-checking*\n",
      "*Type-checking*(Checking lab00.nat.leq.asym (/Users/lorenzo/Dropbox/Workspace/teaching/Teaching/2018-2019/summer semester/LDI (logika dla informatyków)/lab/agda/lab00/nat/leq/asym.agda).\n",
      ")\n",
      "*All Goals*(?0 : .m ≤ .n → .n ≤ .m → .m ≡ .n\n",
      ")\n"
     ]
    }
   ],
   "source": [
    "module lab00.nat.leq.asym where\n",
    "\n",
    "open import lab00.eq\n",
    "open import lab00.nat\n",
    "open import lab00.nat.leq\n",
    "\n",
    "≤-asym : {m n : ℕ} → m ≤ n → n ≤ m → m ≡ n\n",
    "≤-asym = ?"
   ]
  },
  {
   "cell_type": "code",
   "execution_count": 47,
   "metadata": {
    "tags": [
     "solution"
    ]
   },
   "outputs": [
    {
     "name": "stdout",
     "output_type": "stream",
     "text": [
      "*Type-checking*\n",
      "*Type-checking*(Checking lab00.nat.leq.asym (/Users/lorenzo/Dropbox/Workspace/teaching/Teaching/2018-2019/summer semester/LDI (logika dla informatyków)/lab/agda/lab00/nat/leq/asym.agda).\n",
      ")\n",
      "*All Done*\n"
     ]
    }
   ],
   "source": [
    "module lab00.nat.leq.asym where\n",
    "\n",
    "open import lab00.eq\n",
    "open import lab00.nat\n",
    "open import lab00.nat.leq\n",
    "\n",
    "≤-asym : {m n : ℕ} → m ≤ n → n ≤ m → m ≡ n\n",
    "≤-asym 0≤n 0≤n = refl -- m = n = 0\n",
    "≤-asym {suc m} {suc n} (s≤s m≤n) (s≤s n≤m) =\n",
    "    suc m ≡⟨ cong suc (≤-asym m≤n n≤m) ⟩ --inductive assumption\n",
    "    suc n ∎    "
   ]
  },
  {
   "cell_type": "markdown",
   "metadata": {},
   "source": [
    "# Additional material"
   ]
  },
  {
   "cell_type": "markdown",
   "metadata": {},
   "source": [
    "## Inequality chains\n",
    "In a way similar to equality chains, we can introduce inequality chain as a syntactic sugaring to simplify writing proofs involving chains of `_≤_`.\n",
    "Like for equality chains, the code below can be skipped on a first reading. Usage example:\n",
    "```agda\n",
    "ex : (a b c d : ℕ) → a ≤ b → b ≡ c → c ≤ d → a ≤ d\n",
    "ex a b c d  a≤b b≡c c≤d =\n",
    "    start\n",
    "        a ≤⟨ a≤b ⟩\n",
    "        b ≤≡⟨ b≡c ⟩\n",
    "        c ≤⟨ c≤d ⟩\n",
    "        d\n",
    "    stop\n",
    "```"
   ]
  },
  {
   "cell_type": "code",
   "execution_count": 48,
   "metadata": {},
   "outputs": [
    {
     "name": "stdout",
     "output_type": "stream",
     "text": [
      "*Type-checking*\n",
      "*Type-checking*(Checking lab00.nat.leq.chain (/Users/lorenzo/Dropbox/Workspace/teaching/Teaching/2018-2019/summer semester/LDI (logika dla informatyków)/lab/agda/lab00/nat/leq/chain.agda).\n",
      ")\n",
      "*Type-checking*( Checking lab00.nat.leq.prop (/Users/lorenzo/Dropbox/Workspace/teaching/Teaching/2018-2019/summer semester/LDI (logika dla informatyków)/lab/agda/lab00/nat/leq/prop.agda).\n",
      ")\n",
      "*All Done*\n"
     ]
    }
   ],
   "source": [
    "module lab00.nat.leq.chain where\n",
    "\n",
    "open import lab00.eq\n",
    "open import lab00.nat\n",
    "open import lab00.nat.leq\n",
    "open import lab00.nat.leq.prop\n",
    "\n",
    "infix  1 start_\n",
    "infixr 2 _≤⟨⟩_ _≤⟨_⟩_ _≤≡⟨_⟩_\n",
    "infix  3 _stop\n",
    "\n",
    "start_ : {x y : ℕ} → x ≤ y → x ≤ y\n",
    "start p = p\n",
    "\n",
    "_≤⟨⟩_ : (x : ℕ) {y : ℕ} → x ≤ y → x ≤ y\n",
    "_ ≤⟨⟩ p = p\n",
    "\n",
    "-- transitivity\n",
    "_≤⟨_⟩_ : (x : ℕ) {y z : ℕ} → x ≤ y → y ≤ z → x ≤ z\n",
    "_ ≤⟨ x≤y ⟩ y≤z = ≤-trans x≤y y≤z\n",
    "\n",
    "-- substitutivity\n",
    "_≤≡⟨_⟩_ : (x : ℕ) {y z : ℕ} → x ≡ y → y ≤ z → x ≤ z\n",
    "_≤≡⟨_⟩_ x {y} {z} x≡y y≤z = subst (_≤ z) (sym x≡y) y≤z\n",
    "\n",
    "-- reflexivity\n",
    "_stop : (x : ℕ) -> x ≤ x\n",
    "_ stop = ≤-refl"
   ]
  },
  {
   "cell_type": "markdown",
   "metadata": {},
   "source": [
    "**PRE-CONGRUENCE:** We want to show that the relation `_≤_` is a *pre-congruence* w.r.t. addition,\n",
    "in the following sense:\n",
    "```agda\n",
    "≤-precong : {m n p q : ℕ} → m ≤ n → p ≤ q → m + p ≤ n + q\n",
    "```\n",
    "(This is usually called *monotonicity* when `_≤_` is an order (as in our case).)\n",
    "\n",
    "**Exercise.** Show that `_≤_` is a pre-congruence w.r.t. addition.\n",
    "It is recommended to proceed in the following three steps.\n",
    "1. Show that `_≤_` is a right pre-congruence:\n",
    "```agda\n",
    "≤-precong-right : (m p q : ℕ) → p ≤ q → m + p ≤ m + q\n",
    "```\n",
    "*Hint: Do induction on `m`*.\n",
    "2. Show that `_≤_` is a left pre-congruence:\n",
    "```agda\n",
    "≤-precong-left : (m n p : ℕ) → m ≤ n → m + p ≤ n + p\n",
    "```\n",
    "*Hint: Use the previous point and commutativity of addition*.\n",
    "3. Put together the two previous points and show that `_≤_` is a pre-congruence.\n",
    "\n",
    "The solution to the last two points can be greatly improved by using inequality chains."
   ]
  },
  {
   "cell_type": "code",
   "execution_count": 49,
   "metadata": {
    "tags": [
     "solution"
    ]
   },
   "outputs": [
    {
     "name": "stdout",
     "output_type": "stream",
     "text": [
      "*Type-checking*\n",
      "*Type-checking*(Checking lab00.nat.leq.precong (/Users/lorenzo/Dropbox/Workspace/teaching/Teaching/2018-2019/summer semester/LDI (logika dla informatyków)/lab/agda/lab00/nat/leq/precong.agda).\n",
      ")\n",
      "*Type-checking*( Checking lab00.nat.leq.chain (/Users/lorenzo/Dropbox/Workspace/teaching/Teaching/2018-2019/summer semester/LDI (logika dla informatyków)/lab/agda/lab00/nat/leq/chain.agda).\n",
      ")\n",
      "*All Done*\n"
     ]
    }
   ],
   "source": [
    "module lab00.nat.leq.precong where\n",
    "\n",
    "open import lab00.eq\n",
    "open import lab00.nat\n",
    "open import lab00.nat.leq\n",
    "open import lab00.nat.comm\n",
    "open import lab00.nat.leq.chain\n",
    "\n",
    "≤-precong-right : {m p q : ℕ} → p ≤ q → m + p ≤ m + q\n",
    "≤-precong-right {0} p≤q = p≤q\n",
    "≤-precong-right {suc m} {p} {q} p≤q = s≤s (≤-precong-right {m} {p} {q} p≤q)\n",
    "\n",
    "≤-precong-left : {m n p : ℕ} → m ≤ n → m + p ≤ n + p\n",
    "≤-precong-left {m} {n} {p} m≤n =\n",
    "    start\n",
    "        m + p ≤≡⟨ +-comm m p ⟩\n",
    "        p + m ≤⟨ ≤-precong-right m≤n ⟩\n",
    "        p + n ≤≡⟨ +-comm p n ⟩\n",
    "        n + p\n",
    "    stop\n",
    "\n",
    "≤-precong : {m n p q : ℕ} → m ≤ n → p ≤ q → m + p ≤ n + q\n",
    "≤-precong {m} {n} {p} {q} m≤n p≤q =\n",
    "    start\n",
    "        m + p ≤⟨ ≤-precong-right p≤q ⟩\n",
    "        m + q ≤⟨ ≤-precong-left m≤n ⟩\n",
    "        n + q\n",
    "    stop"
   ]
  },
  {
   "cell_type": "markdown",
   "metadata": {},
   "source": [
    "## Mutual inductive definitions\n",
    "**Exercise.** Define even and odd numbers by a *mutual* inductive definition. Define addition on them, by a *mutual* recursive definition."
   ]
  },
  {
   "cell_type": "code",
   "execution_count": 50,
   "metadata": {},
   "outputs": [
    {
     "name": "stdout",
     "output_type": "stream",
     "text": [
      "*Type-checking*\n",
      "*Type-checking*(Checking lab00.even-odd (/Users/lorenzo/Dropbox/Workspace/teaching/Teaching/2018-2019/summer semester/LDI (logika dla informatyków)/lab/agda/lab00/even-odd.agda).\n",
      ")\n",
      "*All Done*\n"
     ]
    }
   ],
   "source": [
    "module lab00.even-odd where\n",
    "\n",
    "open import lab00.nat\n",
    "\n",
    "data Even : ℕ → Set\n",
    "data Odd : ℕ → Set\n",
    "\n",
    "data Even where\n",
    "-- TODO\n",
    "\n",
    "data Odd where\n",
    "-- TODO"
   ]
  },
  {
   "cell_type": "code",
   "execution_count": 51,
   "metadata": {
    "tags": [
     "solution"
    ]
   },
   "outputs": [
    {
     "name": "stdout",
     "output_type": "stream",
     "text": [
      "*Type-checking*\n",
      "*Type-checking*(Checking lab00.even-odd (/Users/lorenzo/Dropbox/Workspace/teaching/Teaching/2018-2019/summer semester/LDI (logika dla informatyków)/lab/agda/lab00/even-odd.agda).\n",
      ")\n",
      "*All Done*\n"
     ]
    }
   ],
   "source": [
    "module lab00.even-odd where\n",
    "\n",
    "open import lab00.nat\n",
    "\n",
    "data Even : ℕ → Set\n",
    "data Odd : ℕ → Set\n",
    "\n",
    "data Even where\n",
    "  zero : Even zero\n",
    "  plusE : {n : ℕ} → Odd n → Even (suc n)\n",
    "  \n",
    "data Odd where\n",
    "  plusO : {n : ℕ} → Even n → Odd (suc n)\n",
    "\n",
    "-- plus functions defined by mutual recursion\n",
    "plusEE : {m n : ℕ} → Even m → Even n → Even (m + n)\n",
    "plusEO : {m n : ℕ} → Even m → Odd n → Odd (m + n)\n",
    "plusOE : {m n : ℕ} → Odd m → Even n → Odd (m + n)\n",
    "plusOO : {m n : ℕ} → Odd m → Odd n → Even (m + n)\n",
    "\n",
    "plusEE zero n = n\n",
    "plusEE (plusE m) n = plusE (plusOE m n)\n",
    "\n",
    "plusEO zero n = n\n",
    "plusEO (plusE m) n = plusO (plusOO m n)\n",
    "\n",
    "plusOE (plusO m) n = plusO (plusEE m n)\n",
    "\n",
    "plusOO (plusO m) n = plusE (plusEO m n)"
   ]
  },
  {
   "cell_type": "code",
   "execution_count": null,
   "metadata": {},
   "outputs": [],
   "source": []
  }
 ],
 "metadata": {
  "celltoolbar": "Tags",
  "kernelspec": {
   "display_name": "Agda",
   "language": "agda",
   "name": "agda"
  },
  "language_info": {
   "file_extension": ".agda",
   "mimetype": "text/agda",
   "name": "agda"
  },
  "latex_envs": {
   "LaTeX_envs_menu_present": true,
   "autoclose": false,
   "autocomplete": true,
   "bibliofile": "biblio.bib",
   "cite_by": "apalike",
   "current_citInitial": 1,
   "eqLabelWithNumbers": true,
   "eqNumInitial": 1,
   "hotkeys": {
    "equation": "Ctrl-E",
    "itemize": "Ctrl-I"
   },
   "labels_anchors": false,
   "latex_user_defs": false,
   "report_style_numbering": false,
   "user_envs_cfg": false
  },
  "nbTranslate": {
   "displayLangs": [
    "*"
   ],
   "hotkey": "alt-t",
   "langInMainMenu": true,
   "sourceLang": "en",
   "targetLang": "fr",
   "useGoogleTranslate": true
  }
 },
 "nbformat": 4,
 "nbformat_minor": 2
}
